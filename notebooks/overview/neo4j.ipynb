{
 "cells": [
  {
   "cell_type": "markdown",
   "id": "2725bedf",
   "metadata": {},
   "source": [
    "Verifico si se instaló correctamanete e importo demás librerías a utilizar a lo largo del trabajo"
   ]
  },
  {
   "cell_type": "code",
   "execution_count": 14,
   "id": "becaf3ab",
   "metadata": {},
   "outputs": [
    {
     "name": "stdout",
     "output_type": "stream",
     "text": [
      "2021.2.4\n"
     ]
    }
   ],
   "source": [
    "import pandas as pd\n",
    "import py2neo\n",
    "import time  \n",
    "\n",
    "from py2neo import Graph\n",
    "\n",
    "print(py2neo.__version__)\n"
   ]
  },
  {
   "cell_type": "markdown",
   "id": "649a327e",
   "metadata": {},
   "source": [
    "Importamos y nos contectamos a Neo4j:"
   ]
  },
  {
   "cell_type": "code",
   "execution_count": 15,
   "id": "182d0a43",
   "metadata": {},
   "outputs": [
    {
     "name": "stdout",
     "output_type": "stream",
     "text": [
      "[{'1': 1}]\n"
     ]
    }
   ],
   "source": [
    "# En auth usamos usuario y contaseña creados\n",
    "# Observación: BDNR_ml-25m es el nombre del DBMS (la instancia del motor que estás ejecutando), en tanto neo4j es el nombre del usuario por defecto\n",
    "graph = Graph(\"bolt://localhost:7687\", auth=(\"neo4j\", \"bdnr2025\"))\n",
    "\n",
    "# Verificamos que funcione\n",
    "print(graph.run(\"RETURN 1\").data())\n"
   ]
  },
  {
   "cell_type": "markdown",
   "id": "6fa5a1f4",
   "metadata": {},
   "source": [
    "Cargamos una porción del dataset con pandas"
   ]
  },
  {
   "cell_type": "code",
   "execution_count": 16,
   "id": "362f6804",
   "metadata": {},
   "outputs": [
    {
     "data": {
      "text/html": [
       "<div>\n",
       "<style scoped>\n",
       "    .dataframe tbody tr th:only-of-type {\n",
       "        vertical-align: middle;\n",
       "    }\n",
       "\n",
       "    .dataframe tbody tr th {\n",
       "        vertical-align: top;\n",
       "    }\n",
       "\n",
       "    .dataframe thead th {\n",
       "        text-align: right;\n",
       "    }\n",
       "</style>\n",
       "<table border=\"1\" class=\"dataframe\">\n",
       "  <thead>\n",
       "    <tr style=\"text-align: right;\">\n",
       "      <th></th>\n",
       "      <th>userId</th>\n",
       "      <th>movieId</th>\n",
       "      <th>rating</th>\n",
       "      <th>timestamp</th>\n",
       "    </tr>\n",
       "  </thead>\n",
       "  <tbody>\n",
       "    <tr>\n",
       "      <th>0</th>\n",
       "      <td>1</td>\n",
       "      <td>296</td>\n",
       "      <td>5.0</td>\n",
       "      <td>1147880044</td>\n",
       "    </tr>\n",
       "    <tr>\n",
       "      <th>1</th>\n",
       "      <td>1</td>\n",
       "      <td>306</td>\n",
       "      <td>3.5</td>\n",
       "      <td>1147868817</td>\n",
       "    </tr>\n",
       "    <tr>\n",
       "      <th>2</th>\n",
       "      <td>1</td>\n",
       "      <td>307</td>\n",
       "      <td>5.0</td>\n",
       "      <td>1147868828</td>\n",
       "    </tr>\n",
       "    <tr>\n",
       "      <th>3</th>\n",
       "      <td>1</td>\n",
       "      <td>665</td>\n",
       "      <td>5.0</td>\n",
       "      <td>1147878820</td>\n",
       "    </tr>\n",
       "    <tr>\n",
       "      <th>4</th>\n",
       "      <td>1</td>\n",
       "      <td>899</td>\n",
       "      <td>3.5</td>\n",
       "      <td>1147868510</td>\n",
       "    </tr>\n",
       "  </tbody>\n",
       "</table>\n",
       "</div>"
      ],
      "text/plain": [
       "   userId  movieId  rating   timestamp\n",
       "0       1      296     5.0  1147880044\n",
       "1       1      306     3.5  1147868817\n",
       "2       1      307     5.0  1147868828\n",
       "3       1      665     5.0  1147878820\n",
       "4       1      899     3.5  1147868510"
      ]
     },
     "execution_count": 16,
     "metadata": {},
     "output_type": "execute_result"
    }
   ],
   "source": [
    "# Verificar el path según donde tengamos los datos guardados\n",
    "ratings_df = pd.read_csv(\"/Users/usuario/Desktop/BDNR/dataset/ml-25m/ratings.csv\")\n",
    "\n",
    "# Mostramos las primeras filas\n",
    "ratings_df.head()\n"
   ]
  },
  {
   "cell_type": "markdown",
   "id": "9eaf2c8d",
   "metadata": {},
   "source": [
    "Subimos una pequeña muestra a Neo4j para corroborar su funcionamiento, además agrego un par de líneas para medir el tiempo de carga de datos"
   ]
  },
  {
   "cell_type": "code",
   "execution_count": 17,
   "id": "c4bae1a6",
   "metadata": {},
   "outputs": [
    {
     "name": "stdout",
     "output_type": "stream",
     "text": [
      "Tiempo de carga: 3.28820538520813 segundos\n"
     ]
    }
   ],
   "source": [
    "# Seleccionamos una muestra del df ratings (primeras 1000 filas)\n",
    "subset = ratings_df.head(1000)\n",
    "\n",
    "# El método .to_dict(\"records\") convierte el df en una lista de diccionarios\n",
    "rating_data = subset.to_dict(\"records\")  \n",
    "\n",
    "# Borramos todo antes de comenzar (en caso que tengamos algún nodo o relación en el grafo)\n",
    "graph.run(\"MATCH (n) DETACH DELETE n\")\n",
    "\n",
    "# Iniciamos temporizador\n",
    "start_time = time.time()\n",
    "\n",
    "# UNWIND \"desempaqueta\" esa lista dentro de Cypher para poder trabajar con cada fila como si fuera un ciclo for\n",
    "# Creamos nodos: User y Movie, y relación: rated\n",
    "# Acá podemos hacer alguna comparativa utilizando un for en vez de unwind\n",
    "query = \"\"\"\n",
    "UNWIND $data AS row\n",
    "MERGE (u:User {userId: row.userId})\n",
    "MERGE (m:Movie {movieId: row.movieId})\n",
    "MERGE (u)-[r:RATED]->(m)\n",
    "SET r.rating = row.rating, r.timestamp = row.timestamp\n",
    "\"\"\"\n",
    "\n",
    "# Ejecutmos la consulta Cypher desde Python\n",
    "graph.run(query, data=rating_data)\n",
    "\n",
    "# Al finalizar la carga, se calcula y muestra cuánto tiempo tomó completar la operación\n",
    "end_time = time.time()\n",
    "\n",
    "print(f\"Tiempo de carga: {end_time - start_time} segundos\")"
   ]
  },
  {
   "cell_type": "markdown",
   "id": "05e82e09",
   "metadata": {},
   "source": [
    "### Analisis del dataset:\n",
    "- Leemos todos los archivos\n",
    "- Creamos función para resumen rápido\n",
    "- Ejecutamos análisis para cada dataset"
   ]
  },
  {
   "cell_type": "code",
   "execution_count": 18,
   "id": "148652a6",
   "metadata": {},
   "outputs": [],
   "source": [
    "# Función para mostrar resumen\n",
    "def resumen_tablas(dfs, nombres):\n",
    "    return pd.DataFrame([\n",
    "        {\n",
    "            \"Archivo\": nombre,\n",
    "            \"Filas\": df.shape[0],\n",
    "            \"Columnas\": df.shape[1],\n",
    "            \"Nulos\": df.isnull().sum().sum(),\n",
    "            \"Tipos\": \", \".join(df.dtypes.astype(str).unique())\n",
    "        }\n",
    "        for df, nombre in zip(dfs, nombres)\n",
    "    ])\n"
   ]
  },
  {
   "cell_type": "code",
   "execution_count": 19,
   "id": "c709b39a",
   "metadata": {},
   "outputs": [
    {
     "data": {
      "text/html": [
       "<div>\n",
       "<style scoped>\n",
       "    .dataframe tbody tr th:only-of-type {\n",
       "        vertical-align: middle;\n",
       "    }\n",
       "\n",
       "    .dataframe tbody tr th {\n",
       "        vertical-align: top;\n",
       "    }\n",
       "\n",
       "    .dataframe thead th {\n",
       "        text-align: right;\n",
       "    }\n",
       "</style>\n",
       "<table border=\"1\" class=\"dataframe\">\n",
       "  <thead>\n",
       "    <tr style=\"text-align: right;\">\n",
       "      <th></th>\n",
       "      <th>Archivo</th>\n",
       "      <th>Filas</th>\n",
       "      <th>Columnas</th>\n",
       "      <th>Nulos</th>\n",
       "      <th>Tipos</th>\n",
       "    </tr>\n",
       "  </thead>\n",
       "  <tbody>\n",
       "    <tr>\n",
       "      <th>0</th>\n",
       "      <td>ratings</td>\n",
       "      <td>25000095</td>\n",
       "      <td>4</td>\n",
       "      <td>0</td>\n",
       "      <td>int64, float64</td>\n",
       "    </tr>\n",
       "    <tr>\n",
       "      <th>1</th>\n",
       "      <td>movies</td>\n",
       "      <td>62423</td>\n",
       "      <td>3</td>\n",
       "      <td>0</td>\n",
       "      <td>int64, object</td>\n",
       "    </tr>\n",
       "    <tr>\n",
       "      <th>2</th>\n",
       "      <td>tags</td>\n",
       "      <td>1093360</td>\n",
       "      <td>4</td>\n",
       "      <td>16</td>\n",
       "      <td>int64, object</td>\n",
       "    </tr>\n",
       "    <tr>\n",
       "      <th>3</th>\n",
       "      <td>genome_tags</td>\n",
       "      <td>1128</td>\n",
       "      <td>2</td>\n",
       "      <td>0</td>\n",
       "      <td>int64, object</td>\n",
       "    </tr>\n",
       "    <tr>\n",
       "      <th>4</th>\n",
       "      <td>genome_scores</td>\n",
       "      <td>15584448</td>\n",
       "      <td>3</td>\n",
       "      <td>0</td>\n",
       "      <td>int64, float64</td>\n",
       "    </tr>\n",
       "    <tr>\n",
       "      <th>5</th>\n",
       "      <td>links</td>\n",
       "      <td>62423</td>\n",
       "      <td>3</td>\n",
       "      <td>107</td>\n",
       "      <td>int64, float64</td>\n",
       "    </tr>\n",
       "  </tbody>\n",
       "</table>\n",
       "</div>"
      ],
      "text/plain": [
       "         Archivo     Filas  Columnas  Nulos           Tipos\n",
       "0        ratings  25000095         4      0  int64, float64\n",
       "1         movies     62423         3      0   int64, object\n",
       "2           tags   1093360         4     16   int64, object\n",
       "3    genome_tags      1128         2      0   int64, object\n",
       "4  genome_scores  15584448         3      0  int64, float64\n",
       "5          links     62423         3    107  int64, float64"
      ]
     },
     "execution_count": 19,
     "metadata": {},
     "output_type": "execute_result"
    }
   ],
   "source": [
    "# Ruta base\n",
    "base_path = \"/Users/usuario/Desktop/BDNR/dataset/ml-25m\"\n",
    "\n",
    "# Leer datasets\n",
    "ratings = pd.read_csv(f\"{base_path}/ratings.csv\")\n",
    "movies = pd.read_csv(f\"{base_path}/movies.csv\")\n",
    "tags = pd.read_csv(f\"{base_path}/tags.csv\")\n",
    "genome_tags = pd.read_csv(f\"{base_path}/genome-tags.csv\")\n",
    "genome_scores = pd.read_csv(f\"{base_path}/genome-scores.csv\")\n",
    "\n",
    "links = pd.read_csv(f\"{base_path}/links.csv\")\n",
    "\n",
    "dfs = [ratings, movies, tags, genome_tags, genome_scores, links]\n",
    "nombres = [\"ratings\", \"movies\", \"tags\", \"genome_tags\", \"genome_scores\", \"links\"]\n",
    "\n",
    "# Ejecutamos resumen\n",
    "resumen_tablas(dfs, nombres)\n"
   ]
  },
  {
   "cell_type": "markdown",
   "id": "d1f78862",
   "metadata": {},
   "source": [
    "En base al análisis de los archivos y pruebas iniciales de carga, decidimos trabajar con una muestra de 500 usuarios de \"ratings.csv\", filtrando en base a eso los demás archivos. Esto nos permite reducir el volumen de datos manteniendo la coherencia del conjunto. Además, omitimos \"links.csv\" ya que contiene identificadores externos que no son relevantes para nuestro análisis y presenta varios valores nulos."
   ]
  },
  {
   "cell_type": "markdown",
   "id": "936c4969",
   "metadata": {},
   "source": [
    "### Preprocesamiento y Análisis\n",
    "A lo largo del notebook, realizamos el proceso completo para trabajar con una muestra representativa del dataset MovieLens 25M:\n",
    "- Cargamos los datos y aplicamos un preprocesamiento cuidadoso para reducir volumen y mantener la coherencia entre entidades.\n",
    "- Evaluamos el rendimiento entre dos técnicas comunes de carga en Neo4j: FOR + MERGE vs UNWIND + MERGE.\n",
    "- Cargamos los distintos nodos y relaciones acorde al diseño propuesto (usando la estrategia más eficiente).\n",
    "- Ejecutamos algunas consultas para verificar el contenido y evaluar el modelo.\n",
    "- Realizamos pruebas sobre performance, expresividad y posibles mejoras (ej: Modificación/agregado de datos)."
   ]
  },
  {
   "cell_type": "code",
   "execution_count": 20,
   "id": "f3a78037",
   "metadata": {},
   "outputs": [
    {
     "data": {
      "text/html": [
       "(No data)"
      ],
      "text/plain": [
       "(No data)"
      ]
     },
     "execution_count": 20,
     "metadata": {},
     "output_type": "execute_result"
    }
   ],
   "source": [
    "# Borramos todo antes de comenzar (en caso que tengamos algún nodo o relación en el grafo)\n",
    "graph.run(\"MATCH (n) DETACH DELETE n\")"
   ]
  },
  {
   "cell_type": "markdown",
   "id": "7e11215d",
   "metadata": {},
   "source": [
    "#### Carga de datos y preprocesamiento\n",
    "Debido al tamaño del dataset completo (más de 25 millones de ratings), trabajamos con una muestra representativa que incluye:\n",
    "- 500 usuarios únicos seleccionados aleatoriamente.\n",
    "- Las películas asociadas a esos usuarios.\n",
    "- Todos los ratings, tags y scores vinculados a esas películas.\n",
    "- Todas las etiquetas (genome_tags) ya que son pocas (1128).\n",
    "- En el caso de las películas, procesamos el campo genres (cadena separada por \"|\") para convertirlo en una lista de géneros. Esto es fundamental para luego modelar correctamente las relaciones HAS_GENRE en Neo4j.\n"
   ]
  },
  {
   "cell_type": "code",
   "execution_count": 44,
   "id": "16ea40ae",
   "metadata": {},
   "outputs": [],
   "source": [
    "import re\n",
    "\n",
    "# Función que extrae el año del titulo de la película\n",
    "def extract_year(title):\n",
    "    match = re.search(r\"\\((\\d{4})\\)$\", title)\n",
    "    return int(match.group(1)) if match else None\n",
    "\n",
    "# Filtrar usuarios y ratings\n",
    "selected_users = ratings['userId'].unique()[:500]  # Tomamos 500 usuarios\n",
    "# A modo genérco, df[df['columna'].isin('lista')] devuelve solo las filas del df donde el valor en 'columna' está presente en 'lista'\n",
    "filtered_ratings = ratings[ratings['userId'].isin(selected_users)] # Filtra el df quedándose solo con las filas cuyo userId esté en la lista selected_users\n",
    "\n",
    "# Películas asociadas\n",
    "filtered_movie_ids = filtered_ratings['movieId'].unique()\n",
    "filtered_movies = movies[movies['movieId'].isin(filtered_movie_ids)].copy()\n",
    "# Transformamos el campo genres a listas: Reemplazo valores nulos con \"\", y luego divido valores en una lista, salvo que sea vacía y asigno []\n",
    "filtered_movies.loc[:, \"genres\"] = filtered_movies[\"genres\"].fillna(\"\").apply(lambda x: x.split(\"|\") if x else [])\n",
    "# Creo nuevo campo denominado \"year\" (asociada al año de la película)\n",
    "filtered_movies.loc[:, \"year\"] = filtered_movies[\"title\"].apply(extract_year).astype(\"Int64\") # con \"astype(\"Int64\")\" fuerzo la conversión a enteros\n",
    "\n",
    "# Tags asociados a esas películas\n",
    "filtered_tags = tags[tags['movieId'].isin(filtered_movie_ids)]\n",
    "\n",
    "# Scores asociados solo a esas películas\n",
    "filtered_scores = genome_scores[genome_scores['movieId'].isin(filtered_movie_ids)]\n",
    "\n",
    "# Observación: Dado el tamaño de genome_tags, usamos el dataset entero (pocas muestras)\n"
   ]
  },
  {
   "cell_type": "markdown",
   "id": "105427db",
   "metadata": {},
   "source": [
    "Resumen de los datos filtrados"
   ]
  },
  {
   "cell_type": "code",
   "execution_count": 45,
   "id": "321cdb27",
   "metadata": {},
   "outputs": [
    {
     "data": {
      "text/html": [
       "<div>\n",
       "<style scoped>\n",
       "    .dataframe tbody tr th:only-of-type {\n",
       "        vertical-align: middle;\n",
       "    }\n",
       "\n",
       "    .dataframe tbody tr th {\n",
       "        vertical-align: top;\n",
       "    }\n",
       "\n",
       "    .dataframe thead th {\n",
       "        text-align: right;\n",
       "    }\n",
       "</style>\n",
       "<table border=\"1\" class=\"dataframe\">\n",
       "  <thead>\n",
       "    <tr style=\"text-align: right;\">\n",
       "      <th></th>\n",
       "      <th>Archivo</th>\n",
       "      <th>Filas</th>\n",
       "      <th>Columnas</th>\n",
       "      <th>Nulos</th>\n",
       "      <th>Tipos</th>\n",
       "    </tr>\n",
       "  </thead>\n",
       "  <tbody>\n",
       "    <tr>\n",
       "      <th>0</th>\n",
       "      <td>filtered_ratings</td>\n",
       "      <td>62834</td>\n",
       "      <td>4</td>\n",
       "      <td>0</td>\n",
       "      <td>int64, float64</td>\n",
       "    </tr>\n",
       "    <tr>\n",
       "      <th>1</th>\n",
       "      <td>filtered_movies</td>\n",
       "      <td>7141</td>\n",
       "      <td>4</td>\n",
       "      <td>15</td>\n",
       "      <td>int64, object, Int64</td>\n",
       "    </tr>\n",
       "    <tr>\n",
       "      <th>2</th>\n",
       "      <td>filtered_tags</td>\n",
       "      <td>811156</td>\n",
       "      <td>4</td>\n",
       "      <td>13</td>\n",
       "      <td>int64, object</td>\n",
       "    </tr>\n",
       "    <tr>\n",
       "      <th>3</th>\n",
       "      <td>genome_tags</td>\n",
       "      <td>1128</td>\n",
       "      <td>2</td>\n",
       "      <td>0</td>\n",
       "      <td>int64, object</td>\n",
       "    </tr>\n",
       "    <tr>\n",
       "      <th>4</th>\n",
       "      <td>filtered_scores</td>\n",
       "      <td>7641072</td>\n",
       "      <td>3</td>\n",
       "      <td>0</td>\n",
       "      <td>int64, float64</td>\n",
       "    </tr>\n",
       "  </tbody>\n",
       "</table>\n",
       "</div>"
      ],
      "text/plain": [
       "            Archivo    Filas  Columnas  Nulos                 Tipos\n",
       "0  filtered_ratings    62834         4      0        int64, float64\n",
       "1   filtered_movies     7141         4     15  int64, object, Int64\n",
       "2     filtered_tags   811156         4     13         int64, object\n",
       "3       genome_tags     1128         2      0         int64, object\n",
       "4   filtered_scores  7641072         3      0        int64, float64"
      ]
     },
     "execution_count": 45,
     "metadata": {},
     "output_type": "execute_result"
    }
   ],
   "source": [
    "# Dataset filtrados a  utilizar \n",
    "filtered_dfs = [filtered_ratings, filtered_movies, filtered_tags, genome_tags, filtered_scores]\n",
    "nombres = [\"filtered_ratings\", \"filtered_movies\", \"filtered_tags\", \"genome_tags\", \"filtered_scores\"]\n",
    "\n",
    "# Ejecutamos resumen\n",
    "resumen_tablas(filtered_dfs, nombres)\n"
   ]
  },
  {
   "cell_type": "code",
   "execution_count": 46,
   "id": "31613889",
   "metadata": {},
   "outputs": [
    {
     "data": {
      "text/html": [
       "<div>\n",
       "<style scoped>\n",
       "    .dataframe tbody tr th:only-of-type {\n",
       "        vertical-align: middle;\n",
       "    }\n",
       "\n",
       "    .dataframe tbody tr th {\n",
       "        vertical-align: top;\n",
       "    }\n",
       "\n",
       "    .dataframe thead th {\n",
       "        text-align: right;\n",
       "    }\n",
       "</style>\n",
       "<table border=\"1\" class=\"dataframe\">\n",
       "  <thead>\n",
       "    <tr style=\"text-align: right;\">\n",
       "      <th></th>\n",
       "      <th>movieId</th>\n",
       "      <th>title</th>\n",
       "      <th>genres</th>\n",
       "      <th>year</th>\n",
       "    </tr>\n",
       "  </thead>\n",
       "  <tbody>\n",
       "    <tr>\n",
       "      <th>0</th>\n",
       "      <td>1</td>\n",
       "      <td>Toy Story (1995)</td>\n",
       "      <td>[Adventure, Animation, Children, Comedy, Fantasy]</td>\n",
       "      <td>1995</td>\n",
       "    </tr>\n",
       "    <tr>\n",
       "      <th>1</th>\n",
       "      <td>2</td>\n",
       "      <td>Jumanji (1995)</td>\n",
       "      <td>[Adventure, Children, Fantasy]</td>\n",
       "      <td>1995</td>\n",
       "    </tr>\n",
       "    <tr>\n",
       "      <th>2</th>\n",
       "      <td>3</td>\n",
       "      <td>Grumpier Old Men (1995)</td>\n",
       "      <td>[Comedy, Romance]</td>\n",
       "      <td>1995</td>\n",
       "    </tr>\n",
       "    <tr>\n",
       "      <th>3</th>\n",
       "      <td>4</td>\n",
       "      <td>Waiting to Exhale (1995)</td>\n",
       "      <td>[Comedy, Drama, Romance]</td>\n",
       "      <td>1995</td>\n",
       "    </tr>\n",
       "    <tr>\n",
       "      <th>4</th>\n",
       "      <td>5</td>\n",
       "      <td>Father of the Bride Part II (1995)</td>\n",
       "      <td>[Comedy]</td>\n",
       "      <td>1995</td>\n",
       "    </tr>\n",
       "  </tbody>\n",
       "</table>\n",
       "</div>"
      ],
      "text/plain": [
       "   movieId                               title   \n",
       "0        1                    Toy Story (1995)  \\\n",
       "1        2                      Jumanji (1995)   \n",
       "2        3             Grumpier Old Men (1995)   \n",
       "3        4            Waiting to Exhale (1995)   \n",
       "4        5  Father of the Bride Part II (1995)   \n",
       "\n",
       "                                              genres  year  \n",
       "0  [Adventure, Animation, Children, Comedy, Fantasy]  1995  \n",
       "1                     [Adventure, Children, Fantasy]  1995  \n",
       "2                                  [Comedy, Romance]  1995  \n",
       "3                           [Comedy, Drama, Romance]  1995  \n",
       "4                                           [Comedy]  1995  "
      ]
     },
     "execution_count": 46,
     "metadata": {},
     "output_type": "execute_result"
    }
   ],
   "source": [
    "filtered_movies.head()"
   ]
  },
  {
   "cell_type": "markdown",
   "id": "9ed78246",
   "metadata": {},
   "source": [
    "Observación: El campo `timestamp` en `ratings` representa una marca temporal expresada como número entero (segundos desde el 1/1/1970 UTC). Más adelante evaluaremos su transformación y uso para consultas temporales."
   ]
  },
  {
   "cell_type": "code",
   "execution_count": 24,
   "id": "b9d11d34",
   "metadata": {},
   "outputs": [
    {
     "data": {
      "text/html": [
       "<div>\n",
       "<style scoped>\n",
       "    .dataframe tbody tr th:only-of-type {\n",
       "        vertical-align: middle;\n",
       "    }\n",
       "\n",
       "    .dataframe tbody tr th {\n",
       "        vertical-align: top;\n",
       "    }\n",
       "\n",
       "    .dataframe thead th {\n",
       "        text-align: right;\n",
       "    }\n",
       "</style>\n",
       "<table border=\"1\" class=\"dataframe\">\n",
       "  <thead>\n",
       "    <tr style=\"text-align: right;\">\n",
       "      <th></th>\n",
       "      <th>userId</th>\n",
       "      <th>movieId</th>\n",
       "      <th>rating</th>\n",
       "      <th>timestamp</th>\n",
       "    </tr>\n",
       "  </thead>\n",
       "  <tbody>\n",
       "    <tr>\n",
       "      <th>0</th>\n",
       "      <td>1</td>\n",
       "      <td>296</td>\n",
       "      <td>5.0</td>\n",
       "      <td>1147880044</td>\n",
       "    </tr>\n",
       "    <tr>\n",
       "      <th>1</th>\n",
       "      <td>1</td>\n",
       "      <td>306</td>\n",
       "      <td>3.5</td>\n",
       "      <td>1147868817</td>\n",
       "    </tr>\n",
       "    <tr>\n",
       "      <th>2</th>\n",
       "      <td>1</td>\n",
       "      <td>307</td>\n",
       "      <td>5.0</td>\n",
       "      <td>1147868828</td>\n",
       "    </tr>\n",
       "    <tr>\n",
       "      <th>3</th>\n",
       "      <td>1</td>\n",
       "      <td>665</td>\n",
       "      <td>5.0</td>\n",
       "      <td>1147878820</td>\n",
       "    </tr>\n",
       "    <tr>\n",
       "      <th>4</th>\n",
       "      <td>1</td>\n",
       "      <td>899</td>\n",
       "      <td>3.5</td>\n",
       "      <td>1147868510</td>\n",
       "    </tr>\n",
       "  </tbody>\n",
       "</table>\n",
       "</div>"
      ],
      "text/plain": [
       "   userId  movieId  rating   timestamp\n",
       "0       1      296     5.0  1147880044\n",
       "1       1      306     3.5  1147868817\n",
       "2       1      307     5.0  1147868828\n",
       "3       1      665     5.0  1147878820\n",
       "4       1      899     3.5  1147868510"
      ]
     },
     "execution_count": 24,
     "metadata": {},
     "output_type": "execute_result"
    }
   ],
   "source": [
    "filtered_ratings.head()"
   ]
  },
  {
   "cell_type": "markdown",
   "id": "7d84df6b",
   "metadata": {},
   "source": [
    "#### Evaluación de rendmiento: FOR + MERGE vs UNWIND + MERGE\n",
    "En este experimento, buscamos comparar dos formas comunes de insertar datos en Neo4j:\n",
    "- UNWIND + MERGE: estrategia recomendada, basada en procesamiento por lotes y más eficiente para grandes volúmenes.\n",
    "- FOR + MERGE: estrategia tradicional, menos eficiente al realizar una transacción por iteración.\n",
    "\n",
    "Ambas pruebas se realizan sobre la misma submuestra de ratings, comparando los tiempos de ejecución."
   ]
  },
  {
   "cell_type": "code",
   "execution_count": 25,
   "id": "7d2f908b",
   "metadata": {},
   "outputs": [
    {
     "name": "stdout",
     "output_type": "stream",
     "text": [
      "Tiempo usando UNWIND + MERGE: 1.39 segundos\n",
      "Tiempo usando FOR + MERGE: 57.60 segundos\n"
     ]
    }
   ],
   "source": [
    "# Subconjunto de datos\n",
    "subset_ratings = filtered_ratings.head(1000)\n",
    "rating_data = subset_ratings.to_dict(\"records\")\n",
    "\n",
    "# 1a. Ratings -> nodos User, Movie y relaciones RATED (Estrategia UNWIND + MERGE)\n",
    "start_time = time.time()\n",
    "graph.run(\"\"\"\n",
    "UNWIND $data AS row\n",
    "MERGE (u:User {userId: row.userId})\n",
    "MERGE (m:Movie {movieId: row.movieId})\n",
    "MERGE (u)-[r:RATED]->(m)\n",
    "SET r.rating = row.rating, r.timestamp = row.timestamp\n",
    "\"\"\", data=rating_data)\n",
    "end_time = time.time()\n",
    "print(f\"Tiempo usando UNWIND + MERGE: {end_time - start_time:.2f} segundos\")\n",
    "\n",
    "# 1b. Ratings -> nodos User, Movie y relaciones RATED (Estrategia FOR + MERGE)\n",
    "graph.run(\"MATCH (n) DETACH DELETE n\")  # Limpiamos antes de volver a cargar\n",
    "start_time = time.time()\n",
    "for _, row in subset_ratings.iterrows():\n",
    "    graph.run(\"\"\"\n",
    "        MERGE (u:User {userId: $userId})\n",
    "        MERGE (m:Movie {movieId: $movieId})\n",
    "        MERGE (u)-[r:RATED]->(m)\n",
    "        SET r.rating = $rating, r.timestamp = $timestamp\n",
    "    \"\"\", userId=int(row[\"userId\"]),\n",
    "         movieId=int(row[\"movieId\"]),\n",
    "         rating=float(row[\"rating\"]),\n",
    "         timestamp=int(row[\"timestamp\"]))\n",
    "end_time = time.time()\n",
    "print(f\"Tiempo usando FOR + MERGE: {end_time - start_time:.2f} segundos\")\n"
   ]
  },
  {
   "cell_type": "markdown",
   "id": "67f05eb7",
   "metadata": {},
   "source": [
    "Como era de esperarse, UNWIND demostró ser mucho más eficiente al realizar la operación en bloque. Esta técnica será la utilizada en el resto de la carga para mantener la eficiencia."
   ]
  },
  {
   "cell_type": "markdown",
   "id": "8d8fba26",
   "metadata": {},
   "source": [
    "#### Carga general de nodos y relaciones\n",
    "\n",
    "Una vez evaluada la estrategia de carga más eficiente (UNWIND + MERGE), se procede a cargar todos los nodos y relaciones. \n",
    "En nuestro diseño optamos por un modelo intuitivo y expresivo, en el cual representamos como nodos las siguientes entidades:\n",
    "- User (usuarios)\n",
    "- Movie (películas)\n",
    "- Genre (géneros)\n",
    "- GenomeTag (etiquetas genéticas del contenido)\n",
    "\n",
    "Y por otra parte, definimos las siguientes relaciones:\n",
    "- RATED $\\rightarrow$ un usuario califica una película\n",
    "- HAS_GENRE $\\rightarrow$ una película tiene uno o más géneros asociados\n",
    "- TAGGED $\\rightarrow$ un usuario asigna un tag textual a una película\n",
    "- HAS_RELEVANCE $\\rightarrow$ una película está asociada a etiquetas (GenomeTag) con un score de relevancia\n",
    "\n",
    "La carga la realizamos en bloques separados, ya que mantiene la claridad del proceso. Además, se mide el tiempo total, el cual será util al momento de comprar la performance con MongoDB.\n"
   ]
  },
  {
   "cell_type": "code",
   "execution_count": 26,
   "id": "7ec1453a",
   "metadata": {},
   "outputs": [],
   "source": [
    "# Definimos funciones para poder reuitlizarlas mas adelante\n",
    "\n",
    "# 1. Ratings -> nodos User, Movie y relaciones RATED\n",
    "def cargar_ratings(ratings_df):\n",
    "    rating_data = ratings_df.to_dict(\"records\")\n",
    "    graph.run(\"\"\"\n",
    "    UNWIND $data AS row\n",
    "    MERGE (u:User {userId: row.userId})\n",
    "    MERGE (m:Movie {movieId: row.movieId})\n",
    "    MERGE (u)-[r:RATED]->(m)\n",
    "    SET r.rating = row.rating, r.timestamp = row.timestamp\n",
    "    \"\"\", data=rating_data)\n",
    "    \n",
    "    \n",
    "# 2. Movies -> nodos Movie, Genre y relaciones HAS_GENRE\n",
    "def cargar_movies(movies_df):\n",
    "    movie_data = movies_df.to_dict(\"records\")\n",
    "    graph.run(\"\"\"\n",
    "    UNWIND $data AS row\n",
    "    MERGE (m:Movie {movieId: row.movieId})\n",
    "    SET m.title = row.title\n",
    "    FOREACH (genre IN row.genres |\n",
    "        MERGE (g:Genre {name: genre})\n",
    "        MERGE (m)-[:HAS_GENRE]->(g)\n",
    "    )\n",
    "    \"\"\", data=movie_data)\n",
    "\n",
    "# 3. Tags -> relaciones TAGGED (no usamos registros con valores nulos)\n",
    "def cargar_tags(tags_df):\n",
    "    tag_data = tags_df.dropna(subset=[\"tag\"]).to_dict(\"records\")\n",
    "    graph.run(\"\"\"\n",
    "    UNWIND $data AS row\n",
    "    MATCH (u:User {userId: row.userId})\n",
    "    MATCH (m:Movie {movieId: row.movieId})\n",
    "    MERGE (u)-[t:TAGGED]->(m)\n",
    "    SET t.tag = row.tag\n",
    "    \"\"\", data=tag_data)\n",
    "\n",
    "# 4. GenomeTag -> nodos GenomeTag\n",
    "def cargar_genome_tags(genome_tags_df):\n",
    "    genome_tag_data = genome_tags_df.to_dict(\"records\")\n",
    "    graph.run(\"\"\"\n",
    "    UNWIND $data AS row\n",
    "    MERGE (gt:GenomeTag {tagId: row.tagId})\n",
    "    SET gt.tag = row.tag\n",
    "    \"\"\", data=genome_tag_data)\n",
    "\n",
    "# 5. HAS_RELEVANCE -> relaciones HAS_RELEVANCE\n",
    "def cargar_scores(scores_df):\n",
    "    filtered_scores = scores_df[scores_df['relevance'] > 0.8] # Opcional, uso solo las más relevantes para reducir volumen\n",
    "    score_data = filtered_scores.to_dict(\"records\")\n",
    "    query_scores = \"\"\"\n",
    "    UNWIND $data AS row\n",
    "    MATCH (m:Movie {movieId: row.movieId})\n",
    "    MATCH (gt:GenomeTag {tagId: row.tagId})\n",
    "    MERGE (m)-[r:HAS_RELEVANCE]->(gt)\n",
    "    SET r.score = row.relevance\n",
    "    \"\"\"\n",
    "    # Partir en lotes por volumen (caso contrario, Neo4j o la conexión falló, de esta forma se soluciona, se podría analizar)\n",
    "    batch_size = 1000\n",
    "    for i in range(0, len(score_data), batch_size):\n",
    "        batch = score_data[i:i + batch_size]\n",
    "        graph.run(query_scores, data=batch)\n",
    "        "
   ]
  },
  {
   "cell_type": "code",
   "execution_count": 27,
   "id": "6f1eebf2",
   "metadata": {},
   "outputs": [
    {
     "name": "stdout",
     "output_type": "stream",
     "text": [
      "Carga completa en 537.18 segundos.\n"
     ]
    }
   ],
   "source": [
    "# Limpiamos antes de volver a cargar\n",
    "graph.run(\"MATCH (n) DETACH DELETE n\")\n",
    "\n",
    "# Iniciamos carga de datos \n",
    "start_time_total = time.time()\n",
    "\n",
    "cargar_ratings(filtered_ratings)\n",
    "cargar_movies(filtered_movies)\n",
    "cargar_tags(filtered_tags)\n",
    "cargar_genome_tags(genome_tags)\n",
    "cargar_scores(filtered_scores)\n",
    "\n",
    "# Finalmente finalizado el tiempo y calculo el tiempo de carga\n",
    "end_time_total = time.time()\n",
    "print(f\"Carga completa en {end_time_total - start_time_total:.2f} segundos.\")"
   ]
  },
  {
   "cell_type": "markdown",
   "id": "63d374dc",
   "metadata": {},
   "source": [
    "Observación: En el caso particular de las relaciones `HAS_RELEVANCE`, la cantidad de datos era tan grande que Neo4j o la conexión fallaban si se intentaba enviar todo en una sola transacción. Evaluando posibilidades, vimos que en estos casos se sugiere realizar la carga en lotes de registros (en nuestro caso los definimos de tamaño 1000), esto garantiza estabilidad sin perdida de rendimiento."
   ]
  },
  {
   "cell_type": "markdown",
   "id": "8397085d",
   "metadata": {},
   "source": [
    "#### Consultas exploratorias y análisis de integridad\n",
    "Con el grafo cargado, realizamos distintas consultas para validar la estructura, detectar posibles errores de carga y explorar el contenido.\n"
   ]
  },
  {
   "cell_type": "code",
   "execution_count": 28,
   "id": "84ff23c3",
   "metadata": {},
   "outputs": [],
   "source": [
    "# Total de nodos por tipo\n",
    "def contar_nodos():\n",
    "    query = \"\"\"\n",
    "    MATCH (n)\n",
    "    RETURN labels(n)[0] AS tipo, count(*) AS cantidad\n",
    "    \"\"\"\n",
    "    return graph.run(query).to_table()\n",
    "\n",
    "# Total de relaciones por tipo\n",
    "def contar_relaciones():\n",
    "    query = \"\"\"\n",
    "    MATCH ()-[r]->()\n",
    "    RETURN type(r) AS relacion, count(*) AS cantidad\n",
    "    \"\"\"\n",
    "    return graph.run(query).to_table()\n",
    "\n",
    "# Usuarios sin ratings\n",
    "def usuarios_sin_rating():\n",
    "    query = \"\"\"\n",
    "    MATCH (u:User)\n",
    "    WHERE NOT (u)-[:RATED]->()\n",
    "    RETURN count(u) AS usuarios_sin_rating\n",
    "    \"\"\"\n",
    "    return graph.run(query).to_table()\n",
    "\n",
    "# Películas sin género ni rating ni genome tags\n",
    "def peliculas_huerfanas():\n",
    "    query = \"\"\"\n",
    "    MATCH (m:Movie)\n",
    "    WHERE NOT (m)-[:HAS_GENRE]->()\n",
    "      AND NOT (m)<-[:RATED]-()\n",
    "      AND NOT (m)-[:HAS_RELEVANCE]->()\n",
    "    RETURN count(m) AS peliculas_sin_relaciones\n",
    "    \"\"\"\n",
    "    return graph.run(query).to_table()\n"
   ]
  },
  {
   "cell_type": "code",
   "execution_count": 29,
   "id": "0e020ad9",
   "metadata": {},
   "outputs": [
    {
     "name": "stdout",
     "output_type": "stream",
     "text": [
      "Nodos por tipo:\n",
      " tipo      | cantidad \n",
      "-----------|----------\n",
      " Movie     |     7141 \n",
      " User      |      500 \n",
      " Genre     |       20 \n",
      " GenomeTag |     1128 \n",
      "\n",
      "\n",
      "Relaciones por tipo:\n",
      " relacion      | cantidad \n",
      "---------------|----------\n",
      " HAS_GENRE     |    16515 \n",
      " HAS_RELEVANCE |    83180 \n",
      " RATED         |    62834 \n",
      " TAGGED        |      313 \n",
      "\n",
      "\n",
      "Usuarios sin ratings:\n",
      " usuarios_sin_rating \n",
      "---------------------\n",
      "                   0 \n",
      "\n",
      "\n",
      "Películas sin ningún vínculo:\n",
      " peliculas_sin_relaciones \n",
      "--------------------------\n",
      "                        0 \n",
      "\n"
     ]
    }
   ],
   "source": [
    "print(\"Nodos por tipo:\")\n",
    "print(contar_nodos())\n",
    "\n",
    "print(\"\\nRelaciones por tipo:\")\n",
    "print(contar_relaciones())\n",
    "\n",
    "print(\"\\nUsuarios sin ratings:\")\n",
    "print(usuarios_sin_rating())\n",
    "\n",
    "print(\"\\nPelículas sin ningún vínculo:\")\n",
    "print(peliculas_huerfanas())\n"
   ]
  },
  {
   "cell_type": "markdown",
   "id": "02726e11",
   "metadata": {},
   "source": [
    "En base a los resultados obtenidos, concluimos que el grafo está correctamente conectado y no hay nodos huérfanos, lo que valida el buen funcionamiento del proceso de carga. A continuación, se definieron otras consultas, las cuales tienen como finalidad explorar la riqueza del modelo:"
   ]
  },
  {
   "cell_type": "code",
   "execution_count": 30,
   "id": "d6b25db8",
   "metadata": {},
   "outputs": [],
   "source": [
    "# Etiquetas más relevantes de una película, ej: Toy Story (1995)\n",
    "def etiquetas_mas_relevantes(title=\"Toy Story (1995)\", top=10):\n",
    "    query = \"\"\"\n",
    "    MATCH (m:Movie {title: $title})-[r:HAS_RELEVANCE]->(t:GenomeTag)\n",
    "    RETURN t.tag AS etiqueta, r.score AS relevancia\n",
    "    ORDER BY relevancia DESC\n",
    "    LIMIT $top\n",
    "    \"\"\"\n",
    "    return graph.run(query, title=title, top=top).to_table()\n",
    "\n",
    "# Películas asociadas a una etiqueta específica, ej: suspenseful\n",
    "def peliculas_por_etiqueta(tag=\"suspenseful\", top=10):\n",
    "    query = \"\"\"\n",
    "    MATCH (m:Movie)-[r:HAS_RELEVANCE]->(t:GenomeTag {tag: $tag})\n",
    "    RETURN m.title AS pelicula, r.score AS relevancia\n",
    "    ORDER BY relevancia DESC\n",
    "    LIMIT $top\n",
    "    \"\"\"\n",
    "    return graph.run(query, tag=tag, top=top).to_table()\n",
    "\n",
    "# Busca películas similares a \"Toy Story (1995)\" comparando las etiquetas más relevantes (score > 0.8) que describen su contenido.\n",
    "# Devuelve aquellas películas que comparten más etiquetas significativas.\n",
    "def peliculas_similares_relevantes(title=\"Toy Story (1995)\", top=10):\n",
    "    query = \"\"\"\n",
    "    MATCH (m1:Movie {title: $title})-[r1:HAS_RELEVANCE]->(t:GenomeTag)\n",
    "    WHERE r1.score > 0.8\n",
    "    WITH m1, COLLECT(t) AS etiquetas_filtradas\n",
    "    MATCH (m2:Movie)-[r2:HAS_RELEVANCE]->(t2:GenomeTag)\n",
    "    WHERE m2 <> m1 AND r2.score > 0.8 AND t2 IN etiquetas_filtradas\n",
    "    WITH m2, COUNT(DISTINCT t2) AS etiquetas_comunes_relevantes\n",
    "    RETURN m2.title AS pelicula_similar, etiquetas_comunes_relevantes\n",
    "    ORDER BY etiquetas_comunes_relevantes DESC\n",
    "    LIMIT $top\n",
    "    \"\"\"\n",
    "    return graph.run(query, title=title, top=top).to_table()\n"
   ]
  },
  {
   "cell_type": "code",
   "execution_count": 31,
   "id": "44d8102c",
   "metadata": {},
   "outputs": [
    {
     "name": "stdout",
     "output_type": "stream",
     "text": [
      "Etiquetas más relevantes de Toy Story (1995)\n",
      "\n",
      " etiqueta           | relevancia \n",
      "--------------------|------------\n",
      " toys               |    0.99925 \n",
      " computer animation |    0.99875 \n",
      " pixar animation    |    0.99575 \n",
      " kids and family    |    0.98575 \n",
      " animation          |    0.98425 \n",
      " kids               |       0.98 \n",
      " pixar              |     0.9645 \n",
      " children           |    0.95975 \n",
      " cartoon            |    0.95475 \n",
      " animated           |    0.94725 \n",
      "\n",
      "Tiempo de ejecución: 941.06 ms\n",
      "\n",
      "Películas asociadas a la etiqueta \"suspenseful\" ordenada por relevancia\n",
      "\n",
      " pelicula                         | relevancia \n",
      "----------------------------------|------------\n",
      " Panic Room (2002)                |      0.991 \n",
      " Psycho (1960)                    |    0.99025 \n",
      " Silence of the Lambs, The (1991) |    0.98975 \n",
      " The Invisible Guest (2016)       |     0.9885 \n",
      " Rear Window (1954)               |    0.98775 \n",
      " Misery (1990)                    |    0.98775 \n",
      " Jaws (1975)                      |    0.98475 \n",
      " Cape Fear (1962)                 |     0.9835 \n",
      " Alien (1979)                     |    0.98275 \n",
      " Identity (2003)                  |    0.98275 \n",
      "\n",
      "Tiempo de ejecución: 124.67 ms\n",
      "\n",
      "Películas similares a \"Toy Story (1995)\" (basado en etiquetas)\n",
      "\n",
      " pelicula_similar                | etiquetas_comunes_relevantes \n",
      "---------------------------------|------------------------------\n",
      " Finding Nemo (2003)             |                           24 \n",
      " Toy Story 2 (1999)              |                           23 \n",
      " Monsters, Inc. (2001)           |                           23 \n",
      " Bug's Life, A (1998)            |                           19 \n",
      " How to Train Your Dragon (2010) |                           17 \n",
      " Toy Story 3 (2010)              |                           17 \n",
      " Incredibles, The (2004)         |                           17 \n",
      " Up (2009)                       |                           17 \n",
      " Ratatouille (2007)              |                           17 \n",
      " Big Hero 6 (2014)               |                           15 \n",
      "\n",
      "Tiempo de ejecución: 1226.41 ms\n",
      "\n"
     ]
    }
   ],
   "source": [
    "print(\"Etiquetas más relevantes de Toy Story (1995)\\n\")\n",
    "start = time.time()\n",
    "print(etiquetas_mas_relevantes())\n",
    "end = time.time()\n",
    "print(f\"Tiempo de ejecución: {(end - start)*1000:.2f} ms\\n\")\n",
    "\n",
    "print(\"Películas asociadas a la etiqueta \\\"suspenseful\\\" ordenada por relevancia\\n\")\n",
    "start = time.time()\n",
    "print(peliculas_por_etiqueta())\n",
    "end = time.time()\n",
    "print(f\"Tiempo de ejecución: {(end - start)*1000:.2f} ms\\n\")\n",
    "\n",
    "print(\"Películas similares a \\\"Toy Story (1995)\\\" (basado en etiquetas)\\n\")\n",
    "start = time.time()\n",
    "print(peliculas_similares_relevantes())\n",
    "end = time.time()\n",
    "print(f\"Tiempo de ejecución: {(end - start)*1000:.2f} ms\\n\")"
   ]
  },
  {
   "cell_type": "markdown",
   "id": "3825fe3c",
   "metadata": {},
   "source": [
    "Estas consultas demuestran que el modelo grafo es especialmente poderoso cuando se exploran relaciones indirectas o basadas en similitud (como encontrar películas \"similares\"). Además, se observó que los tiempos de ejecución son muy buenos.\n"
   ]
  },
  {
   "cell_type": "markdown",
   "id": "d49314c0",
   "metadata": {},
   "source": [
    "#### Carga incremental de datos y análisis de escalabilidad\n",
    "\n",
    "Con el objetivo de evaluar la escalabilidad de Neo4j, diseñamos una estrategia de carga incremental de usuarios. A partir de esto, incorporamos nuevos bloques de usuarios (de tamaño 10, 50, 100, 200 y 1000) replicando el proceso de carga:\n",
    "- ratings → nodos User, Movie + relaciones RATED  \n",
    "- movies → nodos Movie, Genre + relaciones HAS_GENRE  \n",
    "- tags → relaciones TAGGED  \n",
    "- genome_scores → relaciones HAS_RELEVANCE  \n",
    "No se recargaron los nodos GenomeTag ya que estos al ser de un tamaño reducido, se habían cargados todos en la etapa inicial. \n",
    "Esta simulación nos permite observar si la carga en Neo4j escala linealmente, si existen cuellos de botella con ciertos volúmenes o si es necesario ajustar el proceso (por ejemplo: usar batch más pequeños, paralelización, etc.).\n"
   ]
  },
  {
   "cell_type": "code",
   "execution_count": 32,
   "id": "6003bcf3",
   "metadata": {},
   "outputs": [
    {
     "name": "stdout",
     "output_type": "stream",
     "text": [
      "\n",
      "Cargando usuarios del 500 al 509 (10 usuarios)...\n",
      "Tiempo para 10 usuarios: 50.87 segundos\n",
      "\n",
      "Cargando usuarios del 510 al 559 (50 usuarios)...\n",
      "Tiempo para 50 usuarios: 313.37 segundos\n"
     ]
    }
   ],
   "source": [
    "# Tamaños de usuario a evaluar\n",
    "# bloques = [10, 50, 100, 200, 1000]\n",
    "bloques = [10, 50]\n",
    "inicio = 500  # Desde aca empezamos a insertar usuarios adicionales\n",
    "\n",
    "for tamaño in bloques:\n",
    "    fin = inicio + tamaño\n",
    "    print(f\"\\nCargando usuarios del {inicio} al {fin - 1} ({tamaño} usuarios)...\")\n",
    "\n",
    "    # 1. Seleccionar usuarios y ratings\n",
    "    nuevos_users = ratings['userId'].unique()[inicio:fin]\n",
    "    nuevos_ratings = ratings[ratings['userId'].isin(nuevos_users)]\n",
    "\n",
    "    # 2. Películas y datos asociados\n",
    "    nuevos_movie_ids = nuevos_ratings['movieId'].unique()\n",
    "    nuevos_movies = movies[movies['movieId'].isin(nuevos_movie_ids)].copy()\n",
    "    nuevos_movies.loc[:, \"genres\"] = nuevos_movies[\"genres\"].fillna(\"\").apply(lambda x: x.split(\"|\") if x else [])\n",
    "\n",
    "    nuevos_tags = tags[tags['movieId'].isin(nuevos_movie_ids)]\n",
    "    nuevos_scores = genome_scores[genome_scores['movieId'].isin(nuevos_movie_ids)]\n",
    "\n",
    "    # 3. Medir tiempo de carga\n",
    "    start = time.time()\n",
    "    cargar_ratings(nuevos_ratings)\n",
    "    cargar_movies(nuevos_movies)\n",
    "    cargar_tags(nuevos_tags)\n",
    "    #cargar_genome_tags(genome_tags) # No es necesario dado que ya cargamos todos los nodos\n",
    "    cargar_scores(nuevos_scores)\n",
    "    end = time.time()\n",
    "\n",
    "    duracion = round(end - start, 2)\n",
    "    print(f\"Tiempo para {tamaño} usuarios: {end - start:.2f} segundos\")\n",
    "\n",
    "    # 4. Avanzamos al siguiente bloque\n",
    "    inicio = fin\n"
   ]
  },
  {
   "cell_type": "markdown",
   "id": "d5a20022",
   "metadata": {},
   "source": [
    "A partir de la incorporación progresiva de bloques de nuevos usuarios (10, 50, 100, 200 y 1000), observamos que el tiempo de carga crece con el tamaño del bloque, pero no de forma estrictamente lineal. Por ejemplo, cargar 100 usuarios tomó más tiempo que 50, pero no el doble. Esto puede deberse a varios factores:\n",
    "- Variabilidad en la cantidad de películas asociadas a cada grupo de usuarios, lo que implica más relaciones y nodos a crear.\n",
    "- Diferencias en la cantidad de tags y scores asociados.\n",
    "- Posibles repeticiones de nodos Movie o Genre ya presentes, lo que afecta el rendimiento del MERGE."
   ]
  },
  {
   "cell_type": "markdown",
   "id": "a8e444e9",
   "metadata": {},
   "source": [
    "A modo de complementar el punto anterior, repetimos las últimas consultas realizadas para ver si cambiaron los resultados al tener mas información en el grafo"
   ]
  },
  {
   "cell_type": "code",
   "execution_count": 33,
   "id": "316a6c45",
   "metadata": {},
   "outputs": [
    {
     "name": "stdout",
     "output_type": "stream",
     "text": [
      "Nodos por tipo:\n",
      "\n",
      " tipo      | cantidad \n",
      "-----------|----------\n",
      " Movie     |     8787 \n",
      " User      |      560 \n",
      " Genre     |       20 \n",
      " GenomeTag |     1128 \n",
      "\n",
      "Relaciones por tipo:\n",
      "\n",
      " relacion      | cantidad \n",
      "---------------|----------\n",
      " HAS_GENRE     |    20217 \n",
      " HAS_RELEVANCE |    92440 \n",
      " RATED         |    72734 \n",
      " TAGGED        |      330 \n",
      "\n",
      "Etiquetas más relevantes de Toy Story (1995)\n",
      "\n",
      " etiqueta           | relevancia \n",
      "--------------------|------------\n",
      " toys               |    0.99925 \n",
      " computer animation |    0.99875 \n",
      " pixar animation    |    0.99575 \n",
      " kids and family    |    0.98575 \n",
      " animation          |    0.98425 \n",
      " kids               |       0.98 \n",
      " pixar              |     0.9645 \n",
      " children           |    0.95975 \n",
      " cartoon            |    0.95475 \n",
      " animated           |    0.94725 \n",
      "\n",
      "Tiempo de ejecución: 45.88 ms\n",
      "\n",
      "Películas asociadas a la etiqueta \"suspenseful\" ordenada por relevancia\n",
      "\n",
      " pelicula                            | relevancia \n",
      "-------------------------------------|------------\n",
      " Panic Room (2002)                   |      0.991 \n",
      " Psycho (1960)                       |    0.99025 \n",
      " Silence of the Lambs, The (1991)    |    0.98975 \n",
      " The Invisible Guest (2016)          |     0.9885 \n",
      " Rear Window (1954)                  |    0.98775 \n",
      " Misery (1990)                       |    0.98775 \n",
      " Jaws (1975)                         |    0.98475 \n",
      " No Mercy (Yongseoneun Eupda) (2010) |     0.9845 \n",
      " Cape Fear (1962)                    |     0.9835 \n",
      " Alien (1979)                        |    0.98275 \n",
      "\n",
      "Tiempo de ejecución: 10.97 ms\n",
      "\n",
      "Películas similares a \"Toy Story (1995)\" (basado en etiquetas)\n",
      "\n",
      " pelicula_similar                | etiquetas_comunes_relevantes \n",
      "---------------------------------|------------------------------\n",
      " Finding Nemo (2003)             |                           24 \n",
      " Toy Story 2 (1999)              |                           23 \n",
      " Monsters, Inc. (2001)           |                           23 \n",
      " Bug's Life, A (1998)            |                           19 \n",
      " How to Train Your Dragon (2010) |                           17 \n",
      " Toy Story 3 (2010)              |                           17 \n",
      " Incredibles, The (2004)         |                           17 \n",
      " Up (2009)                       |                           17 \n",
      " Ratatouille (2007)              |                           17 \n",
      " Big Hero 6 (2014)               |                           15 \n",
      "\n",
      "Tiempo de ejecución: 84.77 ms\n",
      "\n"
     ]
    }
   ],
   "source": [
    "print(\"Nodos por tipo:\\n\")\n",
    "print(contar_nodos())\n",
    "\n",
    "print(\"Relaciones por tipo:\\n\")\n",
    "print(contar_relaciones())\n",
    "\n",
    "print(\"Etiquetas más relevantes de Toy Story (1995)\\n\")\n",
    "start = time.time()\n",
    "print(etiquetas_mas_relevantes())\n",
    "end = time.time()\n",
    "print(f\"Tiempo de ejecución: {(end - start)*1000:.2f} ms\\n\")\n",
    "\n",
    "print(\"Películas asociadas a la etiqueta \\\"suspenseful\\\" ordenada por relevancia\\n\")\n",
    "start = time.time()\n",
    "print(peliculas_por_etiqueta())\n",
    "end = time.time()\n",
    "print(f\"Tiempo de ejecución: {(end - start)*1000:.2f} ms\\n\")\n",
    "\n",
    "print(\"Películas similares a \\\"Toy Story (1995)\\\" (basado en etiquetas)\\n\")\n",
    "start = time.time()\n",
    "print(peliculas_similares_relevantes())\n",
    "end = time.time()\n",
    "print(f\"Tiempo de ejecución: {(end - start)*1000:.2f} ms\\n\")"
   ]
  },
  {
   "cell_type": "markdown",
   "id": "c4dd9915",
   "metadata": {},
   "source": [
    "Si bien no se observan diferencias respecto al caso anterior (menos datos), puede depender en gran medida de las consultas realizadas, por lo tanto no será un punto a evaluar."
   ]
  },
  {
   "cell_type": "markdown",
   "id": "8caf679d",
   "metadata": {},
   "source": [
    "#### Análisis y actualización del campo timestamp:\n",
    "\n",
    "Retomamos la observación vista anteriormente. El atributo `timestamp` (almacenado en la relación `RATED`) posee un formato entero:"
   ]
  },
  {
   "cell_type": "code",
   "execution_count": 34,
   "id": "4578631b",
   "metadata": {},
   "outputs": [
    {
     "data": {
      "text/html": [
       "<table><tr><th>u.userId</th><th>m.title</th><th>r.rating</th><th>r.timestamp</th></tr><tr><td style=\"text-align:right\">1</td><td style=\"text-align:left\">Pulp Fiction (1994)</td><td style=\"text-align:right\">5.0</td><td style=\"text-align:right\">1147880044</td></tr><tr><td style=\"text-align:right\">1</td><td style=\"text-align:left\">Three Colors: Red (Trois couleurs: Rouge) (1994)</td><td style=\"text-align:right\">3.5</td><td style=\"text-align:right\">1147868817</td></tr><tr><td style=\"text-align:right\">1</td><td style=\"text-align:left\">Three Colors: Blue (Trois couleurs: Bleu) (1993)</td><td style=\"text-align:right\">5.0</td><td style=\"text-align:right\">1147868828</td></tr><tr><td style=\"text-align:right\">1</td><td style=\"text-align:left\">Underground (1995)</td><td style=\"text-align:right\">5.0</td><td style=\"text-align:right\">1147878820</td></tr><tr><td style=\"text-align:right\">1</td><td style=\"text-align:left\">Singin&#039; in the Rain (1952)</td><td style=\"text-align:right\">3.5</td><td style=\"text-align:right\">1147868510</td></tr></table>"
      ],
      "text/plain": [
       " u.userId | m.title                                          | r.rating | r.timestamp \n",
       "----------|--------------------------------------------------|----------|-------------\n",
       "        1 | Pulp Fiction (1994)                              |      5.0 |  1147880044 \n",
       "        1 | Three Colors: Red (Trois couleurs: Rouge) (1994) |      3.5 |  1147868817 \n",
       "        1 | Three Colors: Blue (Trois couleurs: Bleu) (1993) |      5.0 |  1147868828 \n",
       "        1 | Underground (1995)                               |      5.0 |  1147878820 \n",
       "        1 | Singin' in the Rain (1952)                       |      3.5 |  1147868510 "
      ]
     },
     "execution_count": 34,
     "metadata": {},
     "output_type": "execute_result"
    }
   ],
   "source": [
    "# Observación de atributo timestamp\n",
    "query_timestamp = \"\"\"\n",
    "        MATCH (u:User)-[r:RATED]->(m:Movie)\n",
    "        WHERE u.userId = 1\n",
    "        RETURN u.userId, m.title, r.rating, r.timestamp\n",
    "        LIMIT 5\n",
    "        \"\"\"\n",
    "graph.run(query_timestamp).to_table()\n"
   ]
  },
  {
   "cell_type": "markdown",
   "id": "0fccb04e",
   "metadata": {},
   "source": [
    "Este valor representa la cantidad de segundos transcurridos desde el 1 de enero de 1970 a la medianoche UTC, como se indica en la documentación oficial del dataset (https://files.grouplens.org/datasets/movielens/ml-32m-README.html): \n",
    "\n",
    "``Timestamps represent seconds since midnight Coordinated Universal Time (UTC) of January 1, 1970.``\n",
    "\n",
    "Si bien este campo podría haberse transformado durante el preprocesamiento con pandas, decidimos realizar la conversión directamente desde Neo4j como una forma de probar el rendimiento de operaciones de actualización masiva dentro del motor de base de datos. Para esto, usamos la función temporal datetime({ epochSeconds: ... }) de Cypher (https://neo4j.com/docs/cypher-manual/current/functions/temporal/#functions-datetime).\n"
   ]
  },
  {
   "cell_type": "code",
   "execution_count": 35,
   "id": "82c00499",
   "metadata": {},
   "outputs": [
    {
     "name": "stdout",
     "output_type": "stream",
     "text": [
      "Tiempo de actualización: 10.90 segundos\n"
     ]
    }
   ],
   "source": [
    "query = \"\"\"\n",
    "MATCH (:User)-[r:RATED]->(:Movie)\n",
    "SET r.timestamp = datetime({ epochSeconds: r.timestamp })\n",
    "\"\"\"\n",
    "\n",
    "start_time = time.time()\n",
    "graph.run(query)\n",
    "end_time = time.time()\n",
    "\n",
    "print(f\"Tiempo de actualización: {end_time - start_time:.2f} segundos\")\n"
   ]
  },
  {
   "cell_type": "markdown",
   "id": "a2aa1da4",
   "metadata": {},
   "source": [
    "Visualizamos ahora como se modificó el atributo:"
   ]
  },
  {
   "cell_type": "code",
   "execution_count": 36,
   "id": "86746533",
   "metadata": {},
   "outputs": [
    {
     "data": {
      "text/html": [
       "<table><tr><th>u.userId</th><th>m.title</th><th>r.rating</th><th>r.timestamp</th></tr><tr><td style=\"text-align:right\">1</td><td style=\"text-align:left\">Pulp Fiction (1994)</td><td style=\"text-align:right\">5.0</td><td style=\"text-align:left\">datetime(&#039;2006-05-17T15:34:04.000000000+00:00&#039;)</td></tr><tr><td style=\"text-align:right\">1</td><td style=\"text-align:left\">Three Colors: Red (Trois couleurs: Rouge) (1994)</td><td style=\"text-align:right\">3.5</td><td style=\"text-align:left\">datetime(&#039;2006-05-17T12:26:57.000000000+00:00&#039;)</td></tr><tr><td style=\"text-align:right\">1</td><td style=\"text-align:left\">Three Colors: Blue (Trois couleurs: Bleu) (1993)</td><td style=\"text-align:right\">5.0</td><td style=\"text-align:left\">datetime(&#039;2006-05-17T12:27:08.000000000+00:00&#039;)</td></tr><tr><td style=\"text-align:right\">1</td><td style=\"text-align:left\">Underground (1995)</td><td style=\"text-align:right\">5.0</td><td style=\"text-align:left\">datetime(&#039;2006-05-17T15:13:40.000000000+00:00&#039;)</td></tr><tr><td style=\"text-align:right\">1</td><td style=\"text-align:left\">Singin&#039; in the Rain (1952)</td><td style=\"text-align:right\">3.5</td><td style=\"text-align:left\">datetime(&#039;2006-05-17T12:21:50.000000000+00:00&#039;)</td></tr></table>"
      ],
      "text/plain": [
       " u.userId | m.title                                          | r.rating | r.timestamp                                     \n",
       "----------|--------------------------------------------------|----------|-------------------------------------------------\n",
       "        1 | Pulp Fiction (1994)                              |      5.0 | datetime('2006-05-17T15:34:04.000000000+00:00') \n",
       "        1 | Three Colors: Red (Trois couleurs: Rouge) (1994) |      3.5 | datetime('2006-05-17T12:26:57.000000000+00:00') \n",
       "        1 | Three Colors: Blue (Trois couleurs: Bleu) (1993) |      5.0 | datetime('2006-05-17T12:27:08.000000000+00:00') \n",
       "        1 | Underground (1995)                               |      5.0 | datetime('2006-05-17T15:13:40.000000000+00:00') \n",
       "        1 | Singin' in the Rain (1952)                       |      3.5 | datetime('2006-05-17T12:21:50.000000000+00:00') "
      ]
     },
     "execution_count": 36,
     "metadata": {},
     "output_type": "execute_result"
    }
   ],
   "source": [
    "graph.run(query_timestamp).to_table()"
   ]
  },
  {
   "cell_type": "markdown",
   "id": "4b50b5f7",
   "metadata": {},
   "source": [
    "Una vez realizado el cambio, podemos hacer consultas útiles que aprovechen este nuevo formato. Por ejemplo, para ver qué películas calificó el usuario 1 entre los años 2005 y 2008. Para quienes consumen o mantienen las consultas, el uso de fechas legibles reduce errores y mejora la comprensión."
   ]
  },
  {
   "cell_type": "code",
   "execution_count": 37,
   "id": "c5950f00",
   "metadata": {},
   "outputs": [],
   "source": [
    "def peliculas_calificadas_por_date():\n",
    "    # datetime es aaaa-mm-dd\n",
    "    query = \"\"\"\n",
    "    MATCH (u:User {userId: 1})-[r:RATED]->(m:Movie)\n",
    "    WHERE r.date >= datetime(\"2005-01-01\") \n",
    "        AND r.date < datetime(\"2008-12-31\")\n",
    "    RETURN m.title AS pelicula, r.rating, r.date\n",
    "    ORDER BY r.date\n",
    "    LIMIT 5\n",
    "    \"\"\"\n",
    "    return graph.run(query).to_table()\n"
   ]
  },
  {
   "cell_type": "code",
   "execution_count": 38,
   "id": "4513a166",
   "metadata": {},
   "outputs": [
    {
     "name": "stdout",
     "output_type": "stream",
     "text": [
      "Películas calificados por userID: 1 entre 2005 y 2008 (usando date)\n",
      "\n",
      "\n",
      "Tiempo de ejecución: 1513.95 ms\n"
     ]
    }
   ],
   "source": [
    "print(\"Películas calificados por userID: 1 entre 2005 y 2008 (usando date)\\n\")\n",
    "start = time.time()\n",
    "print(peliculas_calificadas_por_date())\n",
    "end = time.time()\n",
    "print(f\"Tiempo de ejecución: {(end - start)*1000:.2f} ms\")\n"
   ]
  }
 ],
 "metadata": {
  "kernelspec": {
   "display_name": "Python 3 (ipykernel)",
   "language": "python",
   "name": "python3"
  },
  "language_info": {
   "codemirror_mode": {
    "name": "ipython",
    "version": 3
   },
   "file_extension": ".py",
   "mimetype": "text/x-python",
   "name": "python",
   "nbconvert_exporter": "python",
   "pygments_lexer": "ipython3",
   "version": "3.10.9"
  }
 },
 "nbformat": 4,
 "nbformat_minor": 5
}
