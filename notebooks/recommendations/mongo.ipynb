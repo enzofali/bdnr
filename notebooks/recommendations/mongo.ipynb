{
 "cells": [
  {
   "metadata": {},
   "cell_type": "markdown",
   "source": [
    "Key Motivation for Embedding in Recommender Systems\n",
    "\n",
    "Recommender systems rely on fast retrieval and processing of rich user-item interaction histories, along with item metadata and user preferences. \n",
    "Embedding relevant data together (e.g., user history inside user docs, rating summaries inside movie docs) significantly boosts performance and modeling efficiency."
   ],
   "id": "ca8f22a74a22d462"
  },
  {
   "metadata": {},
   "cell_type": "markdown",
   "source": [
    "Document-Oriented Model: Benefits for Recommender Systems\n",
    "\n",
    "1. Reduced Join Overhead\n",
    "\n",
    "In a normalized schema:\n",
    "- To build a user's rating history, you'd need to join USERS ↔ RATINGS ↔ MOVIES, possibly even GENOME_SCORES.\n",
    "- This is costly in terms of latency and compute.\n",
    "\n",
    "In the embedded MongoDB schema:\n",
    "- All needed info (ratings, genres, tags, etc.) is localized in a single document (movie_doc or user_doc).\n",
    "- This is ideal for read-heavy, recommendation workloads.\n",
    "\n",
    "--> Embedding avoids joins and allows for O(1) document fetches.\n",
    "\n",
    "2. Query Efficiency and Caching\n",
    "\n",
    "Allows you to:\n",
    "- Retrieve a user document and get their full rating history in one query.\n",
    "- Fetch a movie document and instantly access:\n",
    "    - Metadata (title, genres, year)\n",
    "    - Tag genome (semantic info)\n",
    "    - Ratings statistics\n",
    "\n",
    "3. Recommendation Model Friendliness\n",
    "Machine learning pipelines often need:\n",
    "- A user's full interaction history.\n",
    "- Movie content + aggregated rating stats.\n",
    "\n",
    "--> Fast batch export for training (user histories are ready).\n",
    "--> Real-time feature access for serving models (single-document reads).\n",
    "\n",
    "4. Scalability & Sharding\n",
    "MongoDB’s sharding strategy benefits from:\n",
    "- Embedding all interactions per user in the user_doc → easy to shard by userId\n",
    "- Embedding stats and tag genomes in movie_doc → easy to shard by movieId\n",
    "\n",
    "--> this enables horizontal scalability for systems with millions of users/movies.\n",
    "\n",
    "\n"
   ],
   "id": "cd9bbace8029e045"
  },
  {
   "metadata": {},
   "cell_type": "markdown",
   "source": [
    "When Is Embedding Clearly Better?\n",
    "- You have read-heavy, write-rarely patterns (typical for recsys).\n",
    "- You’re building real-time or near real-time personalized services.\n",
    "- You want to optimize for locality (getting all relevant data in one fetch).\n",
    "\n",
    "When to Avoid Full Embedding\n",
    "- If user or movie interaction histories are huge (e.g. millions of entries per document).\n",
    "- When data is highly write-intensive (e.g., frequent rating/tag updates from many users).\n",
    "- When your application needs strict normalization for transactional integrity.\n"
   ],
   "id": "455913ed58f9a502"
  },
  {
   "metadata": {},
   "cell_type": "markdown",
   "source": [
    "Pros of Embedding in a Distributed System\n",
    "\n",
    "1. Improved Data Locality\n",
    "- Access to all needed data in one place (e.g. all a user’s interactions in one document).\n",
    "This reduces the need for cross-node lookups or network I/O.\n",
    "\n",
    "2. Atomic Updates (Per Document)\n",
    "- MongoDB supports atomic operations at the document level\n",
    "- If all interactions are embedded, a single write is safe and consistent.\n",
    "Avoids partial writes or the need for distributed transactions.\n",
    "\n",
    "Cons of Embedding in a Distributed System \n",
    "\n",
    "1. Document Growth and Size Limits (MongoDB has a 16MB document size limit.)\n",
    "2. Load Imbalance \n",
    "- Highly active users or very popular movies may create hot shards (nodes receiving disproportionate traffic).\n",
    "This breaks uniform load distribution, hurting scalability.\n",
    "3. Data Duplication\n"
   ],
   "id": "ff16ea2a81977cce"
  },
  {
   "metadata": {},
   "cell_type": "markdown",
   "source": [
    "1. Consistency (C)\n",
    "Embedded:\n",
    "Rating count and avgRating in a movie doc can become stale if updates aren't carefully managed.\n",
    "\n",
    "Hard to guarantee atomicity across user and movie docs if a user changes a rating.\n",
    "\n",
    "Normalized:\n",
    "Easier to enforce strong consistency. Changes to RATINGS auto-reflect in analytics queries.\n",
    "\n",
    "Better for OLAP, training pipelines, or regulatory correctness.\n",
    "\n",
    "Conclusion: Favor normalized when C is a top priority.\n",
    "\n",
    "2. Availability (A)\n",
    "Embedded:\n",
    "A single-node read can retrieve all data for a request.\n",
    "\n",
    "Even in degraded mode (e.g., during a partition), the app can serve reads from stale replicas.\n",
    "\n",
    "Normalized:\n",
    "Reconstructing a user’s behavior requires multiple reads → each one is a potential point of failure.\n",
    "\n",
    "During network partitions, some joins will fail.\n",
    "\n",
    "Conclusion: Embedded wins for A, crucial for real-time recommendations.\n",
    "\n",
    "3. Partition Tolerance (P)\n",
    "Partition tolerance is non-negotiable in distributed systems — both models must work under it. The key difference is how gracefully each handles it:\n",
    "\n",
    "Embedded:\n",
    "Entire user or movie data is co-located (if sharded wisely), so reads/writes remain local during partition.\n",
    "\n",
    "Normalized:\n",
    "Requires fetching data from multiple collections/shards. This increases exposure to partition issues.\n",
    "\n",
    "Conclusion: Embedded is more resilient to partitions and localized failures.\n",
    "\n"
   ],
   "id": "8ce4ff84d66a1289"
  },
  {
   "metadata": {},
   "cell_type": "markdown",
   "source": [
    "| Use Case                                                   | CAP Priority | Recommended Structure                       |\n",
    "| ---------------------------------------------------------- | ------------ | ------------------------------------------- |\n",
    "| Real-time recommender (UI)                                 | **AP**       | Embedded                                  |\n",
    "| Offline ML model training                                  | **CP**       | Normalized (or hybrid with periodic sync) |\n",
    "| High-throughput content serving                            | **AP**       | Embedded                                  |\n",
    "| Operational updates to shared metadata (e.g., movie title) | **C**        | Normalized                                |\n"
   ],
   "id": "f9f33f688908b18a"
  },
  {
   "metadata": {},
   "cell_type": "markdown",
   "source": "# TODO - DO RECSYS QUERIES FOR REAL RECOMMENDATIONS\n",
   "id": "cac4ff49af41eace"
  }
 ],
 "metadata": {
  "kernelspec": {
   "display_name": "Python 3",
   "language": "python",
   "name": "python3"
  },
  "language_info": {
   "codemirror_mode": {
    "name": "ipython",
    "version": 2
   },
   "file_extension": ".py",
   "mimetype": "text/x-python",
   "name": "python",
   "nbconvert_exporter": "python",
   "pygments_lexer": "ipython2",
   "version": "2.7.6"
  }
 },
 "nbformat": 4,
 "nbformat_minor": 5
}
