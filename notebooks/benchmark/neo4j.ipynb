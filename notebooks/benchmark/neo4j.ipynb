{
 "cells": [
  {
   "cell_type": "code",
   "id": "initial_id",
   "metadata": {
    "collapsed": true,
    "ExecuteTime": {
     "end_time": "2025-06-24T03:05:12.277455Z",
     "start_time": "2025-06-24T03:05:12.119186Z"
    }
   },
   "source": [
    "%load_ext autoreload\n",
    "%autoreload 2"
   ],
   "outputs": [
    {
     "name": "stdout",
     "output_type": "stream",
     "text": [
      "The autoreload extension is already loaded. To reload it, use:\n",
      "  %reload_ext autoreload\n"
     ]
    }
   ],
   "execution_count": 176
  },
  {
   "metadata": {},
   "cell_type": "markdown",
   "source": [
    "# Neo4j v2.0.1\n",
    "\n",
    "**Descarga**\n",
    "- [Descargar Neo4j Desktop v2.0.1 (macOS)](https://neo4j.com/download/neo4j-desktop/?edition=desktop&flavour=osx&release=2.0.1&offline=false)\n",
    "\n",
    "**Configuración**\n",
    "1. Instalar Neo4j Desktop.\n",
    "2. Abrir la app y crear un nuevo proyecto con \"Add\".\n",
    "3. Dentro del proyecto, seleccionar \"Add Graph\" → \"Local DBMS\".\n",
    "4. Configurar:\n",
    "   - Name: `BDNR_ml-25m`\n",
    "   - Password: `bdnr2025`\n",
    "   - Versión usada: `2025.05.0`\n",
    "5. Hacer clic en \"Create\".\n",
    "\n",
    "**Conexión**\n",
    "```\n",
    "neo4j://127.0.0.1:7687\n",
    "```"
   ],
   "id": "668b0ef2d4b070bc"
  },
  {
   "metadata": {
    "ExecuteTime": {
     "end_time": "2025-06-24T03:05:12.894665Z",
     "start_time": "2025-06-24T03:05:12.875901Z"
    }
   },
   "cell_type": "code",
   "source": [
    "import json\n",
    "from src.benchmark.utils import get_system_info\n",
    "import neo4j\n",
    "\n",
    "print(\"neo4j Version:\", neo4j.__version__)\n",
    "print(\"System Info:\\n\", json.dumps(get_system_info(), indent=3))"
   ],
   "id": "8cd5910406850f41",
   "outputs": [
    {
     "name": "stdout",
     "output_type": "stream",
     "text": [
      "neo4j Version: 5.28.1\n",
      "System Info:\n",
      " {\n",
      "   \"python_version\": \"3.12.1\",\n",
      "   \"system\": {\n",
      "      \"os\": \"Darwin\",\n",
      "      \"release\": \"24.5.0\",\n",
      "      \"machine\": \"x86_64\",\n",
      "      \"processor\": \"i386\"\n",
      "   },\n",
      "   \"cpu\": {\n",
      "      \"physical_cores\": 8,\n",
      "      \"total_cores\": 8,\n",
      "      \"frequency_mhz\": 2400\n",
      "   },\n",
      "   \"memory\": {\n",
      "      \"total_ram_gb\": 16.0,\n",
      "      \"available_ram_gb\": 0.78\n",
      "   }\n",
      "}\n"
     ]
    }
   ],
   "execution_count": 177
  },
  {
   "metadata": {},
   "cell_type": "markdown",
   "source": "# Data Load",
   "id": "599136a27b525b03"
  },
  {
   "metadata": {
    "ExecuteTime": {
     "end_time": "2025-06-24T03:05:12.979274Z",
     "start_time": "2025-06-24T03:05:12.938314Z"
    }
   },
   "cell_type": "code",
   "source": [
    "from neo4j import GraphDatabase\n",
    "\n",
    "uri = \"bolt://localhost:7687\"  \n",
    "user = \"neo4j\"\n",
    "password = \"bdnr2025\" \n",
    "\n",
    "driver = GraphDatabase.driver(uri, auth=(user, password))\n",
    "session = driver.session()"
   ],
   "id": "47b520bc4da15e56",
   "outputs": [],
   "execution_count": 178
  },
  {
   "metadata": {
    "ExecuteTime": {
     "end_time": "2025-06-24T03:05:13.598368Z",
     "start_time": "2025-06-24T03:05:13.083222Z"
    }
   },
   "cell_type": "code",
   "source": [
    "try:\n",
    "    session.run(\"RETURN 1\").single()\n",
    "    print(\"Successfully connected to Neo4j\")\n",
    "except Exception as e:\n",
    "    print(f\"Connection failed: {e}\")"
   ],
   "id": "40ca97b01ef1aef9",
   "outputs": [
    {
     "name": "stdout",
     "output_type": "stream",
     "text": [
      "Successfully connected to Neo4j\n"
     ]
    }
   ],
   "execution_count": 179
  },
  {
   "metadata": {
    "ExecuteTime": {
     "end_time": "2025-06-24T03:05:13.866290Z",
     "start_time": "2025-06-24T03:05:13.605943Z"
    }
   },
   "cell_type": "code",
   "source": [
    "databases = session.run(\"SHOW DATABASES\").data()\n",
    "print(\"Databases:\", [db[\"name\"] for db in databases])"
   ],
   "id": "eb1cd14440624b86",
   "outputs": [
    {
     "name": "stdout",
     "output_type": "stream",
     "text": [
      "Databases: ['neo4j', 'system']\n"
     ]
    }
   ],
   "execution_count": 180
  },
  {
   "metadata": {
    "ExecuteTime": {
     "end_time": "2025-06-24T03:05:13.888550Z",
     "start_time": "2025-06-24T03:05:13.868771Z"
    }
   },
   "cell_type": "code",
   "source": [
    "from pprint import pprint\n",
    "\n",
    "result = session.run(\"SHOW DATABASES\").data()\n",
    "for db in result:\n",
    "    print(f\"\\n{db['name']}\")\n",
    "    pprint(db, indent=2, width=100, depth=3, sort_dicts=False)"
   ],
   "id": "50faa504925d96c7",
   "outputs": [
    {
     "name": "stdout",
     "output_type": "stream",
     "text": [
      "\n",
      "neo4j\n",
      "{ 'name': 'neo4j',\n",
      "  'type': 'standard',\n",
      "  'aliases': [],\n",
      "  'access': 'read-write',\n",
      "  'address': 'localhost:7687',\n",
      "  'role': 'primary',\n",
      "  'writer': True,\n",
      "  'requestedStatus': 'online',\n",
      "  'currentStatus': 'online',\n",
      "  'statusMessage': '',\n",
      "  'default': True,\n",
      "  'home': True,\n",
      "  'constituents': []}\n",
      "\n",
      "system\n",
      "{ 'name': 'system',\n",
      "  'type': 'system',\n",
      "  'aliases': [],\n",
      "  'access': 'read-write',\n",
      "  'address': 'localhost:7687',\n",
      "  'role': 'primary',\n",
      "  'writer': True,\n",
      "  'requestedStatus': 'online',\n",
      "  'currentStatus': 'online',\n",
      "  'statusMessage': '',\n",
      "  'default': False,\n",
      "  'home': False,\n",
      "  'constituents': []}\n"
     ]
    }
   ],
   "execution_count": 181
  },
  {
   "metadata": {},
   "cell_type": "markdown",
   "source": "### Batch Load: UNWIND & MERGE",
   "id": "30f06fdc4062d382"
  },
  {
   "metadata": {
    "ExecuteTime": {
     "end_time": "2025-06-24T03:05:30.301020Z",
     "start_time": "2025-06-24T03:05:13.892844Z"
    }
   },
   "cell_type": "code",
   "source": [
    "import pandas as pd\n",
    "\n",
    "# Read CSV files\n",
    "base_path = \"/Users/efaliveni//Downloads/ml-25m\"\n",
    "\n",
    "ratings = pd.read_csv(f\"{base_path}/ratings.csv\")\n",
    "movies = pd.read_csv(f\"{base_path}/movies.csv\")\n",
    "tags = pd.read_csv(f\"{base_path}/tags.csv\")\n",
    "genome_tags = pd.read_csv(f\"{base_path}/genome-tags.csv\")\n",
    "genome_scores = pd.read_csv(f\"{base_path}/genome-scores.csv\")"
   ],
   "id": "e02b733bb560ed8a",
   "outputs": [],
   "execution_count": 182
  },
  {
   "metadata": {
    "ExecuteTime": {
     "end_time": "2025-06-24T03:05:31.730992Z",
     "start_time": "2025-06-24T03:05:30.302995Z"
    }
   },
   "cell_type": "code",
   "source": [
    "# Filter Data\n",
    "SAMPLE_SIZE = 4050\n",
    "\n",
    "selected_users = ratings['userId'].unique()[:SAMPLE_SIZE]\n",
    "filtered_ratings = ratings[ratings['userId'].isin(selected_users)]\n",
    "filtered_movie_ids = filtered_ratings['movieId'].unique()\n",
    "filtered_movies = movies[movies['movieId'].isin(filtered_movie_ids)].copy()\n",
    "filtered_tags = tags[tags['movieId'].isin(filtered_movie_ids)]\n",
    "filtered_scores = genome_scores[genome_scores['movieId'].isin(filtered_movie_ids)]"
   ],
   "id": "7f4f6193660f3e3",
   "outputs": [],
   "execution_count": 183
  },
  {
   "metadata": {
    "ExecuteTime": {
     "end_time": "2025-06-24T03:05:36.320615Z",
     "start_time": "2025-06-24T03:05:31.732252Z"
    }
   },
   "cell_type": "code",
   "source": [
    "from collections import defaultdict\n",
    "# Create a dictionary of genome tags for quick lookup\n",
    "genome_tags_dict = {row['tagId']: row['tag'] for _, row in genome_tags.iterrows()}\n",
    "\n",
    "# Build dictionaries to accumulate data\n",
    "ratings_by_movie = defaultdict(list)\n",
    "scores_by_movie = defaultdict(list)\n",
    "\n",
    "ratings_by_user = defaultdict(list)\n",
    "tags_by_user = defaultdict(list)"
   ],
   "id": "d30ffc349a493431",
   "outputs": [],
   "execution_count": 184
  },
  {
   "metadata": {
    "ExecuteTime": {
     "end_time": "2025-06-24T03:06:23.502545Z",
     "start_time": "2025-06-24T03:05:36.322547Z"
    }
   },
   "cell_type": "code",
   "source": [
    "# Process ratings and tags to build both movie and user views\n",
    "RELEVANCE_THRESHOLD = 0.8\n",
    "\n",
    "# Ratings\n",
    "for _, r in filtered_ratings.iterrows():\n",
    "    movie_id = int(r.movieId)\n",
    "    user_id = int(r.userId)\n",
    "    \n",
    "    # Add to movie's ratings\n",
    "    ratings_by_movie[movie_id].append({\n",
    "        \"userId\": user_id,\n",
    "        \"rating\": float(r.rating),\n",
    "        \"timestamp\": int(r.timestamp)\n",
    "    })\n",
    "    \n",
    "    # Add to user's ratings\n",
    "    ratings_by_user[user_id].append({\n",
    "        \"movieId\": movie_id,\n",
    "        \"rating\": float(r.rating),\n",
    "        \"timestamp\": int(r.timestamp)\n",
    "    })\n",
    "    \n",
    "# Tags (only for users), genome tag is the cleaned infered tag\n",
    "for _, t in filtered_tags.dropna(subset=[\"tag\"]).iterrows():\n",
    "    movie_id = int(t.movieId)\n",
    "    user_id = int(t.userId)\n",
    "    \n",
    "    tags_by_user[user_id].append({\n",
    "        \"movieId\": movie_id,\n",
    "        \"tag\": t.tag,\n",
    "        \"timestamp\": int(t.timestamp)\n",
    "    })\n",
    "    \n",
    "# Genome scores (only for movies), with 0.8 threshold\n",
    "for _, s in filtered_scores[filtered_scores.relevance > RELEVANCE_THRESHOLD].iterrows():\n",
    "    movie_id = int(s.movieId)\n",
    "    tag_id = int(s.tagId)\n",
    "    \n",
    "    scores_by_movie[movie_id].append({\n",
    "        \"tagId\": tag_id,\n",
    "        \"tag\": genome_tags_dict.get(tag_id, \"\"),\n",
    "        \"relevance\": float(s.relevance)\n",
    "    })"
   ],
   "id": "32bac236a4635829",
   "outputs": [],
   "execution_count": 185
  },
  {
   "metadata": {
    "ExecuteTime": {
     "end_time": "2025-06-24T03:06:27.438949Z",
     "start_time": "2025-06-24T03:06:23.505198Z"
    }
   },
   "cell_type": "code",
   "source": [
    "import re\n",
    "\n",
    "# Build movie documents\n",
    "movie_docs = []\n",
    "for _, m in filtered_movies.iterrows():\n",
    "    movie_id = int(m.movieId)\n",
    "   \n",
    "    # Extract year from title\n",
    "    title = m.title\n",
    "    year_match = re.search(r\"\\((\\d{4})\\)$\", title)\n",
    "    year = int(year_match.group(1)) if year_match else None\n",
    "    \n",
    "    # Get ratings and tags for this movie\n",
    "    movie_ratings = ratings_by_movie.get(movie_id, [])\n",
    "    tag_entries = scores_by_movie.get(movie_id, [])\n",
    "    \n",
    "    # Calculate statistics\n",
    "    rating_count = len(movie_ratings)\n",
    "    if rating_count > 0:\n",
    "        avg_rating = sum(r['rating'] for r in movie_ratings) / rating_count\n",
    "        # Calculate rating distribution (count of each star rating)\n",
    "        rating_dist = {\"0.5\":0, \"1.0\":0, \"1.5\":0, \"2.0\":0, \"2.5\":0, \n",
    "                      \"3.0\":0, \"3.5\":0, \"4.0\":0, \"4.5\":0, \"5.0\":0}\n",
    "        for r in movie_ratings:\n",
    "            rating_key = f\"{r['rating']}\"\n",
    "            rating_dist[rating_key] += 1 \n",
    "    else:\n",
    "        avg_rating = 0.0\n",
    "        rating_dist = {}  # will result in empty arrays below\n",
    "\n",
    "    # Neo4j only allows:\n",
    "    # - Single values: string, int, float, boolean, datetime\n",
    "    # - Arrays of primitive types: [int], [string], etc.\n",
    "    dist_keys = list(rating_dist.keys()) if rating_dist else []\n",
    "    dist_values = list(rating_dist.values()) if rating_dist else []\n",
    "    \n",
    "    tag_ids = [int(e[\"tagId\"]) for e in tag_entries]\n",
    "    tag_relevances = [float(e[\"relevance\"]) for e in tag_entries]\n",
    "    tag_names = [str(e[\"tag\"]) for e in tag_entries]\n",
    "    \n",
    "    movie_docs.append({\n",
    "        \"movieId\": movie_id,\n",
    "        \"title\": title,\n",
    "        \"year\": year,\n",
    "        \"genres\": m.genres.split(\"|\") if pd.notna(m.genres) else [],\n",
    "        \"ratingCount\": rating_count,\n",
    "        \"avgRating\": avg_rating,\n",
    "        \"ratingDistKeys\": dist_keys,\n",
    "        \"ratingDistValues\": dist_values,\n",
    "        \"tagIds\": tag_ids,\n",
    "        \"tagRelevances\": tag_relevances,\n",
    "        \"tagNames\": tag_names\n",
    "    })"
   ],
   "id": "e8e15a51f9f60035",
   "outputs": [],
   "execution_count": 186
  },
  {
   "metadata": {
    "ExecuteTime": {
     "end_time": "2025-06-24T03:06:27.857291Z",
     "start_time": "2025-06-24T03:06:27.439873Z"
    }
   },
   "cell_type": "code",
   "source": [
    "user_docs = []\n",
    "\n",
    "for user_id in selected_users:\n",
    "    user_id = int(user_id)\n",
    "\n",
    "    user_ratings = ratings_by_user.get(user_id, [])\n",
    "    user_tags = tags_by_user.get(user_id, [])\n",
    "    \n",
    "    # Rating stats\n",
    "    rating_count = len(user_ratings)\n",
    "    avg_rating = sum(r['rating'] for r in user_ratings) / rating_count if rating_count > 0 else 0.0\n",
    "    \n",
    "    # Sort ratings by timestamp\n",
    "    user_ratings.sort(key=lambda r: r['timestamp'])\n",
    "\n",
    "    # Flatten ratings for Neo4j\n",
    "    rated_movie_ids = [r['movieId'] for r in user_ratings]\n",
    "    rated_scores = [r['rating'] for r in user_ratings]\n",
    "    rated_timestamps = [r['timestamp'] for r in user_ratings]\n",
    "\n",
    "    # (Optional future support for tags)\n",
    "    # tag_movie_ids = [t['movieId'] for t in user_tags]\n",
    "    # tag_labels = [t['tag'] for t in user_tags]\n",
    "    # tag_timestamps = [t['timestamp'] for t in user_tags]\n",
    "\n",
    "    user_docs.append({\n",
    "        \"userId\": user_id,\n",
    "        \"ratingCount\": rating_count,\n",
    "        \"avgRating\": round(avg_rating, 2),\n",
    "        \"ratedMovieIds\": rated_movie_ids,\n",
    "        \"ratedScores\": rated_scores,\n",
    "        \"ratedTimestamps\": rated_timestamps,\n",
    "        # \"tagMovieIds\": tag_movie_ids,\n",
    "        # \"tagLabels\": tag_labels,\n",
    "        # \"tagTimestamps\": tag_timestamps\n",
    "    })\n"
   ],
   "id": "2483873be200e27b",
   "outputs": [],
   "execution_count": 187
  },
  {
   "metadata": {
    "ExecuteTime": {
     "end_time": "2025-06-24T03:06:27.873963Z",
     "start_time": "2025-06-24T03:06:27.859607Z"
    }
   },
   "cell_type": "code",
   "source": [
    "from neo4j import Session\n",
    "\n",
    "def load_users(session: Session, user_data: list, batch_size: int = 1000) -> None:\n",
    "    \"\"\"Creates User nodes with rating history embedded as arrays.\"\"\"\n",
    "    \n",
    "    query = \"\"\"\n",
    "    UNWIND $batch AS user\n",
    "    MERGE (u:User {userId: user.userId})\n",
    "    SET u.ratingCount = user.ratingCount,\n",
    "        u.avgRating = user.avgRating,\n",
    "        u.ratedMovieIds = user.ratedMovieIds,\n",
    "        u.ratedScores = user.ratedScores,\n",
    "        u.ratedTimestamps = user.ratedTimestamps\n",
    "    \"\"\"\n",
    "\n",
    "    if batch_size is None:\n",
    "        batch_size = len(user_data)\n",
    "\n",
    "    for i in range(0, len(user_data), batch_size):\n",
    "        batch = user_data[i:i + batch_size]\n",
    "        session.run(query, batch=batch)\n",
    "\n",
    "\n",
    "def load_movies(session: Session, movie_data: list, batch_size: int = 1000) -> None:\n",
    "    \"\"\"Creates Movie nodes with embedded genome tags (tagGenome).\"\"\"\n",
    "         \n",
    "    # Cypher query to store Movie nodes with embedded data\n",
    "    query = \"\"\"\n",
    "    UNWIND $batch AS movie\n",
    "    MERGE (m:Movie {movieId: movie.movieId})\n",
    "    SET m.title = movie.title,\n",
    "        m.year = movie.year,\n",
    "        m.genres = movie.genres,\n",
    "        m.ratingCount = movie.ratingCount,\n",
    "        m.avgRating = movie.avgRating,\n",
    "        m.ratingDistKeys = movie.ratingDistKeys,\n",
    "        m.ratingDistValues = movie.ratingDistValues,        \n",
    "        m.tagIds = movie.tagIds,\n",
    "        m.tagRelevances = movie.tagRelevances,\n",
    "        m.tagNames = movie.tagNames\n",
    "    \"\"\"\n",
    "    \n",
    "    if batch_size is None:\n",
    "        batch_size = len(movie_data)\n",
    "\n",
    "    for i in range(0, len(movie_data), batch_size):\n",
    "        batch = movie_data[i:i + batch_size]\n",
    "        session.run(query, batch=batch)\n",
    "\n",
    "\n",
    "def load_ratings(session: Session, ratings_df: pd.DataFrame, batch_size: int = 1000) -> None:\n",
    "    \"\"\"Creates User and Movie nodes with RATED relationships.\"\"\"\n",
    "    rating_data = ratings_df.to_dict(\"records\")\n",
    "    \n",
    "    query = \"\"\"\n",
    "    UNWIND $batch AS row\n",
    "    MERGE (u:User {userId: row.userId})\n",
    "    MERGE (m:Movie {movieId: row.movieId})\n",
    "    MERGE (u)-[r:RATED]->(m)\n",
    "    SET r.rating = row.rating, \n",
    "        r.timestamp = row.timestamp\n",
    "    \"\"\"\n",
    "   \n",
    "    if batch_size is None:\n",
    "        batch_size = len(ratings_df)\n",
    "    \n",
    "    # Process in batches to avoid memory issues\n",
    "    for i in range(0, len(rating_data), batch_size):\n",
    "        batch = rating_data[i:i + batch_size]\n",
    "        session.run(query, batch=batch)\n",
    "\n",
    "def load_tags(session: Session, tags_df: pd.DataFrame, batch_size: int = 1000) -> None:\n",
    "    \"\"\"Creates TAGGED relationships between existing Users and Movies\"\"\"\n",
    "    # Clean data - remove null tags\n",
    "    tag_data = tags_df.dropna(subset=[\"tag\"]).to_dict(\"records\")\n",
    "    \n",
    "    query = \"\"\"\n",
    "    UNWIND $batch AS row\n",
    "    MATCH (u:User {userId: row.userId})\n",
    "    MATCH (m:Movie {movieId: row.movieId})\n",
    "    MERGE (u)-[t:TAGGED]->(m)\n",
    "    SET t.tag = row.tag\n",
    "    \"\"\"\n",
    "       \n",
    "    if batch_size is None:\n",
    "        batch_size = len(tags_df)\n",
    "        \n",
    "    for i in range(0, len(tag_data), batch_size):\n",
    "        batch = tag_data[i:i + batch_size]\n",
    "        session.run(query, batch=batch)"
   ],
   "id": "45de4af9f5885680",
   "outputs": [],
   "execution_count": 188
  },
  {
   "metadata": {
    "ExecuteTime": {
     "end_time": "2025-06-24T03:06:29.021389Z",
     "start_time": "2025-06-24T03:06:27.874836Z"
    }
   },
   "cell_type": "code",
   "source": [
    "result = session.run(\"MATCH (n) DETACH DELETE n\")\n",
    "summary = result.consume()\n",
    "\n",
    "print(\"Query summary:\")\n",
    "print(f\"Nodes deleted: {summary.counters.nodes_deleted}\")\n",
    "print(f\"Relationships deleted: {summary.counters.relationships_deleted}\")"
   ],
   "id": "109afff1caacefb8",
   "outputs": [
    {
     "name": "stdout",
     "output_type": "stream",
     "text": [
      "Query summary:\n",
      "Nodes deleted: 30889\n",
      "Relationships deleted: 0\n"
     ]
    }
   ],
   "execution_count": 189
  },
  {
   "metadata": {
    "jupyter": {
     "is_executing": true
    },
    "ExecuteTime": {
     "start_time": "2025-06-24T03:06:29.024131Z"
    }
   },
   "cell_type": "code",
   "source": [
    "import time\n",
    "\n",
    "start_time = time.time()\n",
    "\n",
    "stats = {\n",
    "    'movies_loaded': 0,\n",
    "    'users_loaded': 0,\n",
    "    'rates_created': 0,\n",
    "    'tags_created': 0,\n",
    "    'execution_time': 0\n",
    "}\n",
    "\n",
    "BATCH_SIZE = None\n",
    "\n",
    "# Insert data\n",
    "try:\n",
    "    print(\"Starting data loading process...\")\n",
    "    \n",
    "    # Load users (foundational nodes)\n",
    "    print(\"\\nLoading users...\")\n",
    "    user_start = time.time()\n",
    "    load_users(session, user_docs, BATCH_SIZE)\n",
    "    stats['users_loaded'] = len(user_docs)\n",
    "    print(f\"Users loaded in {time.time() - user_start:.2f}s\")\n",
    "    \n",
    "    # Load movies (foundational nodes)\n",
    "    print(\"\\nLoading movies...\")\n",
    "    movie_start = time.time()\n",
    "    load_movies(session, movie_docs, BATCH_SIZE)\n",
    "    stats['movies_loaded'] = len(movie_docs)\n",
    "    print(f\"Movies loaded in {time.time() - movie_start:.2f}s\")\n",
    "    \n",
    "    # Load users through ratings\n",
    "    print(\"\\nLoading ratings...\")\n",
    "    ratings_start = time.time()\n",
    "    load_ratings(session, filtered_ratings, BATCH_SIZE)\n",
    "    stats['rates_created'] = len(filtered_ratings)\n",
    "    print(f\"Ratings loaded in {time.time() - ratings_start:.2f}s\")\n",
    "    \n",
    "    # Load tags\n",
    "    print(\"\\nLoading tags...\")\n",
    "    tags_start = time.time()\n",
    "    load_tags(session, filtered_tags, BATCH_SIZE)\n",
    "    stats['tags_created'] = len(filtered_tags)\n",
    "    print(f\"Tags loaded in {time.time() - tags_start:.2f}s\")\n",
    "\n",
    "except Exception as e:\n",
    "    print(f\"\\nError during data loading: {str(e)}\")\n",
    "    raise\n",
    "finally:\n",
    "    stats['execution_time'] = time.time() - start_time\n",
    "    print(f\"\\nTotal processing time: {stats['execution_time']:.2f} seconds\")\n",
    "    print(f\"Summary: {stats}\")"
   ],
   "id": "7c2e46f56839e251",
   "outputs": [
    {
     "name": "stdout",
     "output_type": "stream",
     "text": [
      "Starting data loading process...\n",
      "\n",
      "Loading users...\n",
      "Users loaded in 5.06s\n",
      "\n",
      "Loading movies...\n",
      "Movies loaded in 41.47s\n",
      "\n",
      "Loading ratings...\n"
     ]
    }
   ],
   "execution_count": null
  },
  {
   "metadata": {},
   "cell_type": "markdown",
   "source": "### Sample Movie",
   "id": "caa1c708699c44a8"
  },
  {
   "metadata": {
    "jupyter": {
     "is_executing": true
    }
   },
   "cell_type": "code",
   "source": [
    "query = \"\"\"\n",
    "MATCH (m:Movie)\n",
    "RETURN m\n",
    "LIMIT 1\n",
    "\"\"\"\n",
    "\n",
    "result = session.run(query)\n",
    "\n",
    "for record in result:\n",
    "    movie_node = record[\"m\"]\n",
    "    pprint(dict(movie_node), width=200, compact=True)"
   ],
   "id": "1c0a96b7cbaa60b9",
   "outputs": [],
   "execution_count": null
  },
  {
   "metadata": {},
   "cell_type": "markdown",
   "source": "### Sample User",
   "id": "bcf9230354e8d635"
  },
  {
   "metadata": {
    "jupyter": {
     "is_executing": true
    }
   },
   "cell_type": "code",
   "source": [
    "query = \"\"\"\n",
    "MATCH (u:User)\n",
    "RETURN u\n",
    "LIMIT 1\n",
    "\"\"\"\n",
    "\n",
    "result = session.run(query)\n",
    "\n",
    "for record in result:\n",
    "    user_node = record[\"u\"]\n",
    "    pprint(dict(user_node), width=200, compact=True) "
   ],
   "id": "ace042b3b99c9f1",
   "outputs": [],
   "execution_count": null
  },
  {
   "metadata": {},
   "cell_type": "markdown",
   "source": [
    "# Single-Threaded Benchmark\n",
    "Simulate User Load, real time latency stress"
   ],
   "id": "17642abe05937586"
  },
  {
   "metadata": {
    "jupyter": {
     "is_executing": true
    }
   },
   "cell_type": "code",
   "source": [
    "from neo4j import Session\n",
    "from typing import Union\n",
    "\n",
    "def print_plan_tree(plan: Union[dict, object], indent=0):\n",
    "    prefix = \"  \" * indent\n",
    "    if isinstance(plan, dict):\n",
    "        operator = plan.get(\"operatorType\", \"Unknown\")\n",
    "        arguments = plan.get(\"args\", plan.get(\"arguments\", {}))\n",
    "        children = plan.get(\"children\", [])\n",
    "    else:\n",
    "        operator = plan.operator_type\n",
    "        arguments = plan.arguments\n",
    "        children = plan.children\n",
    "\n",
    "    print(f\"{prefix}- Operator: {operator}\")\n",
    "    for key, value in arguments.items():\n",
    "        print(f\"{prefix}    {key}: {value}\")\n",
    "\n",
    "    for child in children:\n",
    "        print_plan_tree(child, indent + 1)\n",
    "\n",
    "def explain_query_plan(session: Session):\n",
    "    result = session.run(\"\"\"\n",
    "        EXPLAIN\n",
    "        MATCH (m:Movie {movieId: $id})\n",
    "        RETURN m\n",
    "        LIMIT 1\n",
    "    \"\"\", id=8977)\n",
    "\n",
    "    summary = result.consume()\n",
    "    plan = summary.plan  # This may be a dict depending on driver version\n",
    "\n",
    "    print(\"Logical Query Plan:\\n\" + \"-\"*40)\n",
    "    print_plan_tree(plan)\n",
    "\n",
    "explain_query_plan(session)"
   ],
   "id": "9cb35941803ba2ca",
   "outputs": [],
   "execution_count": null
  },
  {
   "metadata": {
    "jupyter": {
     "is_executing": true
    }
   },
   "cell_type": "code",
   "source": [
    "from typing import Union\n",
    "\n",
    "def print_profile_tree(plan: Union[dict, object], indent=0):\n",
    "    prefix = \"  \" * indent\n",
    "\n",
    "    # Handle dict-style plan (fallback)\n",
    "    if isinstance(plan, dict):\n",
    "        operator = plan.get(\"operatorType\", \"Unknown\")\n",
    "        arguments = plan.get(\"args\", plan.get(\"arguments\", {}))\n",
    "        children = plan.get(\"children\", [])\n",
    "        records = plan.get(\"records\", \"?\")\n",
    "        db_hits = plan.get(\"dbHits\", \"?\")\n",
    "    else:\n",
    "        operator = plan.operator_type\n",
    "        arguments = plan.arguments\n",
    "        children = plan.children\n",
    "        records = getattr(plan, \"records\", \"?\")\n",
    "        db_hits = getattr(plan, \"db_hits\", \"?\")\n",
    "\n",
    "    print(f\"{prefix}- Operator: {operator}\")\n",
    "    for key, value in arguments.items():\n",
    "        print(f\"{prefix}    {key}: {value}\")\n",
    "    print(f\"{prefix}    Rows: {records}\")\n",
    "    print(f\"{prefix}    DB Hits: {db_hits}\")\n",
    "\n",
    "    for child in children:\n",
    "        print_profile_tree(child, indent + 1)\n",
    "\n",
    "def profile_query_plan(session: Session):\n",
    "    result = session.run(\"\"\"\n",
    "        PROFILE\n",
    "        MATCH (m:Movie {movieId: $id})\n",
    "        RETURN m\n",
    "        LIMIT 1\n",
    "    \"\"\", id=123)\n",
    "\n",
    "    summary = result.consume()\n",
    "    plan = summary.profile\n",
    "\n",
    "    print(\"Physical Execution Plan with Stats:\\n\" + \"-\"*50)\n",
    "    print_profile_tree(plan)\n",
    "\n",
    "profile_query_plan(session)"
   ],
   "id": "6269f7a2df0daa6d",
   "outputs": [],
   "execution_count": null
  },
  {
   "metadata": {},
   "cell_type": "markdown",
   "source": [
    "### Benchmark:\n",
    "\n",
    "- Prevent memory caching.\n",
    "- Use indexed queries that simulate realistic application behavior.\n",
    "- Measure read & writes.\n",
    "- Randomized access patterns, multi-threading, or batch loads. (Out of scope)\n"
   ],
   "id": "a64c10fbeb6b453c"
  },
  {
   "metadata": {
    "jupyter": {
     "is_executing": true
    }
   },
   "cell_type": "code",
   "source": [
    "import random\n",
    "from src.benchmark.neo4j_benchmark import run_benchmark"
   ],
   "id": "7c6918dedd43c495",
   "outputs": [],
   "execution_count": null
  },
  {
   "metadata": {
    "jupyter": {
     "is_executing": true
    }
   },
   "cell_type": "code",
   "source": [
    "# Create indexes: B-tree indexes (the default structure) in Neo4j\n",
    "def create_indexes(session: Session) -> None:\n",
    "    session.run(\"CREATE INDEX movie_id_index FOR (m:Movie) ON (m.movieId)\")\n",
    "    session.run(\"CREATE INDEX genres_index FOR (m:Movie) ON (m.genres)\")\n",
    "    session.run(\"CREATE INDEX user_id_index FOR (u:User) ON (u.userId)\")"
   ],
   "id": "83bbc10550b21502",
   "outputs": [],
   "execution_count": null
  },
  {
   "metadata": {
    "jupyter": {
     "is_executing": true
    }
   },
   "cell_type": "code",
   "source": [
    "# ----------- Read Operations -------------\n",
    "def find_by_movie_id():\n",
    "    movie_id = random.randint(1, 1000)\n",
    "    with driver.session() as session:\n",
    "        t0 = time.perf_counter_ns()\n",
    "        result = session.run(\"\"\"\n",
    "            MATCH (m:Movie {movieId: $movie_id})\n",
    "            RETURN m\n",
    "            LIMIT 1\n",
    "        \"\"\", movie_id=movie_id)\n",
    "        driver_time_ns = time.perf_counter_ns() - t0       \n",
    "        return [record[\"m\"] for record in result], driver_time_ns\n",
    "\n",
    "\n",
    "def top_rated_movie():\n",
    "    with driver.session() as session:\n",
    "        t0 = time.perf_counter_ns()\n",
    "        result = session.run(\"\"\"\n",
    "            MATCH (m:Movie)\n",
    "            WHERE m.avgRating > 4.5\n",
    "            RETURN m\n",
    "            LIMIT 10\n",
    "        \"\"\")\n",
    "        driver_time_ns = time.perf_counter_ns() - t0       \n",
    "        return [record[\"m\"] for record in result], driver_time_ns\n",
    "\n",
    "def search_by_genre():\n",
    "    with driver.session() as session:\n",
    "        t0 = time.perf_counter_ns()\n",
    "        result = session.run(\"\"\"\n",
    "            MATCH (m:Movie)\n",
    "            WHERE \"Comedy\" IN m.genres\n",
    "            RETURN m\n",
    "            LIMIT 10\n",
    "        \"\"\")\n",
    "        driver_time_ns = time.perf_counter_ns() - t0       \n",
    "        return [record[\"m\"] for record in result], driver_time_ns\n",
    "\n",
    "def search_by_title_regex():\n",
    "    with driver.session() as session:\n",
    "        t0 = time.perf_counter_ns()\n",
    "        result = session.run(\"\"\"\n",
    "            MATCH (m:Movie)\n",
    "            WHERE toLower(m.title) CONTAINS \"story\"\n",
    "            RETURN m\n",
    "            LIMIT 5\n",
    "        \"\"\")\n",
    "        driver_time_ns = time.perf_counter_ns() - t0       \n",
    "        return [record[\"m\"] for record in result], driver_time_ns\n",
    "\n",
    "def user_movie_join():\n",
    "    user_ids = [random.randint(1, 1000) for _ in range(3)]\n",
    "    with driver.session() as session:\n",
    "        t0 = time.perf_counter_ns()\n",
    "        result = session.run(\"\"\"\n",
    "            MATCH (u:User)-[r:RATED]->(m:Movie)\n",
    "            WHERE u.userId IN $user_ids\n",
    "            RETURN u, collect(m) AS movies\n",
    "            LIMIT 3\n",
    "        \"\"\", user_ids=user_ids)\n",
    "        driver_time_ns = time.perf_counter_ns() - t0       \n",
    "        return [{\"user\": record[\"u\"], \"movies\": record[\"movies\"]} for record in result], driver_time_ns"
   ],
   "id": "d99b12e28560bdf9",
   "outputs": [],
   "execution_count": null
  },
  {
   "metadata": {
    "jupyter": {
     "is_executing": true
    }
   },
   "cell_type": "code",
   "source": [
    "queries = [\n",
    "    (\"find_by_id\", find_by_movie_id),\n",
    "    (\"top_rated\", top_rated_movie),\n",
    "    (\"genre_search\", search_by_genre),\n",
    "    (\"title_search_regex\", search_by_title_regex),\n",
    "    (\"user_ratings_with_movie_details\", user_movie_join),\n",
    "]\n",
    "\n",
    "for query_id, query_func in queries:\n",
    "    result = run_benchmark(query_id, query_func, duration=20)\n",
    "    print(f\"{query_id} result summary:\", result.summary)"
   ],
   "id": "78c8879f4c98ddc2",
   "outputs": [],
   "execution_count": null
  },
  {
   "metadata": {
    "jupyter": {
     "is_executing": true
    }
   },
   "cell_type": "code",
   "source": [
    "from src.benchmark.utils import plot_benchmark_results\n",
    "\n",
    "plot_benchmark_results(\n",
    "    query_id,\n",
    "    result.series[\"sys_cpu_pct\"],\n",
    "    result.series[\"sys_mem_pct\"],\n",
    "    result.series[\"wall_ms\"],    \n",
    "    result.series[\"driver_ms\"],\n",
    "    neo4j_mem=result.series[\"neo4j_rss_mb\"]\n",
    ")"
   ],
   "id": "58f56c17227e519d",
   "outputs": [],
   "execution_count": null
  },
  {
   "metadata": {
    "jupyter": {
     "is_executing": true
    }
   },
   "cell_type": "code",
   "source": [
    "from src.benchmark.utils import generate_rand_movie_doc\n",
    "\n",
    "generate_rand_movie_doc(random.randint(1, 10_000))"
   ],
   "id": "da0b0045f7ea8730",
   "outputs": [],
   "execution_count": null
  },
  {
   "metadata": {
    "jupyter": {
     "is_executing": true
    }
   },
   "cell_type": "code",
   "source": [
    "# ----------- Write Operations -------------\n",
    "def insert_single_movie():\n",
    "    doc = generate_rand_movie_doc(random.randint(1, 10_000))\n",
    "    with driver.session() as session:\n",
    "        t0 = time.perf_counter_ns()\n",
    "        session.run(\"\"\"\n",
    "            CREATE (m:Movie {\n",
    "                movieId: $movieId,\n",
    "                title: $title,\n",
    "                year: $year,\n",
    "                genres: $genres,\n",
    "                avgRating: $avgRating,\n",
    "                ratingCount: $ratingCount,\n",
    "                ratingDistKeys: $ratingDistKeys,\n",
    "                ratingDistValues: $ratingDistValues,\n",
    "                tagIds: $tagIds,\n",
    "                tagNames: $tagNames,\n",
    "                tagRelevances: $tagRelevances\n",
    "            })\n",
    "        \"\"\", \n",
    "        movieId=doc[\"movieId\"],\n",
    "        title=doc[\"title\"],\n",
    "        year=doc[\"year\"],\n",
    "        genres=doc[\"genres\"],\n",
    "        avgRating=doc[\"stats\"][\"avgRating\"],\n",
    "        ratingCount=doc[\"stats\"][\"ratingCount\"],\n",
    "        ratingDistKeys=list(doc[\"stats\"][\"ratingDistribution\"].keys()),\n",
    "        ratingDistValues=list(doc[\"stats\"][\"ratingDistribution\"].values()),\n",
    "        tagIds=[tag[\"tagId\"] for tag in doc[\"tagGenome\"]],\n",
    "        tagNames=[tag[\"tag\"] for tag in doc[\"tagGenome\"]],\n",
    "        tagRelevances=[tag[\"relevance\"] for tag in doc[\"tagGenome\"]])\n",
    "        driver_time_ns = time.perf_counter_ns() - t0\n",
    "    return True, driver_time_ns"
   ],
   "id": "46a40106fd5f4110",
   "outputs": [],
   "execution_count": null
  },
  {
   "metadata": {
    "jupyter": {
     "is_executing": true
    }
   },
   "cell_type": "code",
   "source": [
    "import time\n",
    "\n",
    "def insert_multiple_movies():\n",
    "    docs = [generate_rand_movie_doc(random.randint(1, 10_000)) for _ in range(5)]\n",
    "\n",
    "    unwind_data = []\n",
    "    for doc in docs:\n",
    "        unwind_data.append({\n",
    "            \"movieId\": doc[\"movieId\"],\n",
    "            \"title\": doc[\"title\"],\n",
    "            \"year\": doc[\"year\"],\n",
    "            \"genres\": doc[\"genres\"],\n",
    "            \"avgRating\": doc[\"stats\"][\"avgRating\"],\n",
    "            \"ratingCount\": doc[\"stats\"][\"ratingCount\"],\n",
    "            \"ratingDistKeys\": list(doc[\"stats\"][\"ratingDistribution\"].keys()),\n",
    "            \"ratingDistValues\": list(doc[\"stats\"][\"ratingDistribution\"].values()),\n",
    "            \"tagIds\": [tag[\"tagId\"] for tag in doc[\"tagGenome\"]],\n",
    "            \"tagNames\": [tag[\"tag\"] for tag in doc[\"tagGenome\"]],\n",
    "            \"tagRelevances\": [tag[\"relevance\"] for tag in doc[\"tagGenome\"]],\n",
    "        })\n",
    "\n",
    "    with driver.session() as session:\n",
    "        t0 = time.perf_counter_ns()\n",
    "        session.run(\"\"\"\n",
    "            UNWIND $batch AS movie\n",
    "            CREATE (m:Movie {\n",
    "                movieId: movie.movieId,\n",
    "                title: movie.title,\n",
    "                year: movie.year,\n",
    "                genres: movie.genres,\n",
    "                avgRating: movie.avgRating,\n",
    "                ratingCount: movie.ratingCount,\n",
    "                ratingDistKeys: movie.ratingDistKeys,\n",
    "                ratingDistValues: movie.ratingDistValues,\n",
    "                tagIds: movie.tagIds,\n",
    "                tagNames: movie.tagNames,\n",
    "                tagRelevances: movie.tagRelevances\n",
    "            })\n",
    "        \"\"\", batch=unwind_data)\n",
    "        driver_time_ns = time.perf_counter_ns() - t0\n",
    "\n",
    "    return True, driver_time_ns"
   ],
   "id": "ba7858d66e8f459d",
   "outputs": [],
   "execution_count": null
  },
  {
   "metadata": {
    "jupyter": {
     "is_executing": true
    }
   },
   "cell_type": "code",
   "source": [
    "from datetime import datetime\n",
    "\n",
    "def insert_user_with_ratings():\n",
    "    user_id = random.randint(1, 5_000)\n",
    "    ratings = [{\n",
    "        \"movieId\": random.randint(1, 1000),\n",
    "        \"rating\": round(random.uniform(1.0, 5.0), 1),\n",
    "        \"timestamp\": int(datetime.now().timestamp())\n",
    "    } for _ in range(5)]\n",
    "\n",
    "    with driver.session() as session:\n",
    "        t0 = time.perf_counter_ns()\n",
    "\n",
    "        # Create the User node\n",
    "        session.run(\"\"\"\n",
    "            CREATE (u:User {\n",
    "                userId: $userId,\n",
    "                name: $name,\n",
    "                ratingCount: $ratingCount\n",
    "            })\n",
    "        \"\"\", userId=user_id, name=f\"User_{user_id}\", ratingCount=len(ratings))\n",
    "\n",
    "        # Create the RATED relationships\n",
    "        for rating in ratings:\n",
    "            session.run(\"\"\"\n",
    "                MERGE (m:Movie {movieId: $movieId})\n",
    "                MERGE (u:User {userId: $userId})\n",
    "                CREATE (u)-[:RATED {\n",
    "                    rating: $rating,\n",
    "                    timestamp: $timestamp\n",
    "                }]->(m)\n",
    "            \"\"\", movieId=rating[\"movieId\"], userId=user_id,\n",
    "                 rating=rating[\"rating\"], timestamp=rating[\"timestamp\"])\n",
    "\n",
    "        driver_time_ns = time.perf_counter_ns() - t0\n",
    "\n",
    "    return True, driver_time_ns"
   ],
   "id": "ce8a79aba42c0315",
   "outputs": [],
   "execution_count": null
  },
  {
   "metadata": {
    "jupyter": {
     "is_executing": true
    }
   },
   "cell_type": "code",
   "source": [
    "write_queries = [\n",
    "    (\"insert_single_movie\", insert_single_movie),\n",
    "    (\"insert_multiple_movies\", insert_multiple_movies),\n",
    "    (\"insert_user_with_ratings\", insert_user_with_ratings),\n",
    "]\n",
    "\n",
    "for query_id, query_func in write_queries:\n",
    "    result = run_benchmark(query_id, query_func, duration=20)\n",
    "    print(f\"{query_id} result summary:\", result.summary)"
   ],
   "id": "c4d6071651e26766",
   "outputs": [],
   "execution_count": null
  },
  {
   "metadata": {
    "jupyter": {
     "is_executing": true
    }
   },
   "cell_type": "code",
   "source": [
    "from src.benchmark.utils import plot_benchmark_results\n",
    "\n",
    "plot_benchmark_results(\n",
    "    query_id,\n",
    "    result.series[\"sys_cpu_pct\"],\n",
    "    result.series[\"sys_mem_pct\"],\n",
    "    result.series[\"wall_ms\"],    \n",
    "    result.series[\"driver_ms\"],\n",
    "    neo4j_mem=result.series[\"neo4j_rss_mb\"]\n",
    ")"
   ],
   "id": "b77d4dec187b5ded",
   "outputs": [],
   "execution_count": null
  },
  {
   "metadata": {
    "jupyter": {
     "is_executing": true
    }
   },
   "cell_type": "code",
   "source": [
    "import numpy as np\n",
    "\n",
    "USER_SAMPLE_SIZE = 500\n",
    "SAMPLE_POOL = list(np.random.choice(selected_users, size=USER_SAMPLE_SIZE, replace=False))"
   ],
   "id": "ba25bd92ebea3ca8",
   "outputs": [],
   "execution_count": null
  },
  {
   "metadata": {
    "jupyter": {
     "is_executing": true
    }
   },
   "cell_type": "code",
   "source": [
    "# ----------- Update Operations -------------\n",
    "def update_user_rating_timestamps():\n",
    "    user_id = SAMPLE_POOL.pop()\n",
    "    \n",
    "    with driver.session() as session:\n",
    "        t0 = time.perf_counter_ns()\n",
    "\n",
    "        session.run(\"\"\"\n",
    "            MATCH (u:User {userId: $userId})-[r:RATED]->(:Movie)\n",
    "            SET r.timestamp = datetime({ epochSeconds: r.timestamp })\n",
    "        \"\"\", userId=user_id)\n",
    "\n",
    "        driver_time_ns = time.perf_counter_ns() - t0\n",
    "\n",
    "    return True, driver_time_ns"
   ],
   "id": "b9989eeb25aef210",
   "outputs": [],
   "execution_count": null
  },
  {
   "metadata": {
    "jupyter": {
     "is_executing": true
    }
   },
   "cell_type": "code",
   "source": [
    "update_queries = [\n",
    "    (\"update_user_rating_timestamps\", update_user_rating_timestamps)\n",
    "]\n",
    "\n",
    "for query_id, query_func in update_queries:\n",
    "    result = run_benchmark(query_id, query_func, duration=20)\n",
    "    print(f\"{query_id} result summary:\", result.summary)"
   ],
   "id": "2b9139a6b3f74719",
   "outputs": [],
   "execution_count": null
  },
  {
   "metadata": {
    "jupyter": {
     "is_executing": true
    }
   },
   "cell_type": "code",
   "source": [
    "from src.benchmark.utils import plot_benchmark_results\n",
    "\n",
    "plot_benchmark_results(\n",
    "    query_id,\n",
    "    result.series[\"sys_cpu_pct\"],\n",
    "    result.series[\"sys_mem_pct\"],\n",
    "    result.series[\"wall_ms\"],    \n",
    "    result.series[\"driver_ms\"],\n",
    "    neo4j_mem=result.series[\"neo4j_rss_mb\"]\n",
    ")"
   ],
   "id": "9df4becbf1626dec",
   "outputs": [],
   "execution_count": null
  },
  {
   "metadata": {
    "jupyter": {
     "is_executing": true
    }
   },
   "cell_type": "code",
   "source": "",
   "id": "65edb22093a05607",
   "outputs": [],
   "execution_count": null
  },
  {
   "metadata": {
    "jupyter": {
     "is_executing": true
    }
   },
   "cell_type": "code",
   "source": "",
   "id": "1d026e48a7732f3e",
   "outputs": [],
   "execution_count": null
  }
 ],
 "metadata": {
  "kernelspec": {
   "display_name": "Python 3",
   "language": "python",
   "name": "python3"
  },
  "language_info": {
   "codemirror_mode": {
    "name": "ipython",
    "version": 2
   },
   "file_extension": ".py",
   "mimetype": "text/x-python",
   "name": "python",
   "nbconvert_exporter": "python",
   "pygments_lexer": "ipython2",
   "version": "2.7.6"
  }
 },
 "nbformat": 4,
 "nbformat_minor": 5
}
