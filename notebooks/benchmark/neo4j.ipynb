{
 "cells": [
  {
   "cell_type": "code",
   "id": "initial_id",
   "metadata": {
    "collapsed": true,
    "ExecuteTime": {
     "end_time": "2025-06-20T12:38:48.890904Z",
     "start_time": "2025-06-20T12:38:48.818189Z"
    }
   },
   "source": [
    "%load_ext autoreload\n",
    "%autoreload 2"
   ],
   "outputs": [],
   "execution_count": 2
  },
  {
   "metadata": {},
   "cell_type": "markdown",
   "source": [
    "# Neo4j v2.0.1\n",
    "\n",
    "**Descarga**\n",
    "- [Descargar Neo4j Desktop v2.0.1 (macOS)](https://neo4j.com/download/neo4j-desktop/?edition=desktop&flavour=osx&release=2.0.1&offline=false)\n",
    "\n",
    "**Configuración**\n",
    "1. Instalar Neo4j Desktop.\n",
    "2. Abrir la app y crear un nuevo proyecto con \"Add\".\n",
    "3. Dentro del proyecto, seleccionar \"Add Graph\" → \"Local DBMS\".\n",
    "4. Configurar:\n",
    "   - Name: `BDNR_ml-25m`\n",
    "   - Password: `bdnr2025`\n",
    "   - Versión usada: `2025.05.0`\n",
    "5. Hacer clic en \"Create\".\n",
    "\n",
    "**Conexión**\n",
    "```\n",
    "neo4j://127.0.0.1:7687\n",
    "```"
   ],
   "id": "668b0ef2d4b070bc"
  },
  {
   "metadata": {
    "ExecuteTime": {
     "end_time": "2025-06-20T13:08:49.203400Z",
     "start_time": "2025-06-20T13:08:49.166798Z"
    }
   },
   "cell_type": "code",
   "source": [
    "import json\n",
    "from src.benchmark.utils import get_system_info\n",
    "import neo4j\n",
    "\n",
    "print(\"neo4j Version:\", neo4j.__version__)\n",
    "print(\"System Info:\\n\", json.dumps(get_system_info(), indent=3))"
   ],
   "id": "8cd5910406850f41",
   "outputs": [
    {
     "name": "stdout",
     "output_type": "stream",
     "text": [
      "neo4j Version: 5.28.1\n",
      "System Info:\n",
      " {\n",
      "   \"python_version\": \"3.12.1\",\n",
      "   \"system\": {\n",
      "      \"os\": \"Darwin\",\n",
      "      \"release\": \"24.5.0\",\n",
      "      \"machine\": \"x86_64\",\n",
      "      \"processor\": \"i386\"\n",
      "   },\n",
      "   \"cpu\": {\n",
      "      \"physical_cores\": 8,\n",
      "      \"total_cores\": 8,\n",
      "      \"frequency_mhz\": 2400\n",
      "   },\n",
      "   \"memory\": {\n",
      "      \"total_ram_gb\": 16.0,\n",
      "      \"available_ram_gb\": 0.75\n",
      "   }\n",
      "}\n"
     ]
    }
   ],
   "execution_count": 46
  },
  {
   "metadata": {},
   "cell_type": "markdown",
   "source": "# Data Load",
   "id": "599136a27b525b03"
  },
  {
   "metadata": {
    "ExecuteTime": {
     "end_time": "2025-06-20T13:10:09.397723Z",
     "start_time": "2025-06-20T13:10:09.356220Z"
    }
   },
   "cell_type": "code",
   "source": [
    "from neo4j import GraphDatabase\n",
    "\n",
    "uri = \"bolt://localhost:7687\"  \n",
    "user = \"neo4j\"\n",
    "password = \"bdnr2025\" \n",
    "\n",
    "driver = GraphDatabase.driver(uri, auth=(user, password))\n",
    "session = driver.session()"
   ],
   "id": "47b520bc4da15e56",
   "outputs": [],
   "execution_count": 48
  },
  {
   "metadata": {
    "ExecuteTime": {
     "end_time": "2025-06-20T13:10:42.139329Z",
     "start_time": "2025-06-20T13:10:42.056236Z"
    }
   },
   "cell_type": "code",
   "source": [
    "try:\n",
    "    session.run(\"RETURN 1\").single()\n",
    "    print(\"Successfully connected to Neo4j\")\n",
    "except Exception as e:\n",
    "    print(f\"Connection failed: {e}\")"
   ],
   "id": "40ca97b01ef1aef9",
   "outputs": [
    {
     "name": "stdout",
     "output_type": "stream",
     "text": [
      "Successfully connected to Neo4j\n"
     ]
    }
   ],
   "execution_count": 51
  },
  {
   "metadata": {
    "ExecuteTime": {
     "end_time": "2025-06-20T13:10:53.862502Z",
     "start_time": "2025-06-20T13:10:53.777276Z"
    }
   },
   "cell_type": "code",
   "source": [
    "databases = session.run(\"SHOW DATABASES\").data()\n",
    "print(\"Databases:\", [db[\"name\"] for db in databases])"
   ],
   "id": "eb1cd14440624b86",
   "outputs": [
    {
     "name": "stdout",
     "output_type": "stream",
     "text": [
      "Databases: ['neo4j', 'system']\n"
     ]
    }
   ],
   "execution_count": 52
  },
  {
   "metadata": {
    "ExecuteTime": {
     "end_time": "2025-06-20T13:11:00.188934Z",
     "start_time": "2025-06-20T13:11:00.127535Z"
    }
   },
   "cell_type": "code",
   "source": [
    "from pprint import pprint\n",
    "\n",
    "result = session.run(\"SHOW DATABASES\").data()\n",
    "for db in result:\n",
    "    print(f\"\\n{db['name']}\")\n",
    "    pprint(db, indent=2, width=100, depth=3, sort_dicts=False)"
   ],
   "id": "50faa504925d96c7",
   "outputs": [
    {
     "name": "stdout",
     "output_type": "stream",
     "text": [
      "\n",
      "neo4j\n",
      "{ 'name': 'neo4j',\n",
      "  'type': 'standard',\n",
      "  'aliases': [],\n",
      "  'access': 'read-write',\n",
      "  'address': 'localhost:7687',\n",
      "  'role': 'primary',\n",
      "  'writer': True,\n",
      "  'requestedStatus': 'online',\n",
      "  'currentStatus': 'online',\n",
      "  'statusMessage': '',\n",
      "  'default': True,\n",
      "  'home': True,\n",
      "  'constituents': []}\n",
      "\n",
      "system\n",
      "{ 'name': 'system',\n",
      "  'type': 'system',\n",
      "  'aliases': [],\n",
      "  'access': 'read-write',\n",
      "  'address': 'localhost:7687',\n",
      "  'role': 'primary',\n",
      "  'writer': True,\n",
      "  'requestedStatus': 'online',\n",
      "  'currentStatus': 'online',\n",
      "  'statusMessage': '',\n",
      "  'default': False,\n",
      "  'home': False,\n",
      "  'constituents': []}\n"
     ]
    }
   ],
   "execution_count": 53
  },
  {
   "metadata": {},
   "cell_type": "markdown",
   "source": "### Batch Load: UNWIND & MERGE",
   "id": "30f06fdc4062d382"
  },
  {
   "metadata": {
    "ExecuteTime": {
     "end_time": "2025-06-20T12:39:04.955065Z",
     "start_time": "2025-06-20T12:38:49.979789Z"
    }
   },
   "cell_type": "code",
   "source": [
    "import pandas as pd\n",
    "\n",
    "# Read CSV files\n",
    "base_path = \"/Users/efaliveni//Downloads/ml-25m\"\n",
    "\n",
    "ratings = pd.read_csv(f\"{base_path}/ratings.csv\")\n",
    "movies = pd.read_csv(f\"{base_path}/movies.csv\")\n",
    "tags = pd.read_csv(f\"{base_path}/tags.csv\")\n",
    "genome_tags = pd.read_csv(f\"{base_path}/genome-tags.csv\")\n",
    "genome_scores = pd.read_csv(f\"{base_path}/genome-scores.csv\")"
   ],
   "id": "e02b733bb560ed8a",
   "outputs": [],
   "execution_count": 8
  },
  {
   "metadata": {
    "ExecuteTime": {
     "end_time": "2025-06-20T12:39:05.664935Z",
     "start_time": "2025-06-20T12:39:04.957106Z"
    }
   },
   "cell_type": "code",
   "source": [
    "# Filter Data\n",
    "SAMPLE_SIZE = 500\n",
    "\n",
    "selected_users = ratings['userId'].unique()[:SAMPLE_SIZE]\n",
    "filtered_ratings = ratings[ratings['userId'].isin(selected_users)]\n",
    "filtered_movie_ids = filtered_ratings['movieId'].unique()\n",
    "filtered_movies = movies[movies['movieId'].isin(filtered_movie_ids)].copy()\n",
    "filtered_tags = tags[tags['movieId'].isin(filtered_movie_ids)]\n",
    "filtered_scores = genome_scores[genome_scores['movieId'].isin(filtered_movie_ids)]"
   ],
   "id": "7f4f6193660f3e3",
   "outputs": [],
   "execution_count": 9
  },
  {
   "metadata": {
    "ExecuteTime": {
     "end_time": "2025-06-20T12:39:05.700955Z",
     "start_time": "2025-06-20T12:39:05.665785Z"
    }
   },
   "cell_type": "code",
   "source": [
    "from collections import defaultdict\n",
    "# Create a dictionary of genome tags for quick lookup\n",
    "genome_tags_dict = {row['tagId']: row['tag'] for _, row in genome_tags.iterrows()}\n",
    "\n",
    "# Build dictionaries to accumulate data\n",
    "ratings_by_movie = defaultdict(list)\n",
    "scores_by_movie = defaultdict(list)\n",
    "\n",
    "ratings_by_user = defaultdict(list)\n",
    "tags_by_user = defaultdict(list)"
   ],
   "id": "d30ffc349a493431",
   "outputs": [],
   "execution_count": 10
  },
  {
   "metadata": {
    "ExecuteTime": {
     "end_time": "2025-06-20T12:39:30.986354Z",
     "start_time": "2025-06-20T12:39:05.702551Z"
    }
   },
   "cell_type": "code",
   "source": [
    "# Process ratings and tags to build both movie and user views\n",
    "RELEVANCE_THRESHOLD = 0.8\n",
    "\n",
    "# Ratings\n",
    "for _, r in filtered_ratings.iterrows():\n",
    "    movie_id = int(r.movieId)\n",
    "    user_id = int(r.userId)\n",
    "    \n",
    "    # Add to movie's ratings\n",
    "    ratings_by_movie[movie_id].append({\n",
    "        \"userId\": user_id,\n",
    "        \"rating\": float(r.rating),\n",
    "        \"timestamp\": int(r.timestamp)\n",
    "    })\n",
    "    \n",
    "    # Add to user's ratings\n",
    "    ratings_by_user[user_id].append({\n",
    "        \"movieId\": movie_id,\n",
    "        \"rating\": float(r.rating),\n",
    "        \"timestamp\": int(r.timestamp)\n",
    "    })\n",
    "    \n",
    "# Tags (only for users), genome tag is the cleaned infered tag\n",
    "for _, t in filtered_tags.dropna(subset=[\"tag\"]).iterrows():\n",
    "    movie_id = int(t.movieId)\n",
    "    user_id = int(t.userId)\n",
    "    \n",
    "    tags_by_user[user_id].append({\n",
    "        \"movieId\": movie_id,\n",
    "        \"tag\": t.tag,\n",
    "        \"timestamp\": int(t.timestamp)\n",
    "    })\n",
    "    \n",
    "# Genome scores (only for movies), with 0.8 threshold\n",
    "for _, s in filtered_scores[filtered_scores.relevance > RELEVANCE_THRESHOLD].iterrows():\n",
    "    movie_id = int(s.movieId)\n",
    "    tag_id = int(s.tagId)\n",
    "    \n",
    "    scores_by_movie[movie_id].append({\n",
    "        \"tagId\": tag_id,\n",
    "        \"tag\": genome_tags_dict.get(tag_id, \"\"),\n",
    "        \"relevance\": float(s.relevance)\n",
    "    })"
   ],
   "id": "32bac236a4635829",
   "outputs": [],
   "execution_count": 11
  },
  {
   "metadata": {
    "ExecuteTime": {
     "end_time": "2025-06-20T12:39:31.271050Z",
     "start_time": "2025-06-20T12:39:30.989190Z"
    }
   },
   "cell_type": "code",
   "source": [
    "import re\n",
    "\n",
    "# Build movie documents\n",
    "movie_docs = []\n",
    "for _, m in filtered_movies.iterrows():\n",
    "    movie_id = int(m.movieId)\n",
    "   \n",
    "    # Extract year from title\n",
    "    title = m.title\n",
    "    year_match = re.search(r\"\\((\\d{4})\\)$\", title)\n",
    "    year = int(year_match.group(1)) if year_match else None\n",
    "    \n",
    "    # Get ratings and tags for this movie\n",
    "    movie_ratings = ratings_by_movie.get(movie_id, [])\n",
    "    tag_entries = scores_by_movie.get(movie_id, [])\n",
    "    \n",
    "    # Calculate statistics\n",
    "    rating_count = len(movie_ratings)\n",
    "    if rating_count > 0:\n",
    "        avg_rating = sum(r['rating'] for r in movie_ratings) / rating_count\n",
    "        # Calculate rating distribution (count of each star rating)\n",
    "        rating_dist = {\"0.5\":0, \"1.0\":0, \"1.5\":0, \"2.0\":0, \"2.5\":0, \n",
    "                      \"3.0\":0, \"3.5\":0, \"4.0\":0, \"4.5\":0, \"5.0\":0}\n",
    "        for r in movie_ratings:\n",
    "            rating_key = f\"{r['rating']}\"\n",
    "            rating_dist[rating_key] += 1 \n",
    "    else:\n",
    "        avg_rating = 0.0\n",
    "        rating_dist = {}  # will result in empty arrays below\n",
    "\n",
    "    # Neo4j only allows:\n",
    "    # - Single values: string, int, float, boolean, datetime\n",
    "    # - Arrays of primitive types: [int], [string], etc.\n",
    "    dist_keys = list(rating_dist.keys()) if rating_dist else []\n",
    "    dist_values = list(rating_dist.values()) if rating_dist else []\n",
    "    \n",
    "    tag_ids = [int(e[\"tagId\"]) for e in tag_entries]\n",
    "    tag_relevances = [float(e[\"relevance\"]) for e in tag_entries]\n",
    "    tag_names = [str(e[\"tag\"]) for e in tag_entries]\n",
    "    \n",
    "    movie_docs.append({\n",
    "        \"movieId\": movie_id,\n",
    "        \"title\": title,\n",
    "        \"year\": year,\n",
    "        \"genres\": m.genres if isinstance(m.genres, list) else [],\n",
    "        \"ratingCount\": rating_count,\n",
    "        \"avgRating\": avg_rating,\n",
    "        \"ratingDistKeys\": dist_keys,\n",
    "        \"ratingDistValues\": dist_values,\n",
    "        \"tagIds\": tag_ids,\n",
    "        \"tagRelevances\": tag_relevances,\n",
    "        \"tagNames\": tag_names\n",
    "    })"
   ],
   "id": "e8e15a51f9f60035",
   "outputs": [],
   "execution_count": 12
  },
  {
   "metadata": {
    "ExecuteTime": {
     "end_time": "2025-06-20T12:39:31.370232Z",
     "start_time": "2025-06-20T12:39:31.272098Z"
    }
   },
   "cell_type": "code",
   "source": [
    "user_docs = []\n",
    "\n",
    "for user_id in selected_users:\n",
    "    user_id = int(user_id)\n",
    "\n",
    "    user_ratings = ratings_by_user.get(user_id, [])\n",
    "    user_tags = tags_by_user.get(user_id, [])\n",
    "    \n",
    "    # Rating stats\n",
    "    rating_count = len(user_ratings)\n",
    "    avg_rating = sum(r['rating'] for r in user_ratings) / rating_count if rating_count > 0 else 0.0\n",
    "    \n",
    "    # Sort ratings by timestamp\n",
    "    user_ratings.sort(key=lambda r: r['timestamp'])\n",
    "\n",
    "    # Flatten ratings for Neo4j\n",
    "    rated_movie_ids = [r['movieId'] for r in user_ratings]\n",
    "    rated_scores = [r['rating'] for r in user_ratings]\n",
    "    rated_timestamps = [r['timestamp'] for r in user_ratings]\n",
    "\n",
    "    # (Optional future support for tags)\n",
    "    # tag_movie_ids = [t['movieId'] for t in user_tags]\n",
    "    # tag_labels = [t['tag'] for t in user_tags]\n",
    "    # tag_timestamps = [t['timestamp'] for t in user_tags]\n",
    "\n",
    "    user_docs.append({\n",
    "        \"userId\": user_id,\n",
    "        \"ratingCount\": rating_count,\n",
    "        \"avgRating\": round(avg_rating, 2),\n",
    "        \"ratedMovieIds\": rated_movie_ids,\n",
    "        \"ratedScores\": rated_scores,\n",
    "        \"ratedTimestamps\": rated_timestamps,\n",
    "        # \"tagMovieIds\": tag_movie_ids,\n",
    "        # \"tagLabels\": tag_labels,\n",
    "        # \"tagTimestamps\": tag_timestamps\n",
    "    })\n"
   ],
   "id": "2483873be200e27b",
   "outputs": [],
   "execution_count": 13
  },
  {
   "metadata": {
    "ExecuteTime": {
     "end_time": "2025-06-20T13:37:28.752651Z",
     "start_time": "2025-06-20T13:37:28.730039Z"
    }
   },
   "cell_type": "code",
   "source": [
    "from neo4j import Session\n",
    "\n",
    "def load_users(session: Session, user_data: list, batch_size: int = 1000) -> None:\n",
    "    \"\"\"Creates User nodes with rating history embedded as arrays.\"\"\"\n",
    "    \n",
    "    query = \"\"\"\n",
    "    UNWIND $batch AS user\n",
    "    MERGE (u:User {userId: user.userId})\n",
    "    SET u.ratingCount = user.ratingCount,\n",
    "        u.avgRating = user.avgRating,\n",
    "        u.ratedMovieIds = user.ratedMovieIds,\n",
    "        u.ratedScores = user.ratedScores,\n",
    "        u.ratedTimestamps = user.ratedTimestamps\n",
    "    \"\"\"\n",
    "\n",
    "    if batch_size is None:\n",
    "        batch_size = len(user_data)\n",
    "\n",
    "    for i in range(0, len(user_data), batch_size):\n",
    "        batch = user_data[i:i + batch_size]\n",
    "        session.run(query, batch=batch)\n",
    "\n",
    "\n",
    "def load_movies(session: Session, movie_data: list, batch_size: int = 1000) -> None:\n",
    "    \"\"\"Creates Movie nodes with embedded genome tags (tagGenome).\"\"\"\n",
    "         \n",
    "    # Cypher query to store Movie nodes with embedded data\n",
    "    query = \"\"\"\n",
    "    UNWIND $batch AS movie\n",
    "    MERGE (m:Movie {movieId: movie.movieId})\n",
    "    SET m.title = movie.title,\n",
    "        m.year = movie.year,\n",
    "        m.genres = movie.genres,\n",
    "        m.ratingCount = movie.ratingCount,\n",
    "        m.avgRating = movie.avgRating,\n",
    "        m.ratingDistKeys = movie.ratingDistKeys,\n",
    "        m.ratingDistValues = movie.ratingDistValues,        \n",
    "        m.tagIds = movie.tagIds,\n",
    "        m.tagRelevances = movie.tagRelevances,\n",
    "        m.tagNames = movie.tagNames\n",
    "    \"\"\"\n",
    "    \n",
    "    if batch_size is None:\n",
    "        batch_size = len(movie_data)\n",
    "\n",
    "    for i in range(0, len(movie_data), batch_size):\n",
    "        batch = movie_data[i:i + batch_size]\n",
    "        session.run(query, batch=batch)\n",
    "\n",
    "\n",
    "def load_ratings(session: Session, ratings_df: pd.DataFrame, batch_size: int = 1000) -> None:\n",
    "    \"\"\"Creates User and Movie nodes with RATED relationships.\"\"\"\n",
    "    rating_data = ratings_df.to_dict(\"records\")\n",
    "    \n",
    "    query = \"\"\"\n",
    "    UNWIND $batch AS row\n",
    "    MERGE (u:User {userId: row.userId})\n",
    "    MERGE (m:Movie {movieId: row.movieId})\n",
    "    MERGE (u)-[r:RATED]->(m)\n",
    "    SET r.rating = row.rating, \n",
    "        r.timestamp = datetime({epochSeconds: row.timestamp})\n",
    "    \"\"\"\n",
    "   \n",
    "    if batch_size is None:\n",
    "        batch_size = len(ratings_df)\n",
    "    \n",
    "    # Process in batches to avoid memory issues\n",
    "    for i in range(0, len(rating_data), batch_size):\n",
    "        batch = rating_data[i:i + batch_size]\n",
    "        session.run(query, batch=batch)\n",
    "\n",
    "def load_tags(session: Session, tags_df: pd.DataFrame, batch_size: int = 1000) -> None:\n",
    "    \"\"\"Creates TAGGED relationships between existing Users and Movies\"\"\"\n",
    "    # Clean data - remove null tags\n",
    "    tag_data = tags_df.dropna(subset=[\"tag\"]).to_dict(\"records\")\n",
    "    \n",
    "    query = \"\"\"\n",
    "    UNWIND $batch AS row\n",
    "    MATCH (u:User {userId: row.userId})\n",
    "    MATCH (m:Movie {movieId: row.movieId})\n",
    "    MERGE (u)-[t:TAGGED]->(m)\n",
    "    SET t.tag = row.tag\n",
    "    \"\"\"\n",
    "       \n",
    "    if batch_size is None:\n",
    "        batch_size = len(tags_df)\n",
    "        \n",
    "    for i in range(0, len(tag_data), batch_size):\n",
    "        batch = tag_data[i:i + batch_size]\n",
    "        session.run(query, batch=batch)"
   ],
   "id": "45de4af9f5885680",
   "outputs": [],
   "execution_count": 55
  },
  {
   "metadata": {
    "ExecuteTime": {
     "end_time": "2025-06-20T13:38:06.387956Z",
     "start_time": "2025-06-20T13:38:06.307376Z"
    }
   },
   "cell_type": "code",
   "source": [
    "result = session.run(\"MATCH (n) DETACH DELETE n\")\n",
    "summary = result.consume()\n",
    "\n",
    "print(\"Query summary:\")\n",
    "print(f\"Nodes deleted: {summary.counters.nodes_deleted}\")\n",
    "print(f\"Relationships deleted: {summary.counters.relationships_deleted}\")"
   ],
   "id": "109afff1caacefb8",
   "outputs": [
    {
     "name": "stdout",
     "output_type": "stream",
     "text": [
      "Query summary:\n",
      "Nodes deleted: 0\n",
      "Relationships deleted: 0\n"
     ]
    }
   ],
   "execution_count": 56
  },
  {
   "metadata": {
    "ExecuteTime": {
     "end_time": "2025-06-20T13:41:55.871593Z",
     "start_time": "2025-06-20T13:39:05.538714Z"
    }
   },
   "cell_type": "code",
   "source": [
    "import time\n",
    "\n",
    "start_time = time.time()\n",
    "\n",
    "stats = {\n",
    "    'movies_loaded': 0,\n",
    "    'users_loaded': 0,\n",
    "    'rates_created': 0,\n",
    "    'tags_created': 0,\n",
    "    'execution_time': 0\n",
    "}\n",
    "\n",
    "BATCH_SIZE = None\n",
    "\n",
    "# Insert data\n",
    "try:\n",
    "    print(\"Starting data loading process...\")\n",
    "    \n",
    "    # Load users (foundational nodes)\n",
    "    print(\"\\nLoading users...\")\n",
    "    user_start = time.time()\n",
    "    load_users(session, user_docs, BATCH_SIZE)\n",
    "    stats['users_loaded'] = len(user_docs)\n",
    "    print(f\"Users loaded in {time.time() - user_start:.2f}s\")\n",
    "    \n",
    "    # Load movies (foundational nodes)\n",
    "    print(\"\\nLoading movies...\")\n",
    "    movie_start = time.time()\n",
    "    load_movies(session, movie_docs, BATCH_SIZE)\n",
    "    stats['movies_loaded'] = len(movie_docs)\n",
    "    print(f\"Movies loaded in {time.time() - movie_start:.2f}s\")\n",
    "    \n",
    "    # Load users through ratings\n",
    "    print(\"\\nLoading ratings...\")\n",
    "    ratings_start = time.time()\n",
    "    load_ratings(session, filtered_ratings, BATCH_SIZE)\n",
    "    stats['rates_created'] = len(filtered_ratings)\n",
    "    print(f\"Ratings loaded in {time.time() - ratings_start:.2f}s\")\n",
    "    \n",
    "    # Load tags\n",
    "    print(\"\\nLoading tags...\")\n",
    "    tags_start = time.time()\n",
    "    load_tags(session, filtered_tags, BATCH_SIZE)\n",
    "    stats['tags_created'] = len(filtered_tags)\n",
    "    print(f\"Tags loaded in {time.time() - tags_start:.2f}s\")\n",
    "\n",
    "except Exception as e:\n",
    "    print(f\"\\nError during data loading: {str(e)}\")\n",
    "    raise\n",
    "finally:\n",
    "    stats['execution_time'] = time.time() - start_time\n",
    "    print(f\"\\nTotal processing time: {stats['execution_time']:.2f} seconds\")\n",
    "    print(f\"Summary: {stats}\")"
   ],
   "id": "7c2e46f56839e251",
   "outputs": [
    {
     "name": "stdout",
     "output_type": "stream",
     "text": [
      "Starting data loading process...\n",
      "\n",
      "Loading users...\n",
      "Users loaded in 0.60s\n",
      "\n",
      "Loading movies...\n",
      "Movies loaded in 6.33s\n",
      "\n",
      "Loading ratings...\n",
      "Ratings loaded in 86.42s\n",
      "\n",
      "Loading tags...\n",
      "Tags loaded in 76.91s\n",
      "\n",
      "Total processing time: 170.26 seconds\n",
      "Summary: {'movies_loaded': 7141, 'users_loaded': 500, 'rates_created': 62834, 'tags_created': 811156, 'execution_time': 170.26220202445984}\n"
     ]
    }
   ],
   "execution_count": 57
  },
  {
   "metadata": {},
   "cell_type": "markdown",
   "source": "### Sample Movie",
   "id": "caa1c708699c44a8"
  },
  {
   "metadata": {
    "ExecuteTime": {
     "end_time": "2025-06-20T13:44:51.041604Z",
     "start_time": "2025-06-20T13:44:50.970098Z"
    }
   },
   "cell_type": "code",
   "source": [
    "query = \"\"\"\n",
    "MATCH (m:Movie)\n",
    "RETURN m\n",
    "LIMIT 1\n",
    "\"\"\"\n",
    "\n",
    "result = session.run(query)\n",
    "\n",
    "for record in result:\n",
    "    movie_node = record[\"m\"]\n",
    "    pprint(dict(movie_node), width=200, compact=True)"
   ],
   "id": "1c0a96b7cbaa60b9",
   "outputs": [
    {
     "name": "stdout",
     "output_type": "stream",
     "text": [
      "{'avgRating': 2.5,\n",
      " 'genres': [],\n",
      " 'movieId': 8977,\n",
      " 'ratingCount': 6,\n",
      " 'ratingDistKeys': ['0.5', '1.0', '1.5', '2.0', '2.5', '3.0', '3.5', '4.0', '4.5', '5.0'],\n",
      " 'ratingDistValues': [0, 0, 2, 0, 1, 2, 1, 0, 0, 0],\n",
      " 'tagIds': [132, 359, 508, 509, 564],\n",
      " 'tagNames': ['big budget', 'epic', 'historical', 'history', 'irish accent'],\n",
      " 'tagRelevances': [0.8362499999999999, 0.92325, 0.9425, 0.89625, 0.8847499999999999],\n",
      " 'title': 'Alexander (2004)',\n",
      " 'year': 2004}\n"
     ]
    }
   ],
   "execution_count": 63
  },
  {
   "metadata": {},
   "cell_type": "markdown",
   "source": "### Sample User",
   "id": "bcf9230354e8d635"
  },
  {
   "metadata": {
    "ExecuteTime": {
     "end_time": "2025-06-20T13:45:22.001879Z",
     "start_time": "2025-06-20T13:45:21.947221Z"
    }
   },
   "cell_type": "code",
   "source": [
    "query = \"\"\"\n",
    "MATCH (u:User)\n",
    "RETURN u\n",
    "LIMIT 1\n",
    "\"\"\"\n",
    "\n",
    "result = session.run(query)\n",
    "\n",
    "for record in result:\n",
    "    user_node = record[\"u\"]\n",
    "    pprint(dict(user_node), width=200, compact=True) "
   ],
   "id": "ace042b3b99c9f1",
   "outputs": [
    {
     "name": "stdout",
     "output_type": "stream",
     "text": [
      "{'avgRating': 3.81,\n",
      " 'ratedMovieIds': [5952, 2012, 2011, 1653, 1250, 6539, 6377, 3448, 1088, 899, 4308, 2161, 6711, 3949, 8360, 5878, 306, 1175, 307, 1237, 7327, 8154, 7234, 2843, 4144, 7365, 2068, 4422, 4973, 6016,\n",
      "                   8873, 2692, 27721, 7323, 6954, 8014, 7939, 6370, 8973, 4703, 31956, 5147, 8786, 1260, 2351, 7940, 7209, 8685, 7820, 7937, 7938, 8405, 4325, 2632, 1217, 8729, 5912, 5767, 665, 2573,\n",
      "                   27266, 8327, 32591, 5269, 3569, 27193, 5684, 7318, 296, 7361],\n",
      " 'ratedScores': [4.0, 2.5, 2.5, 4.0, 4.0, 3.5, 4.0, 4.0, 4.0, 3.5, 3.0, 3.5, 5.0, 5.0, 4.0, 4.0, 3.5, 3.5, 5.0, 5.0, 3.5, 5.0, 4.5, 4.5, 5.0, 4.0, 2.5, 3.0, 4.5, 5.0, 3.0, 5.0, 3.0, 3.5, 3.5, 3.5,\n",
      "                 2.5, 4.5, 4.0, 4.0, 3.5, 4.0, 4.0, 3.5, 4.5, 4.5, 4.0, 1.0, 2.5, 3.0, 2.5, 3.5, 5.0, 5.0, 3.5, 3.5, 3.0, 5.0, 5.0, 4.0, 4.5, 5.0, 5.0, 0.5, 5.0, 3.0, 2.0, 2.0, 5.0, 5.0],\n",
      " 'ratedTimestamps': [1147868053, 1147868068, 1147868079, 1147868097, 1147868414, 1147868461, 1147868469, 1147868480, 1147868495, 1147868510, 1147868534, 1147868609, 1147868622, 1147868678, 1147868682,\n",
      "                     1147868807, 1147868817, 1147868826, 1147868828, 1147868839, 1147868855, 1147868865, 1147868869, 1147868891, 1147868898, 1147869033, 1147869044, 1147869048, 1147869080, 1147869090,\n",
      "                     1147869094, 1147869100, 1147869115, 1147869119, 1147869150, 1147869155, 1147869183, 1147869191, 1147869211, 1147869223, 1147877610, 1147877654, 1147877853, 1147877857, 1147877957,\n",
      "                     1147877967, 1147877986, 1147878023, 1147878050, 1147878055, 1147878063, 1147878095, 1147878122, 1147878248, 1147878326, 1147878452, 1147878698, 1147878729, 1147878820, 1147878923,\n",
      "                     1147879365, 1147879375, 1147879538, 1147879571, 1147879603, 1147879774, 1147879797, 1147879850, 1147880044, 1147880055],\n",
      " 'ratingCount': 70,\n",
      " 'userId': 1}\n"
     ]
    }
   ],
   "execution_count": 64
  },
  {
   "metadata": {},
   "cell_type": "markdown",
   "source": [
    "# Single-Threaded Benchmark\n",
    "Simulate User Load, real time latency stress"
   ],
   "id": "17642abe05937586"
  },
  {
   "metadata": {
    "ExecuteTime": {
     "end_time": "2025-06-20T13:54:17.943732Z",
     "start_time": "2025-06-20T13:54:17.855600Z"
    }
   },
   "cell_type": "code",
   "source": [
    "from neo4j import Session\n",
    "from typing import Union\n",
    "\n",
    "def print_plan_tree(plan: Union[dict, object], indent=0):\n",
    "    prefix = \"  \" * indent\n",
    "    if isinstance(plan, dict):\n",
    "        operator = plan.get(\"operatorType\", \"Unknown\")\n",
    "        arguments = plan.get(\"args\", plan.get(\"arguments\", {}))\n",
    "        children = plan.get(\"children\", [])\n",
    "    else:\n",
    "        operator = plan.operator_type\n",
    "        arguments = plan.arguments\n",
    "        children = plan.children\n",
    "\n",
    "    print(f\"{prefix}- Operator: {operator}\")\n",
    "    for key, value in arguments.items():\n",
    "        print(f\"{prefix}    {key}: {value}\")\n",
    "\n",
    "    for child in children:\n",
    "        print_plan_tree(child, indent + 1)\n",
    "\n",
    "def explain_query_plan(session: Session):\n",
    "    result = session.run(\"\"\"\n",
    "        EXPLAIN\n",
    "        MATCH (m:Movie {movieId: $id})\n",
    "        RETURN m\n",
    "        LIMIT 1\n",
    "    \"\"\", id=8977)\n",
    "\n",
    "    summary = result.consume()\n",
    "    plan = summary.plan  # This may be a dict depending on driver version\n",
    "\n",
    "    print(\"Logical Query Plan:\\n\" + \"-\"*40)\n",
    "    print_plan_tree(plan)\n",
    "\n",
    "explain_query_plan(session)"
   ],
   "id": "9cb35941803ba2ca",
   "outputs": [
    {
     "name": "stdout",
     "output_type": "stream",
     "text": [
      "Logical Query Plan:\n",
      "----------------------------------------\n",
      "- Operator: ProduceResults@neo4j\n",
      "    planner-impl: IDP\n",
      "    string-representation: Cypher 5\n",
      "\n",
      "Planner COST\n",
      "\n",
      "Runtime PIPELINED\n",
      "\n",
      "Runtime version 2025.05\n",
      "\n",
      "Batch size 128\n",
      "\n",
      "+------------------+----+-----------------+----------------+---------------------+\n",
      "| Operator         | Id | Details         | Estimated Rows | Pipeline            |\n",
      "+------------------+----+-----------------+----------------+---------------------+\n",
      "| +ProduceResults  |  0 | m               |              1 |                     |\n",
      "| |                +----+-----------------+----------------+                     |\n",
      "| +Limit           |  1 | 1               |              1 |                     |\n",
      "| |                +----+-----------------+----------------+                     |\n",
      "| +Filter          |  2 | m.movieId = $id |              1 |                     |\n",
      "| |                +----+-----------------+----------------+                     |\n",
      "| +NodeByLabelScan |  3 | m:Movie         |             20 | Fused in Pipeline 0 |\n",
      "+------------------+----+-----------------+----------------+---------------------+\n",
      "\n",
      "Total database accesses: ?\n",
      "\n",
      "    runtime: PIPELINED\n",
      "    runtime-impl: PIPELINED\n",
      "    version: 5\n",
      "    batch-size: 128\n",
      "    Details: m\n",
      "    planner-version: 2025.05\n",
      "    PipelineInfo: Fused in Pipeline 0\n",
      "    runtime-version: 2025.05\n",
      "    Id: 0\n",
      "    EstimatedRows: 1.0\n",
      "    planner: COST\n",
      "  - Operator: Limit@neo4j\n",
      "      Details: 1\n",
      "      Id: 1\n",
      "      EstimatedRows: 1.0\n",
      "      PipelineInfo: Fused in Pipeline 0\n",
      "    - Operator: Filter@neo4j\n",
      "        Details: m.movieId = $id\n",
      "        Id: 2\n",
      "        EstimatedRows: 1.0\n",
      "        PipelineInfo: Fused in Pipeline 0\n",
      "      - Operator: NodeByLabelScan@neo4j\n",
      "          Details: m:Movie\n",
      "          Id: 3\n",
      "          EstimatedRows: 20.0\n",
      "          PipelineInfo: Fused in Pipeline 0\n"
     ]
    }
   ],
   "execution_count": 68
  },
  {
   "metadata": {
    "ExecuteTime": {
     "end_time": "2025-06-20T14:23:27.626121Z",
     "start_time": "2025-06-20T14:23:27.559899Z"
    }
   },
   "cell_type": "code",
   "source": [
    "from typing import Union\n",
    "\n",
    "def print_profile_tree(plan: Union[dict, object], indent=0):\n",
    "    prefix = \"  \" * indent\n",
    "\n",
    "    # Handle dict-style plan (fallback)\n",
    "    if isinstance(plan, dict):\n",
    "        operator = plan.get(\"operatorType\", \"Unknown\")\n",
    "        arguments = plan.get(\"args\", plan.get(\"arguments\", {}))\n",
    "        children = plan.get(\"children\", [])\n",
    "        records = plan.get(\"records\", \"?\")\n",
    "        db_hits = plan.get(\"dbHits\", \"?\")\n",
    "    else:\n",
    "        operator = plan.operator_type\n",
    "        arguments = plan.arguments\n",
    "        children = plan.children\n",
    "        records = getattr(plan, \"records\", \"?\")\n",
    "        db_hits = getattr(plan, \"db_hits\", \"?\")\n",
    "\n",
    "    print(f\"{prefix}- Operator: {operator}\")\n",
    "    for key, value in arguments.items():\n",
    "        print(f\"{prefix}    {key}: {value}\")\n",
    "    print(f\"{prefix}    Rows: {records}\")\n",
    "    print(f\"{prefix}    DB Hits: {db_hits}\")\n",
    "\n",
    "    for child in children:\n",
    "        print_profile_tree(child, indent + 1)\n",
    "\n",
    "def profile_query_plan(session: Session):\n",
    "    result = session.run(\"\"\"\n",
    "        PROFILE\n",
    "        MATCH (m:Movie {movieId: $id})\n",
    "        RETURN m\n",
    "        LIMIT 1\n",
    "    \"\"\", id=123)\n",
    "\n",
    "    summary = result.consume()\n",
    "    plan = summary.profile\n",
    "\n",
    "    print(\"Physical Execution Plan with Stats:\\n\" + \"-\"*50)\n",
    "    print_profile_tree(plan)\n",
    "\n",
    "profile_query_plan(session)"
   ],
   "id": "6269f7a2df0daa6d",
   "outputs": [
    {
     "name": "stdout",
     "output_type": "stream",
     "text": [
      "Physical Execution Plan with Stats:\n",
      "--------------------------------------------------\n",
      "- Operator: ProduceResults@neo4j\n",
      "    GlobalMemory: 312\n",
      "    planner-impl: IDP\n",
      "    Memory: 0\n",
      "    string-representation: Cypher 5\n",
      "\n",
      "Planner COST\n",
      "\n",
      "Runtime PIPELINED\n",
      "\n",
      "Runtime version 2025.05\n",
      "\n",
      "Batch size 128\n",
      "\n",
      "+------------------+----+-----------------+----------------+------+---------+----------------+------------------------+-----------+---------------------+\n",
      "| Operator         | Id | Details         | Estimated Rows | Rows | DB Hits | Memory (Bytes) | Page Cache Hits/Misses | Time (ms) | Pipeline            |\n",
      "+------------------+----+-----------------+----------------+------+---------+----------------+------------------------+-----------+---------------------+\n",
      "| +ProduceResults  |  0 | m               |              1 |    1 |      12 |              0 |                        |           |                     |\n",
      "| |                +----+-----------------+----------------+------+---------+----------------+                        |           |                     |\n",
      "| +Limit           |  1 | 1               |              1 |    1 |       0 |             32 |                        |           |                     |\n",
      "| |                +----+-----------------+----------------+------+---------+----------------+                        |           |                     |\n",
      "| +Filter          |  2 | m.movieId = $id |              1 |    1 |    6292 |                |                        |           |                     |\n",
      "| |                +----+-----------------+----------------+------+---------+----------------+                        |           |                     |\n",
      "| +NodeByLabelScan |  3 | m:Movie         |             20 | 3147 |    3148 |            248 |                  952/0 |     4.761 | Fused in Pipeline 0 |\n",
      "+------------------+----+-----------------+----------------+------+---------+----------------+------------------------+-----------+---------------------+\n",
      "\n",
      "Total database accesses: 9452, total allocated memory: 312\n",
      "\n",
      "    runtime: PIPELINED\n",
      "    runtime-impl: PIPELINED\n",
      "    version: 5\n",
      "    DbHits: 12\n",
      "    batch-size: 128\n",
      "    Details: m\n",
      "    planner-version: 2025.05\n",
      "    PipelineInfo: Fused in Pipeline 0\n",
      "    runtime-version: 2025.05\n",
      "    Id: 0\n",
      "    EstimatedRows: 1.0\n",
      "    planner: COST\n",
      "    Rows: 1\n",
      "    Rows: ?\n",
      "    DB Hits: 12\n",
      "  - Operator: Limit@neo4j\n",
      "      Details: 1\n",
      "      Memory: 32\n",
      "      PipelineInfo: Fused in Pipeline 0\n",
      "      Id: 1\n",
      "      EstimatedRows: 1.0\n",
      "      DbHits: 0\n",
      "      Rows: 1\n",
      "      Rows: ?\n",
      "      DB Hits: 0\n",
      "    - Operator: Filter@neo4j\n",
      "        Details: m.movieId = $id\n",
      "        PipelineInfo: Fused in Pipeline 0\n",
      "        Id: 2\n",
      "        EstimatedRows: 1.0\n",
      "        DbHits: 6292\n",
      "        Rows: 1\n",
      "        Rows: ?\n",
      "        DB Hits: 6292\n",
      "      - Operator: NodeByLabelScan@neo4j\n",
      "          Details: m:Movie\n",
      "          PipelineInfo: Fused in Pipeline 0\n",
      "          Memory: 248\n",
      "          Time: 4760500\n",
      "          Id: 3\n",
      "          EstimatedRows: 20.0\n",
      "          PageCacheMisses: 0\n",
      "          DbHits: 3148\n",
      "          Rows: 3147\n",
      "          PageCacheHits: 952\n",
      "          Rows: ?\n",
      "          DB Hits: 3148\n"
     ]
    }
   ],
   "execution_count": 78
  },
  {
   "metadata": {},
   "cell_type": "markdown",
   "source": [
    "### Benchmark:\n",
    "\n",
    "- Prevent memory caching.\n",
    "- Use indexed queries that simulate realistic application behavior.\n",
    "- Measure read & writes.\n",
    "- Randomized access patterns, multi-threading, or batch loads. (Out of scope)\n"
   ],
   "id": "a64c10fbeb6b453c"
  },
  {
   "metadata": {
    "ExecuteTime": {
     "end_time": "2025-06-20T12:41:57.368437Z",
     "start_time": "2025-06-20T12:41:57.360981Z"
    }
   },
   "cell_type": "code",
   "source": [
    "# Create indexes: B-tree indexes (the default structure) in Neo4j\n",
    "def create_indexes(session: Session) -> None:\n",
    "    session.run(\"CREATE INDEX movie_id_index FOR (m:Movie) ON (m.movieId)\")\n",
    "    session.run(\"CREATE INDEX genres_index FOR (m:Movie) ON (m.genres)\")\n",
    "    session.run(\"CREATE INDEX user_id_index FOR (u:User) ON (u.userId)\")"
   ],
   "id": "83bbc10550b21502",
   "outputs": [],
   "execution_count": 18
  },
  {
   "metadata": {
    "ExecuteTime": {
     "end_time": "2025-06-20T14:44:15.346083Z",
     "start_time": "2025-06-20T14:44:15.295713Z"
    }
   },
   "cell_type": "code",
   "source": [
    "import random\n",
    "from src.benchmark.utils import timed_op\n",
    "\n",
    "@timed_op\n",
    "def find_by_movie_id():\n",
    "    movie_id = random.randint(1, 1000)\n",
    "    try:\n",
    "        with driver.session() as session:\n",
    "            result = session.run(\"\"\"\n",
    "                MATCH (m:Movie {movieId: $movie_id})\n",
    "                RETURN m\n",
    "                LIMIT 1\n",
    "            \"\"\", movie_id=movie_id)\n",
    "            return [record[\"m\"] for record in result]\n",
    "    except Exception as e:\n",
    "        print(f\"[find_by_movie_id] Error with movieId={movie_id}: {e}\")\n",
    "        raise\n",
    "\n",
    "@timed_op\n",
    "def top_rated_movie():\n",
    "    try:\n",
    "        with driver.session() as session:\n",
    "            result = session.run(\"\"\"\n",
    "                MATCH (m:Movie)\n",
    "                WHERE m.avgRating > 4.5\n",
    "                RETURN m\n",
    "                LIMIT 10\n",
    "            \"\"\")\n",
    "            return [record[\"m\"] for record in result]\n",
    "    except Exception as e:\n",
    "        print(f\"[top_rated_movie] Error: {e}\")\n",
    "        raise\n",
    "\n",
    "@timed_op\n",
    "def search_by_genre():\n",
    "    try:\n",
    "        with driver.session() as session:\n",
    "            result = session.run(\"\"\"\n",
    "                MATCH (m:Movie)\n",
    "                WHERE \"Comedy\" IN m.genres\n",
    "                RETURN m\n",
    "                LIMIT 10\n",
    "            \"\"\")\n",
    "            return [record[\"m\"] for record in result]\n",
    "    except Exception as e:\n",
    "        print(f\"[search_by_genre] Error: {e}\")\n",
    "        raise\n",
    "\n",
    "@timed_op\n",
    "def search_by_title_regex():\n",
    "    try:\n",
    "        with driver.session() as session:\n",
    "            result = session.run(\"\"\"\n",
    "                MATCH (m:Movie)\n",
    "                WHERE toLower(m.title) CONTAINS \"story\"\n",
    "                RETURN m\n",
    "                LIMIT 5\n",
    "            \"\"\")\n",
    "            return [record[\"m\"] for record in result]\n",
    "    except Exception as e:\n",
    "        print(f\"[search_by_title_regex] Error: {e}\")\n",
    "        raise\n",
    "\n",
    "@timed_op\n",
    "def user_movie_join():\n",
    "    user_ids = [random.randint(1, 1000) for _ in range(3)]\n",
    "    try:\n",
    "        with driver.session() as session:\n",
    "            result = session.run(\"\"\"\n",
    "                MATCH (u:User)-[r:RATED]->(m:Movie)\n",
    "                WHERE u.userId IN $user_ids\n",
    "                RETURN u, collect(m) AS movies\n",
    "                LIMIT 3\n",
    "            \"\"\", user_ids=user_ids)\n",
    "            return [{\"user\": record[\"u\"], \"movies\": record[\"movies\"]} for record in result]\n",
    "    except Exception as e:\n",
    "        print(f\"[user_movie_join] Error with user_ids={user_ids}: {e}\")\n",
    "        raise"
   ],
   "id": "d99b12e28560bdf9",
   "outputs": [],
   "execution_count": 91
  },
  {
   "metadata": {
    "ExecuteTime": {
     "end_time": "2025-06-20T14:44:16.598487Z",
     "start_time": "2025-06-20T14:44:16.546645Z"
    }
   },
   "cell_type": "code",
   "source": [
    "import statistics\n",
    "import psutil\n",
    "from src.benchmark.mongo_benchmark import BenchmarkResult\n",
    "from typing import Callable\n",
    "\n",
    "\n",
    "def run_benchmark(query_id: str,\n",
    "                  run_query: Callable[[], tuple],\n",
    "                  duration: int = 60,\n",
    "                  warmup: int = 5) -> BenchmarkResult:\n",
    "    sys_cpu_pct, sys_mem_pct, wall_ms = [], [], []\n",
    "    success_count = 0\n",
    "    errors = []\n",
    "\n",
    "    psutil.cpu_percent(None)\n",
    "\n",
    "    # Warmup\n",
    "    for _ in range(warmup):\n",
    "        try:\n",
    "            run_query()\n",
    "        except:\n",
    "            pass\n",
    "\n",
    "    t_end = time.time() + duration\n",
    "    while time.time() < t_end:\n",
    "        try:\n",
    "            result, elapsed = run_query()\n",
    "            wall_ms.append(elapsed / 1_000_000)\n",
    "            success_count += 1\n",
    "        except Exception as e:\n",
    "            errors.append(str(e))\n",
    "\n",
    "        sys_cpu_pct.append(psutil.cpu_percent(interval=None, percpu=False))\n",
    "        sys_mem_pct.append(psutil.virtual_memory().percent)\n",
    "        time.sleep(0.05)\n",
    "\n",
    "    stats = {\n",
    "        \"query\": query_id,\n",
    "        \"duration\": duration,\n",
    "        \"iterations\": len(wall_ms),\n",
    "        \"successes\": success_count,\n",
    "        \"errors\": len(errors),\n",
    "        \"wall_avg_ms\": statistics.mean(wall_ms) if wall_ms else 0,\n",
    "        \"cpu_avg_pct\": statistics.mean(sys_cpu_pct) if sys_cpu_pct else 0,\n",
    "        \"sys_mem_avg_pct\": statistics.mean(sys_mem_pct) if sys_mem_pct else 0,\n",
    "        \"throughput_qps\": len(wall_ms) / duration if duration > 0 else 0\n",
    "    }\n",
    "\n",
    "    return BenchmarkResult(\n",
    "        summary=stats,\n",
    "        series={\n",
    "            \"wall_ms\": wall_ms,\n",
    "            \"sys_cpu_pct\": sys_cpu_pct,\n",
    "            \"sys_mem_pct\": sys_mem_pct,\n",
    "        }\n",
    "    )\n"
   ],
   "id": "47f5fb82a210b17",
   "outputs": [],
   "execution_count": 92
  },
  {
   "metadata": {
    "ExecuteTime": {
     "end_time": "2025-06-20T14:46:18.584736Z",
     "start_time": "2025-06-20T14:44:37.939779Z"
    }
   },
   "cell_type": "code",
   "source": [
    "queries = [\n",
    "    (\"find_by_id\", find_by_movie_id),\n",
    "    (\"top_rated\", top_rated_movie),\n",
    "    (\"genre_search\", search_by_genre),\n",
    "    (\"title_search_regex\", search_by_title_regex),\n",
    "    (\"user_ratings_with_movie_details\", user_movie_join),\n",
    "]\n",
    "\n",
    "for query_id, query_func in queries:\n",
    "    result = run_benchmark(query_id, query_func, duration=20)\n",
    "    print(f\"{query_id} result summary:\", result.summary)"
   ],
   "id": "78c8879f4c98ddc2",
   "outputs": [
    {
     "name": "stdout",
     "output_type": "stream",
     "text": [
      "find_by_id result summary: {'query': 'find_by_id', 'duration': 20, 'iterations': 320, 'successes': 320, 'errors': 0, 'wall_avg_ms': 8.906941403125e-06, 'cpu_avg_pct': 7.1253125, 'sys_mem_avg_pct': 94.8575, 'throughput_qps': 16.0}\n",
      "top_rated result summary: {'query': 'top_rated', 'duration': 20, 'iterations': 317, 'successes': 317, 'errors': 0, 'wall_avg_ms': 9.421760413249212e-06, 'cpu_avg_pct': 8.95173501577287, 'sys_mem_avg_pct': 94.8596214511041, 'throughput_qps': 15.85}\n",
      "genre_search result summary: {'query': 'genre_search', 'duration': 20, 'iterations': 310, 'successes': 310, 'errors': 0, 'wall_avg_ms': 1.0807839032258064e-05, 'cpu_avg_pct': 7.287741935483871, 'sys_mem_avg_pct': 94.8016129032258, 'throughput_qps': 15.5}\n",
      "title_search_regex result summary: {'query': 'title_search_regex', 'duration': 20, 'iterations': 321, 'successes': 321, 'errors': 0, 'wall_avg_ms': 8.634146937694704e-06, 'cpu_avg_pct': 6.667601246105919, 'sys_mem_avg_pct': 94.77881619937695, 'throughput_qps': 16.05}\n",
      "user_ratings_with_movie_details result summary: {'query': 'user_ratings_with_movie_details', 'duration': 20, 'iterations': 219, 'successes': 219, 'errors': 0, 'wall_avg_ms': 3.743506886757991e-05, 'cpu_avg_pct': 11.295433789954338, 'sys_mem_avg_pct': 94.86118721461187, 'throughput_qps': 10.95}\n"
     ]
    }
   ],
   "execution_count": 94
  },
  {
   "metadata": {
    "ExecuteTime": {
     "end_time": "2025-06-20T12:41:57.373553Z",
     "start_time": "2025-06-20T12:41:57.370015Z"
    }
   },
   "cell_type": "code",
   "source": "",
   "id": "2eee31bb281c4638",
   "outputs": [],
   "execution_count": 18
  },
  {
   "metadata": {},
   "cell_type": "code",
   "source": "",
   "id": "58f56c17227e519d",
   "outputs": [],
   "execution_count": null
  },
  {
   "metadata": {},
   "cell_type": "code",
   "source": [
    "Explore\n",
    "# Total de nodos por tipo\n",
    "def contar_nodos():\n",
    "    query = \"\"\"\n",
    "    MATCH (n)\n",
    "    RETURN labels(n)[0] AS tipo, count(*) AS cantidad\n",
    "    \"\"\"\n",
    "    return graph.run(query).to_table()\n",
    "\n",
    "# Total de relaciones por tipo\n",
    "def contar_relaciones():\n",
    "    query = \"\"\"\n",
    "    MATCH ()-[r]->()\n",
    "    RETURN type(r) AS relacion, count(*) AS cantidad\n",
    "    \"\"\"\n",
    "    return graph.run(query).to_table()\n",
    "\n",
    "# Usuarios sin ratings\n",
    "def usuarios_sin_rating():\n",
    "    query = \"\"\"\n",
    "    MATCH (u:User)\n",
    "    WHERE NOT (u)-[:RATED]->()\n",
    "    RETURN count(u) AS usuarios_sin_rating\n",
    "    \"\"\"\n",
    "    return graph.run(query).to_table()\n",
    "\n",
    "# Películas sin género ni rating ni genome tags\n",
    "def peliculas_huerfanas():\n",
    "    query = \"\"\"\n",
    "    MATCH (m:Movie)\n",
    "    WHERE NOT (m)-[:HAS_GENRE]->()\n",
    "      AND NOT (m)<-[:RATED]-()\n",
    "      AND NOT (m)-[:HAS_RELEVANCE]->()\n",
    "    RETURN count(m) AS peliculas_sin_relaciones\n",
    "    \"\"\"\n",
    "    return graph.run(query).to_table()\n",
    "print(\"Nodos por tipo:\")\n",
    "print(contar_nodos())\n",
    "\n",
    "print(\"\\nRelaciones por tipo:\")\n",
    "print(contar_relaciones())\n",
    "\n",
    "print(\"\\nUsuarios sin ratings:\")\n",
    "print(usuarios_sin_rating())\n",
    "\n",
    "print(\"\\nPelículas sin ningún vínculo:\")\n",
    "print(peliculas_huerfanas())"
   ],
   "id": "46a40106fd5f4110",
   "outputs": [],
   "execution_count": null
  }
 ],
 "metadata": {
  "kernelspec": {
   "display_name": "Python 3",
   "language": "python",
   "name": "python3"
  },
  "language_info": {
   "codemirror_mode": {
    "name": "ipython",
    "version": 2
   },
   "file_extension": ".py",
   "mimetype": "text/x-python",
   "name": "python",
   "nbconvert_exporter": "python",
   "pygments_lexer": "ipython2",
   "version": "2.7.6"
  }
 },
 "nbformat": 4,
 "nbformat_minor": 5
}
