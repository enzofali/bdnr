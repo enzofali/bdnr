{
 "cells": [
  {
   "cell_type": "code",
   "id": "initial_id",
   "metadata": {
    "collapsed": true,
    "ExecuteTime": {
     "end_time": "2025-06-19T12:56:59.916025Z",
     "start_time": "2025-06-19T12:56:59.849554Z"
    }
   },
   "source": [
    "%load_ext autoreload\n",
    "%autoreload 2"
   ],
   "outputs": [],
   "execution_count": 1
  },
  {
   "metadata": {},
   "cell_type": "markdown",
   "source": [
    "# Neo4j v2.0.1\n",
    "\n",
    "**Descarga**\n",
    "- [Descargar Neo4j Desktop v2.0.1 (macOS)](https://neo4j.com/download/neo4j-desktop/?edition=desktop&flavour=osx&release=2.0.1&offline=false)\n",
    "\n",
    "**Configuración**\n",
    "1. Instalar Neo4j Desktop.\n",
    "2. Abrir la app y crear un nuevo proyecto con \"Add\".\n",
    "3. Dentro del proyecto, seleccionar \"Add Graph\" → \"Local DBMS\".\n",
    "4. Configurar:\n",
    "   - Name: `BDNR_ml-25m`\n",
    "   - Password: `bdnr2025`\n",
    "   - Versión usada: `2025.05.0`\n",
    "5. Hacer clic en \"Create\".\n",
    "\n",
    "**Conexión**\n",
    "```\n",
    "neo4j://127.0.0.1:7687\n",
    "```"
   ],
   "id": "668b0ef2d4b070bc"
  },
  {
   "metadata": {
    "ExecuteTime": {
     "end_time": "2025-06-19T13:09:01.096425Z",
     "start_time": "2025-06-19T13:09:01.065581Z"
    }
   },
   "cell_type": "code",
   "source": [
    "import json\n",
    "from src.benchmark.utils import get_system_info\n",
    "import py2neo\n",
    "\n",
    "print(\"py2neo Version:\", py2neo.__version__)\n",
    "print(\"System Info:\\n\", json.dumps(get_system_info(), indent=3))"
   ],
   "id": "8cd5910406850f41",
   "outputs": [
    {
     "name": "stdout",
     "output_type": "stream",
     "text": [
      "py2neo Version: 2021.2.4\n",
      "System Info:\n",
      " {\n",
      "   \"python_version\": \"3.12.1\",\n",
      "   \"system\": {\n",
      "      \"os\": \"Darwin\",\n",
      "      \"release\": \"24.5.0\",\n",
      "      \"machine\": \"x86_64\",\n",
      "      \"processor\": \"i386\"\n",
      "   },\n",
      "   \"cpu\": {\n",
      "      \"physical_cores\": 8,\n",
      "      \"total_cores\": 8,\n",
      "      \"frequency_mhz\": 2400\n",
      "   },\n",
      "   \"memory\": {\n",
      "      \"total_ram_gb\": 16.0,\n",
      "      \"available_ram_gb\": 0.76\n",
      "   }\n",
      "}\n"
     ]
    }
   ],
   "execution_count": 4
  },
  {
   "metadata": {},
   "cell_type": "markdown",
   "source": "# Data Load",
   "id": "599136a27b525b03"
  },
  {
   "metadata": {
    "ExecuteTime": {
     "end_time": "2025-06-19T13:13:42.607658Z",
     "start_time": "2025-06-19T13:13:42.373968Z"
    }
   },
   "cell_type": "code",
   "source": [
    "from py2neo import Graph\n",
    "\n",
    "graph = Graph(\"bolt://localhost:7687\", auth=(\"neo4j\", \"bdnr2025\"))"
   ],
   "id": "47b520bc4da15e56",
   "outputs": [],
   "execution_count": 10
  },
  {
   "metadata": {
    "ExecuteTime": {
     "end_time": "2025-06-19T13:13:54.821743Z",
     "start_time": "2025-06-19T13:13:54.658356Z"
    }
   },
   "cell_type": "code",
   "source": [
    "try:\n",
    "    graph.run(\"RETURN 1\").evaluate()\n",
    "    print(\"Successfully connected to Neo4j\")\n",
    "except Exception as e:\n",
    "    print(f\"Connection failed: {e}\")"
   ],
   "id": "40ca97b01ef1aef9",
   "outputs": [
    {
     "name": "stdout",
     "output_type": "stream",
     "text": [
      "Successfully connected to Neo4j\n"
     ]
    }
   ],
   "execution_count": 12
  },
  {
   "metadata": {
    "ExecuteTime": {
     "end_time": "2025-06-19T13:14:41.046053Z",
     "start_time": "2025-06-19T13:14:40.615166Z"
    }
   },
   "cell_type": "code",
   "source": [
    "databases = graph.run(\"SHOW DATABASES\").data()\n",
    "print(\"Databases:\", [db[\"name\"] for db in databases])"
   ],
   "id": "eb1cd14440624b86",
   "outputs": [
    {
     "name": "stdout",
     "output_type": "stream",
     "text": [
      "Databases: ['neo4j', 'system']\n"
     ]
    }
   ],
   "execution_count": 13
  },
  {
   "metadata": {
    "ExecuteTime": {
     "end_time": "2025-06-19T13:27:13.778971Z",
     "start_time": "2025-06-19T13:27:13.684604Z"
    }
   },
   "cell_type": "code",
   "source": [
    "from pprint import pprint\n",
    "\n",
    "result = graph.run(\"SHOW DATABASES\").data()\n",
    "for db in result:\n",
    "    print(f\"\\n{db['name']}\")\n",
    "    pprint(db, indent=2, width=100, depth=3, sort_dicts=False)"
   ],
   "id": "50faa504925d96c7",
   "outputs": [
    {
     "name": "stdout",
     "output_type": "stream",
     "text": [
      "\n",
      "neo4j\n",
      "{ 'name': 'neo4j',\n",
      "  'type': 'standard',\n",
      "  'aliases': [],\n",
      "  'access': 'read-write',\n",
      "  'address': 'localhost:7687',\n",
      "  'role': 'primary',\n",
      "  'writer': True,\n",
      "  'requestedStatus': 'online',\n",
      "  'currentStatus': 'online',\n",
      "  'statusMessage': '',\n",
      "  'default': True,\n",
      "  'home': True,\n",
      "  'constituents': []}\n",
      "\n",
      "system\n",
      "{ 'name': 'system',\n",
      "  'type': 'system',\n",
      "  'aliases': [],\n",
      "  'access': 'read-write',\n",
      "  'address': 'localhost:7687',\n",
      "  'role': 'primary',\n",
      "  'writer': True,\n",
      "  'requestedStatus': 'online',\n",
      "  'currentStatus': 'online',\n",
      "  'statusMessage': '',\n",
      "  'default': False,\n",
      "  'home': False,\n",
      "  'constituents': []}\n"
     ]
    }
   ],
   "execution_count": 27
  },
  {
   "metadata": {},
   "cell_type": "markdown",
   "source": "### Batch Load: UNWIND & MERGE",
   "id": "30f06fdc4062d382"
  },
  {
   "metadata": {
    "ExecuteTime": {
     "end_time": "2025-06-19T21:26:18.024110Z",
     "start_time": "2025-06-19T21:26:05.060911Z"
    }
   },
   "cell_type": "code",
   "source": [
    "import pandas as pd\n",
    "\n",
    "# Read CSV files\n",
    "base_path = \"/Users/efaliveni//Downloads/ml-25m\"\n",
    "\n",
    "ratings = pd.read_csv(f\"{base_path}/ratings.csv\")\n",
    "movies = pd.read_csv(f\"{base_path}/movies.csv\")\n",
    "tags = pd.read_csv(f\"{base_path}/tags.csv\")\n",
    "genome_tags = pd.read_csv(f\"{base_path}/genome-tags.csv\")\n",
    "genome_scores = pd.read_csv(f\"{base_path}/genome-scores.csv\")"
   ],
   "id": "e02b733bb560ed8a",
   "outputs": [],
   "execution_count": 61
  },
  {
   "metadata": {
    "ExecuteTime": {
     "end_time": "2025-06-19T21:26:18.836222Z",
     "start_time": "2025-06-19T21:26:18.026456Z"
    }
   },
   "cell_type": "code",
   "source": [
    "# Filter Data\n",
    "SAMPLE_SIZE = 500\n",
    "\n",
    "selected_users = ratings['userId'].unique()[:SAMPLE_SIZE]\n",
    "filtered_ratings = ratings[ratings['userId'].isin(selected_users)]\n",
    "filtered_movie_ids = filtered_ratings['movieId'].unique()\n",
    "filtered_movies = movies[movies['movieId'].isin(filtered_movie_ids)].copy()\n",
    "filtered_tags = tags[tags['movieId'].isin(filtered_movie_ids)]\n",
    "filtered_scores = genome_scores[genome_scores['movieId'].isin(filtered_movie_ids)]"
   ],
   "id": "7f4f6193660f3e3",
   "outputs": [],
   "execution_count": 62
  },
  {
   "metadata": {
    "ExecuteTime": {
     "end_time": "2025-06-19T22:00:47.653202Z",
     "start_time": "2025-06-19T22:00:47.613746Z"
    }
   },
   "cell_type": "code",
   "source": [
    "from collections import defaultdict\n",
    "# Create a dictionary of genome tags for quick lookup\n",
    "genome_tags_dict = {row['tagId']: row['tag'] for _, row in genome_tags.iterrows()}\n",
    "\n",
    "# Build dictionaries to accumulate data\n",
    "ratings_by_movie = defaultdict(list)\n",
    "scores_by_movie = defaultdict(list)\n",
    "\n",
    "ratings_by_user = defaultdict(list)\n",
    "tags_by_user = defaultdict(list)"
   ],
   "id": "d30ffc349a493431",
   "outputs": [],
   "execution_count": 80
  },
  {
   "metadata": {
    "ExecuteTime": {
     "end_time": "2025-06-19T22:01:15.444450Z",
     "start_time": "2025-06-19T22:00:48.076985Z"
    }
   },
   "cell_type": "code",
   "source": [
    "# Process ratings and tags to build both movie and user views\n",
    "RELEVANCE_THRESHOLD = 0.8\n",
    "\n",
    "# Ratings\n",
    "for _, r in filtered_ratings.iterrows():\n",
    "    movie_id = int(r.movieId)\n",
    "    user_id = int(r.userId)\n",
    "    \n",
    "    # Add to movie's ratings\n",
    "    ratings_by_movie[movie_id].append({\n",
    "        \"userId\": user_id,\n",
    "        \"rating\": float(r.rating),\n",
    "        \"timestamp\": int(r.timestamp)\n",
    "    })\n",
    "    \n",
    "    # Add to user's ratings\n",
    "    ratings_by_user[user_id].append({\n",
    "        \"movieId\": movie_id,\n",
    "        \"rating\": float(r.rating),\n",
    "        \"timestamp\": int(r.timestamp)\n",
    "    })\n",
    "    \n",
    "# Tags (only for users), genome tag is the cleaned infered tag\n",
    "for _, t in filtered_tags.dropna(subset=[\"tag\"]).iterrows():\n",
    "    movie_id = int(t.movieId)\n",
    "    user_id = int(t.userId)\n",
    "    \n",
    "    tags_by_user[user_id].append({\n",
    "        \"movieId\": movie_id,\n",
    "        \"tag\": t.tag,\n",
    "        \"timestamp\": int(t.timestamp)\n",
    "    })\n",
    "    \n",
    "# Genome scores (only for movies), with 0.8 threshold\n",
    "for _, s in filtered_scores[filtered_scores.relevance > RELEVANCE_THRESHOLD].iterrows():\n",
    "    movie_id = int(s.movieId)\n",
    "    tag_id = int(s.tagId)\n",
    "    \n",
    "    scores_by_movie[movie_id].append({\n",
    "        \"tagId\": tag_id,\n",
    "        \"tag\": genome_tags_dict.get(tag_id, \"\"),\n",
    "        \"relevance\": float(s.relevance)\n",
    "    })"
   ],
   "id": "32bac236a4635829",
   "outputs": [],
   "execution_count": 81
  },
  {
   "metadata": {
    "ExecuteTime": {
     "end_time": "2025-06-19T22:17:31.168032Z",
     "start_time": "2025-06-19T22:17:30.813462Z"
    }
   },
   "cell_type": "code",
   "source": [
    "import re\n",
    "\n",
    "# Build movie documents\n",
    "movie_docs = []\n",
    "for _, m in filtered_movies.iterrows():\n",
    "    movie_id = int(m.movieId)\n",
    "   \n",
    "    # Extract year from title\n",
    "    title = m.title\n",
    "    year_match = re.search(r\"\\((\\d{4})\\)$\", title)\n",
    "    year = int(year_match.group(1)) if year_match else None\n",
    "    \n",
    "    # Get ratings and tags for this movie\n",
    "    movie_ratings = ratings_by_movie.get(movie_id, [])\n",
    "    tag_entries = scores_by_movie.get(movie_id, [])\n",
    "    \n",
    "    # Calculate statistics\n",
    "    rating_count = len(movie_ratings)\n",
    "    if rating_count > 0:\n",
    "        avg_rating = sum(r['rating'] for r in movie_ratings) / rating_count\n",
    "        # Calculate rating distribution (count of each star rating)\n",
    "        rating_dist = {\"0.5\":0, \"1.0\":0, \"1.5\":0, \"2.0\":0, \"2.5\":0, \n",
    "                      \"3.0\":0, \"3.5\":0, \"4.0\":0, \"4.5\":0, \"5.0\":0}\n",
    "        for r in movie_ratings:\n",
    "            rating_key = f\"{r['rating']}\"\n",
    "            rating_dist[rating_key] += 1 \n",
    "    else:\n",
    "        avg_rating = 0.0\n",
    "        rating_dist = {}  # will result in empty arrays below\n",
    "\n",
    "    # Neo4j only allows:\n",
    "    # - Single values: string, int, float, boolean, datetime\n",
    "    # - Arrays of primitive types: [int], [string], etc.\n",
    "    dist_keys = list(rating_dist.keys()) if rating_dist else []\n",
    "    dist_values = list(rating_dist.values()) if rating_dist else []\n",
    "    \n",
    "    tag_ids = [int(e[\"tagId\"]) for e in tag_entries]\n",
    "    tag_relevances = [float(e[\"relevance\"]) for e in tag_entries]\n",
    "    tag_names = [str(e[\"tag\"]) for e in tag_entries]\n",
    "    \n",
    "    movie_docs.append({\n",
    "        \"movieId\": movie_id,\n",
    "        \"title\": title,\n",
    "        \"year\": year,\n",
    "        \"genres\": m.genres if isinstance(m.genres, list) else [],\n",
    "        \"ratingCount\": rating_count,\n",
    "        \"avgRating\": avg_rating,\n",
    "        \"ratingDistKeys\": dist_keys,\n",
    "        \"ratingDistValues\": dist_values,\n",
    "        \"tagIds\": tag_ids,\n",
    "        \"tagRelevances\": tag_relevances,\n",
    "        \"tagNames\": tag_names\n",
    "    })"
   ],
   "id": "e8e15a51f9f60035",
   "outputs": [],
   "execution_count": 107
  },
  {
   "metadata": {
    "ExecuteTime": {
     "end_time": "2025-06-19T22:28:48.805858Z",
     "start_time": "2025-06-19T22:28:48.738562Z"
    }
   },
   "cell_type": "code",
   "source": [
    "user_docs = []\n",
    "\n",
    "for user_id in selected_users:\n",
    "    user_id = int(user_id)\n",
    "\n",
    "    user_ratings = ratings_by_user.get(user_id, [])\n",
    "    user_tags = tags_by_user.get(user_id, [])\n",
    "    \n",
    "    # Rating stats\n",
    "    rating_count = len(user_ratings)\n",
    "    avg_rating = sum(r['rating'] for r in user_ratings) / rating_count if rating_count > 0 else 0.0\n",
    "    \n",
    "    # Sort ratings by timestamp\n",
    "    user_ratings.sort(key=lambda r: r['timestamp'])\n",
    "\n",
    "    # Flatten ratings for Neo4j\n",
    "    rated_movie_ids = [r['movieId'] for r in user_ratings]\n",
    "    rated_scores = [r['rating'] for r in user_ratings]\n",
    "    rated_timestamps = [r['timestamp'] for r in user_ratings]\n",
    "\n",
    "    # (Optional future support for tags)\n",
    "    # tag_movie_ids = [sanitize(t['movieId']) for t in user_tags]\n",
    "    # tag_labels = [sanitize(t['tag']) for t in user_tags]\n",
    "    # tag_timestamps = [sanitize(t['timestamp']) for t in user_tags]\n",
    "\n",
    "    user_docs.append({\n",
    "        \"userId\": user_id,\n",
    "        \"ratingCount\": rating_count,\n",
    "        \"avgRating\": round(avg_rating, 2),\n",
    "        \"ratedMovieIds\": rated_movie_ids,\n",
    "        \"ratedScores\": rated_scores,\n",
    "        \"ratedTimestamps\": rated_timestamps,\n",
    "        # \"tagMovieIds\": tag_movie_ids,\n",
    "        # \"tagLabels\": tag_labels,\n",
    "        # \"tagTimestamps\": tag_timestamps\n",
    "    })\n"
   ],
   "id": "2483873be200e27b",
   "outputs": [],
   "execution_count": 117
  },
  {
   "metadata": {
    "ExecuteTime": {
     "end_time": "2025-06-19T22:32:28.549830Z",
     "start_time": "2025-06-19T22:32:28.530780Z"
    }
   },
   "cell_type": "code",
   "source": [
    "def load_users(user_data: list, batch_size: int = 1000) -> None:\n",
    "    \"\"\"Creates User nodes with rating history embedded as arrays.\"\"\"\n",
    "    \n",
    "    query = \"\"\"\n",
    "    UNWIND $batch AS user\n",
    "    MERGE (u:User {userId: user.userId})\n",
    "    SET u.ratingCount = user.ratingCount,\n",
    "        u.avgRating = user.avgRating,\n",
    "        u.ratedMovieIds = user.ratedMovieIds,\n",
    "        u.ratedScores = user.ratedScores,\n",
    "        u.ratedTimestamps = user.ratedTimestamps\n",
    "    \"\"\"\n",
    "\n",
    "    for i in range(0, len(user_data), batch_size):\n",
    "        batch = user_data[i:i + batch_size]\n",
    "        graph.run(query, batch=batch)\n",
    "\n",
    "\n",
    "def load_movies(movie_data: list, batch_size: int = 1000) -> None:\n",
    "    \"\"\"Creates Movie nodes with embedded genome tags (tagGenome).\"\"\"\n",
    "         \n",
    "    # Cypher query to store Movie nodes with embedded data\n",
    "    query = \"\"\"\n",
    "    UNWIND $batch AS movie\n",
    "    MERGE (m:Movie {movieId: movie.movieId})\n",
    "    SET m.title = movie.title,\n",
    "        m.year = movie.year,\n",
    "        m.genres = movie.genres,\n",
    "        m.ratingCount = movie.ratingCount,\n",
    "        m.avgRating = movie.avgRating,\n",
    "        m.ratingDistKeys = movie.ratingDistKeys,\n",
    "        m.ratingDistValues = movie.ratingDistValues,        \n",
    "        m.tagIds = movie.tagIds,\n",
    "        m.tagRelevances = movie.tagRelevances,\n",
    "        m.tagNames = movie.tagNames\n",
    "    \"\"\"\n",
    "\n",
    "    for i in range(0, len(movie_data), batch_size):\n",
    "        batch = movie_data[i:i + batch_size]\n",
    "        graph.run(query, batch=batch)\n",
    "\n",
    "\n",
    "def load_ratings(ratings_df: pd.DataFrame, batch_size: int = 1000) -> None:\n",
    "    \"\"\"Creates User and Movie nodes with RATED relationships.\"\"\"\n",
    "    rating_data = ratings_df.to_dict(\"records\")\n",
    "    \n",
    "    query = \"\"\"\n",
    "    UNWIND $batch AS row\n",
    "    MERGE (u:User {userId: row.userId})\n",
    "    MERGE (m:Movie {movieId: row.movieId})\n",
    "    MERGE (u)-[r:RATED]->(m)\n",
    "    SET r.rating = row.rating, \n",
    "        r.timestamp = datetime({epochSeconds: row.timestamp})\n",
    "    \"\"\"\n",
    "    \n",
    "    # Process in batches to avoid memory issues\n",
    "    for i in range(0, len(rating_data), batch_size):\n",
    "        batch = rating_data[i:i + batch_size]\n",
    "        graph.run(query, batch=batch)\n",
    "\n",
    "def load_tags(tags_df: pd.DataFrame, batch_size: int = 1000) -> None:\n",
    "    \"\"\"Creates TAGGED relationships between existing Users and Movies\"\"\"\n",
    "    # Clean data - remove null tags\n",
    "    tag_data = tags_df.dropna(subset=[\"tag\"]).to_dict(\"records\")\n",
    "    \n",
    "    query = \"\"\"\n",
    "    UNWIND $batch AS row\n",
    "    MATCH (u:User {userId: row.userId})\n",
    "    MATCH (m:Movie {movieId: row.movieId})\n",
    "    MERGE (u)-[t:TAGGED]->(m)\n",
    "    SET t.tag = row.tag\n",
    "    \"\"\"\n",
    "    \n",
    "    for i in range(0, len(tag_data), batch_size):\n",
    "        batch = tag_data[i:i + batch_size]\n",
    "        graph.run(query, batch=batch)"
   ],
   "id": "45de4af9f5885680",
   "outputs": [],
   "execution_count": 121
  },
  {
   "metadata": {
    "ExecuteTime": {
     "end_time": "2025-06-19T22:32:30.988379Z",
     "start_time": "2025-06-19T22:32:29.627518Z"
    }
   },
   "cell_type": "code",
   "source": "graph.run(\"MATCH (n) DETACH DELETE n\")",
   "id": "109afff1caacefb8",
   "outputs": [
    {
     "data": {
      "text/plain": [
       "(No data)"
      ],
      "text/html": [
       "(No data)"
      ]
     },
     "execution_count": 122,
     "metadata": {},
     "output_type": "execute_result"
    }
   ],
   "execution_count": 122
  },
  {
   "metadata": {
    "ExecuteTime": {
     "end_time": "2025-06-19T22:34:44.978407Z",
     "start_time": "2025-06-19T22:32:30.990787Z"
    }
   },
   "cell_type": "code",
   "source": [
    "import time\n",
    "\n",
    "start_time = time.time()\n",
    "\n",
    "stats = {\n",
    "    'movies_loaded': 0,\n",
    "    'users_loaded': 0,\n",
    "    'rates_created': 0,\n",
    "    'tags_created': 0,\n",
    "    'execution_time': 0\n",
    "}\n",
    "\n",
    "try:\n",
    "    print(\"Starting data loading process...\")\n",
    "    \n",
    "    # Load users (foundational nodes)\n",
    "    print(\"\\nLoading users...\")\n",
    "    user_start = time.time()\n",
    "    load_users(user_docs)\n",
    "    stats['users_loaded'] = len(user_docs)\n",
    "    print(f\"Users loaded in {time.time() - user_start:.2f}s\")\n",
    "    \n",
    "    # Load movies (foundational nodes)\n",
    "    print(\"\\nLoading movies...\")\n",
    "    movie_start = time.time()\n",
    "    load_movies(movie_docs)\n",
    "    stats['movies_loaded'] = len(movie_docs)\n",
    "    print(f\"Movies loaded in {time.time() - movie_start:.2f}s\")\n",
    "    \n",
    "    # Load users through ratings\n",
    "    print(\"\\nLoading ratings...\")\n",
    "    ratings_start = time.time()\n",
    "    load_ratings(filtered_ratings)\n",
    "    stats['rates_created'] = len(filtered_ratings)\n",
    "    print(f\"Ratings loaded in {time.time() - ratings_start:.2f}s\")\n",
    "    \n",
    "    # Load tags\n",
    "    print(\"\\nLoading tags...\")\n",
    "    tags_start = time.time()\n",
    "    load_tags(filtered_tags)\n",
    "    stats['tags_created'] = len(filtered_tags)\n",
    "    print(f\"Tags loaded in {time.time() - tags_start:.2f}s\")\n",
    "\n",
    "except Exception as e:\n",
    "    print(f\"\\nError during data loading: {str(e)}\")\n",
    "    raise\n",
    "finally:\n",
    "    stats['execution_time'] = time.time() - start_time\n",
    "    print(f\"\\nTotal processing time: {stats['execution_time']:.2f} seconds\")\n",
    "    print(f\"Summary: {stats}\")"
   ],
   "id": "7c2e46f56839e251",
   "outputs": [
    {
     "name": "stdout",
     "output_type": "stream",
     "text": [
      "Starting data loading process...\n",
      "\n",
      "Loading users...\n",
      "Users loaded in 0.20s\n",
      "\n",
      "Loading movies...\n",
      "Movies loaded in 5.67s\n",
      "\n",
      "Loading ratings...\n",
      "Ratings loaded in 70.07s\n",
      "\n",
      "Loading tags...\n",
      "Tags loaded in 58.03s\n",
      "\n",
      "Total processing time: 133.97 seconds\n",
      "Summary: {'movies_loaded': 7141, 'users_loaded': 500, 'rates_created': 62834, 'tags_created': 811156, 'execution_time': 133.9672989845276}\n"
     ]
    }
   ],
   "execution_count": 123
  },
  {
   "metadata": {},
   "cell_type": "markdown",
   "source": "### Sample Movie",
   "id": "caa1c708699c44a8"
  },
  {
   "metadata": {
    "ExecuteTime": {
     "end_time": "2025-06-19T22:34:45.001713Z",
     "start_time": "2025-06-19T22:34:44.980405Z"
    }
   },
   "cell_type": "code",
   "source": [
    "query = \"\"\"\n",
    "MATCH (m:Movie)\n",
    "RETURN m\n",
    "LIMIT 1\n",
    "\"\"\"\n",
    "graph.run(query)"
   ],
   "id": "1c0a96b7cbaa60b9",
   "outputs": [
    {
     "data": {
      "text/plain": [
       " m                                                                                                                                                                                                                                                                                                                                                                                                                                                                                             \n",
       "-----------------------------------------------------------------------------------------------------------------------------------------------------------------------------------------------------------------------------------------------------------------------------------------------------------------------------------------------------------------------------------------------------------------------------------------------------------------------------------------------\n",
       " (_0:Movie {avgRating: 2.5, genres: ['Action', 'Adventure', 'Drama', 'War'], movieId: 8977, ratingCount: 6, ratingDistKeys: ['0.5', '1.0', '1.5', '2.0', '2.5', '3.0', '3.5', '4.0', '4.5', '5.0'], ratingDistValues: [0, 0, 2, 0, 1, 2, 1, 0, 0, 0], tagIds: [132, 359, 508, 509, 564], tagNames: ['big budget', 'epic', 'historical', 'history', 'irish accent'], tagRelevances: [0.8362499999999999, 0.92325, 0.9425, 0.89625, 0.8847499999999999], title: 'Alexander (2004)', year: 2004}) "
      ],
      "text/html": [
       "<table><tr><th>m</th></tr><tr><td style=\"text-align:left\">(_0:Movie {avgRating: 2.5, genres: [&#039;Action&#039;, &#039;Adventure&#039;, &#039;Drama&#039;, &#039;War&#039;], movieId: 8977, ratingCount: 6, ratingDistKeys: [&#039;0.5&#039;, &#039;1.0&#039;, &#039;1.5&#039;, &#039;2.0&#039;, &#039;2.5&#039;, &#039;3.0&#039;, &#039;3.5&#039;, &#039;4.0&#039;, &#039;4.5&#039;, &#039;5.0&#039;], ratingDistValues: [0, 0, 2, 0, 1, 2, 1, 0, 0, 0], tagIds: [132, 359, 508, 509, 564], tagNames: [&#039;big budget&#039;, &#039;epic&#039;, &#039;historical&#039;, &#039;history&#039;, &#039;irish accent&#039;], tagRelevances: [0.8362499999999999, 0.92325, 0.9425, 0.89625, 0.8847499999999999], title: &#039;Alexander (2004)&#039;, year: 2004})</td></tr></table>"
      ]
     },
     "execution_count": 124,
     "metadata": {},
     "output_type": "execute_result"
    }
   ],
   "execution_count": 124
  },
  {
   "metadata": {},
   "cell_type": "markdown",
   "source": "### Sample User",
   "id": "bcf9230354e8d635"
  },
  {
   "metadata": {
    "ExecuteTime": {
     "end_time": "2025-06-19T22:34:45.016904Z",
     "start_time": "2025-06-19T22:34:45.002659Z"
    }
   },
   "cell_type": "code",
   "source": [
    "query = \"\"\"\n",
    "MATCH (u:User)\n",
    "RETURN u\n",
    "LIMIT 1\n",
    "\"\"\"\n",
    "graph.run(query).to_table()"
   ],
   "id": "ace042b3b99c9f1",
   "outputs": [
    {
     "data": {
      "text/plain": [
       " u                                                                                                                                                                                                                                                                                                                                                                                                                                                                                                                                                                                                                                                                                                                                                                                                                                                                                                                                                                                                                                                                                                                                                                                                                                                                                                                                                                                                                                                                                                                                                                                                                                                                                                                                                                                       \n",
       "-----------------------------------------------------------------------------------------------------------------------------------------------------------------------------------------------------------------------------------------------------------------------------------------------------------------------------------------------------------------------------------------------------------------------------------------------------------------------------------------------------------------------------------------------------------------------------------------------------------------------------------------------------------------------------------------------------------------------------------------------------------------------------------------------------------------------------------------------------------------------------------------------------------------------------------------------------------------------------------------------------------------------------------------------------------------------------------------------------------------------------------------------------------------------------------------------------------------------------------------------------------------------------------------------------------------------------------------------------------------------------------------------------------------------------------------------------------------------------------------------------------------------------------------------------------------------------------------------------------------------------------------------------------------------------------------------------------------------------------------------------------------------------------------\n",
       " (_4168:User {avgRating: 3.81, ratedMovieIds: [5952, 2012, 2011, 1653, 1250, 6539, 6377, 3448, 1088, 899, 4308, 2161, 6711, 3949, 8360, 5878, 306, 1175, 307, 1237, 7327, 8154, 7234, 2843, 4144, 7365, 2068, 4422, 4973, 6016, 8873, 2692, 27721, 7323, 6954, 8014, 7939, 6370, 8973, 4703, 31956, 5147, 8786, 1260, 2351, 7940, 7209, 8685, 7820, 7937, 7938, 8405, 4325, 2632, 1217, 8729, 5912, 5767, 665, 2573, 27266, 8327, 32591, 5269, 3569, 27193, 5684, 7318, 296, 7361], ratedScores: [4.0, 2.5, 2.5, 4.0, 4.0, 3.5, 4.0, 4.0, 4.0, 3.5, 3.0, 3.5, 5.0, 5.0, 4.0, 4.0, 3.5, 3.5, 5.0, 5.0, 3.5, 5.0, 4.5, 4.5, 5.0, 4.0, 2.5, 3.0, 4.5, 5.0, 3.0, 5.0, 3.0, 3.5, 3.5, 3.5, 2.5, 4.5, 4.0, 4.0, 3.5, 4.0, 4.0, 3.5, 4.5, 4.5, 4.0, 1.0, 2.5, 3.0, 2.5, 3.5, 5.0, 5.0, 3.5, 3.5, 3.0, 5.0, 5.0, 4.0, 4.5, 5.0, 5.0, 0.5, 5.0, 3.0, 2.0, 2.0, 5.0, 5.0], ratedTimestamps: [1147868053, 1147868068, 1147868079, 1147868097, 1147868414, 1147868461, 1147868469, 1147868480, 1147868495, 1147868510, 1147868534, 1147868609, 1147868622, 1147868678, 1147868682, 1147868807, 1147868817, 1147868826, 1147868828, 1147868839, 1147868855, 1147868865, 1147868869, 1147868891, 1147868898, 1147869033, 1147869044, 1147869048, 1147869080, 1147869090, 1147869094, 1147869100, 1147869115, 1147869119, 1147869150, 1147869155, 1147869183, 1147869191, 1147869211, 1147869223, 1147877610, 1147877654, 1147877853, 1147877857, 1147877957, 1147877967, 1147877986, 1147878023, 1147878050, 1147878055, 1147878063, 1147878095, 1147878122, 1147878248, 1147878326, 1147878452, 1147878698, 1147878729, 1147878820, 1147878923, 1147879365, 1147879375, 1147879538, 1147879571, 1147879603, 1147879774, 1147879797, 1147879850, 1147880044, 1147880055], ratingCount: 70, userId: 1}) "
      ],
      "text/html": [
       "<table><tr><th>u</th></tr><tr><td style=\"text-align:left\">(_4168:User {avgRating: 3.81, ratedMovieIds: [5952, 2012, 2011, 1653, 1250, 6539, 6377, 3448, 1088, 899, 4308, 2161, 6711, 3949, 8360, 5878, 306, 1175, 307, 1237, 7327, 8154, 7234, 2843, 4144, 7365, 2068, 4422, 4973, 6016, 8873, 2692, 27721, 7323, 6954, 8014, 7939, 6370, 8973, 4703, 31956, 5147, 8786, 1260, 2351, 7940, 7209, 8685, 7820, 7937, 7938, 8405, 4325, 2632, 1217, 8729, 5912, 5767, 665, 2573, 27266, 8327, 32591, 5269, 3569, 27193, 5684, 7318, 296, 7361], ratedScores: [4.0, 2.5, 2.5, 4.0, 4.0, 3.5, 4.0, 4.0, 4.0, 3.5, 3.0, 3.5, 5.0, 5.0, 4.0, 4.0, 3.5, 3.5, 5.0, 5.0, 3.5, 5.0, 4.5, 4.5, 5.0, 4.0, 2.5, 3.0, 4.5, 5.0, 3.0, 5.0, 3.0, 3.5, 3.5, 3.5, 2.5, 4.5, 4.0, 4.0, 3.5, 4.0, 4.0, 3.5, 4.5, 4.5, 4.0, 1.0, 2.5, 3.0, 2.5, 3.5, 5.0, 5.0, 3.5, 3.5, 3.0, 5.0, 5.0, 4.0, 4.5, 5.0, 5.0, 0.5, 5.0, 3.0, 2.0, 2.0, 5.0, 5.0], ratedTimestamps: [1147868053, 1147868068, 1147868079, 1147868097, 1147868414, 1147868461, 1147868469, 1147868480, 1147868495, 1147868510, 1147868534, 1147868609, 1147868622, 1147868678, 1147868682, 1147868807, 1147868817, 1147868826, 1147868828, 1147868839, 1147868855, 1147868865, 1147868869, 1147868891, 1147868898, 1147869033, 1147869044, 1147869048, 1147869080, 1147869090, 1147869094, 1147869100, 1147869115, 1147869119, 1147869150, 1147869155, 1147869183, 1147869191, 1147869211, 1147869223, 1147877610, 1147877654, 1147877853, 1147877857, 1147877957, 1147877967, 1147877986, 1147878023, 1147878050, 1147878055, 1147878063, 1147878095, 1147878122, 1147878248, 1147878326, 1147878452, 1147878698, 1147878729, 1147878820, 1147878923, 1147879365, 1147879375, 1147879538, 1147879571, 1147879603, 1147879774, 1147879797, 1147879850, 1147880044, 1147880055], ratingCount: 70, userId: 1})</td></tr></table>"
      ]
     },
     "execution_count": 125,
     "metadata": {},
     "output_type": "execute_result"
    }
   ],
   "execution_count": 125
  },
  {
   "metadata": {},
   "cell_type": "markdown",
   "source": [
    "# Single-Threaded Benchmark\n",
    "Simulate User Load, real time latency stress"
   ],
   "id": "17642abe05937586"
  },
  {
   "metadata": {},
   "cell_type": "code",
   "outputs": [],
   "execution_count": null,
   "source": "",
   "id": "6269f7a2df0daa6d"
  },
  {
   "metadata": {
    "ExecuteTime": {
     "end_time": "2025-06-19T22:34:56.581038Z",
     "start_time": "2025-06-19T22:34:56.578747Z"
    }
   },
   "cell_type": "code",
   "source": "",
   "id": "83bbc10550b21502",
   "outputs": [],
   "execution_count": 125
  },
  {
   "metadata": {},
   "cell_type": "code",
   "outputs": [],
   "execution_count": null,
   "source": "",
   "id": "2eee31bb281c4638"
  },
  {
   "metadata": {},
   "cell_type": "code",
   "outputs": [],
   "execution_count": null,
   "source": "",
   "id": "8133d098022cca28"
  },
  {
   "metadata": {
    "ExecuteTime": {
     "end_time": "2025-06-19T20:51:46.916225Z",
     "start_time": "2025-06-19T20:51:46.873798Z"
    }
   },
   "cell_type": "code",
   "source": [
    "# Total de nodos por tipo\n",
    "def contar_nodos():\n",
    "    query = \"\"\"\n",
    "    MATCH (n)\n",
    "    RETURN labels(n)[0] AS tipo, count(*) AS cantidad\n",
    "    \"\"\"\n",
    "    return graph.run(query).to_table()\n",
    "\n",
    "# Total de relaciones por tipo\n",
    "def contar_relaciones():\n",
    "    query = \"\"\"\n",
    "    MATCH ()-[r]->()\n",
    "    RETURN type(r) AS relacion, count(*) AS cantidad\n",
    "    \"\"\"\n",
    "    return graph.run(query).to_table()\n",
    "\n",
    "# Usuarios sin ratings\n",
    "def usuarios_sin_rating():\n",
    "    query = \"\"\"\n",
    "    MATCH (u:User)\n",
    "    WHERE NOT (u)-[:RATED]->()\n",
    "    RETURN count(u) AS usuarios_sin_rating\n",
    "    \"\"\"\n",
    "    return graph.run(query).to_table()\n",
    "\n",
    "# Películas sin género ni rating ni genome tags\n",
    "def peliculas_huerfanas():\n",
    "    query = \"\"\"\n",
    "    MATCH (m:Movie)\n",
    "    WHERE NOT (m)-[:HAS_GENRE]->()\n",
    "      AND NOT (m)<-[:RATED]-()\n",
    "      AND NOT (m)-[:HAS_RELEVANCE]->()\n",
    "    RETURN count(m) AS peliculas_sin_relaciones\n",
    "    \"\"\"\n",
    "    return graph.run(query).to_table()\n"
   ],
   "id": "58f56c17227e519d",
   "outputs": [],
   "execution_count": 41
  },
  {
   "metadata": {
    "ExecuteTime": {
     "end_time": "2025-06-19T20:51:47.627475Z",
     "start_time": "2025-06-19T20:51:47.538156Z"
    }
   },
   "cell_type": "code",
   "source": [
    "print(\"Nodos por tipo:\")\n",
    "print(contar_nodos())\n",
    "\n",
    "print(\"\\nRelaciones por tipo:\")\n",
    "print(contar_relaciones())\n",
    "\n",
    "print(\"\\nUsuarios sin ratings:\")\n",
    "print(usuarios_sin_rating())\n",
    "\n",
    "print(\"\\nPelículas sin ningún vínculo:\")\n",
    "print(peliculas_huerfanas())\n"
   ],
   "id": "19abb3fd4ea8786f",
   "outputs": [
    {
     "name": "stdout",
     "output_type": "stream",
     "text": [
      "Nodos por tipo:\n",
      " tipo      | cantidad \r\n",
      "-----------|----------\r\n",
      " Movie     |     7141 \r\n",
      " User      |      500 \r\n",
      " GenomeTag |     1128 \r\n",
      "\n",
      "\n",
      "Relaciones por tipo:\n",
      " relacion      | cantidad \r\n",
      "---------------|----------\r\n",
      " HAS_RELEVANCE |    83312 \r\n",
      " RATED         |    62834 \r\n",
      " TAGGED        |      313 \r\n",
      "\n",
      "\n",
      "Usuarios sin ratings:\n",
      " usuarios_sin_rating \r\n",
      "---------------------\r\n",
      "                   0 \r\n",
      "\n",
      "\n",
      "Películas sin ningún vínculo:\n",
      " peliculas_sin_relaciones \r\n",
      "--------------------------\r\n",
      "                        0 \r\n",
      "\n"
     ]
    }
   ],
   "execution_count": 42
  }
 ],
 "metadata": {
  "kernelspec": {
   "display_name": "Python 3",
   "language": "python",
   "name": "python3"
  },
  "language_info": {
   "codemirror_mode": {
    "name": "ipython",
    "version": 2
   },
   "file_extension": ".py",
   "mimetype": "text/x-python",
   "name": "python",
   "nbconvert_exporter": "python",
   "pygments_lexer": "ipython2",
   "version": "2.7.6"
  }
 },
 "nbformat": 4,
 "nbformat_minor": 5
}
