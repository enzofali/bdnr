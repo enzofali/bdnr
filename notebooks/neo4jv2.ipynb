{
 "cells": [
  {
   "cell_type": "code",
   "id": "initial_id",
   "metadata": {
    "collapsed": true,
    "ExecuteTime": {
     "end_time": "2025-06-19T12:56:59.916025Z",
     "start_time": "2025-06-19T12:56:59.849554Z"
    }
   },
   "source": [
    "%load_ext autoreload\n",
    "%autoreload 2"
   ],
   "outputs": [],
   "execution_count": 1
  },
  {
   "metadata": {},
   "cell_type": "markdown",
   "source": [
    "# Neo4j v2.0.1\n",
    "\n",
    "**Descarga**\n",
    "- [Descargar Neo4j Desktop v2.0.1 (macOS)](https://neo4j.com/download/neo4j-desktop/?edition=desktop&flavour=osx&release=2.0.1&offline=false)\n",
    "\n",
    "**Configuración**\n",
    "1. Instalar Neo4j Desktop.\n",
    "2. Abrir la app y crear un nuevo proyecto con \"Add\".\n",
    "3. Dentro del proyecto, seleccionar \"Add Graph\" → \"Local DBMS\".\n",
    "4. Configurar:\n",
    "   - Name: `BDNR_ml-25m`\n",
    "   - Password: `bdnr2025`\n",
    "   - Versión usada: `2025.05.0`\n",
    "5. Hacer clic en \"Create\".\n",
    "\n",
    "**Conexión**\n",
    "```\n",
    "neo4j://127.0.0.1:7687\n",
    "```"
   ],
   "id": "668b0ef2d4b070bc"
  },
  {
   "metadata": {
    "ExecuteTime": {
     "end_time": "2025-06-19T13:09:01.096425Z",
     "start_time": "2025-06-19T13:09:01.065581Z"
    }
   },
   "cell_type": "code",
   "source": [
    "import json\n",
    "from src.benchmark.utils import get_system_info\n",
    "import py2neo\n",
    "\n",
    "print(\"py2neo Version:\", py2neo.__version__)\n",
    "print(\"System Info:\\n\", json.dumps(get_system_info(), indent=3))"
   ],
   "id": "8cd5910406850f41",
   "outputs": [
    {
     "name": "stdout",
     "output_type": "stream",
     "text": [
      "py2neo Version: 2021.2.4\n",
      "System Info:\n",
      " {\n",
      "   \"python_version\": \"3.12.1\",\n",
      "   \"system\": {\n",
      "      \"os\": \"Darwin\",\n",
      "      \"release\": \"24.5.0\",\n",
      "      \"machine\": \"x86_64\",\n",
      "      \"processor\": \"i386\"\n",
      "   },\n",
      "   \"cpu\": {\n",
      "      \"physical_cores\": 8,\n",
      "      \"total_cores\": 8,\n",
      "      \"frequency_mhz\": 2400\n",
      "   },\n",
      "   \"memory\": {\n",
      "      \"total_ram_gb\": 16.0,\n",
      "      \"available_ram_gb\": 0.76\n",
      "   }\n",
      "}\n"
     ]
    }
   ],
   "execution_count": 4
  },
  {
   "metadata": {},
   "cell_type": "markdown",
   "source": "# Data Load",
   "id": "599136a27b525b03"
  },
  {
   "metadata": {
    "ExecuteTime": {
     "end_time": "2025-06-19T13:13:42.607658Z",
     "start_time": "2025-06-19T13:13:42.373968Z"
    }
   },
   "cell_type": "code",
   "source": [
    "from py2neo import Graph\n",
    "\n",
    "graph = Graph(\"bolt://localhost:7687\", auth=(\"neo4j\", \"bdnr2025\"))"
   ],
   "id": "47b520bc4da15e56",
   "outputs": [],
   "execution_count": 10
  },
  {
   "metadata": {
    "ExecuteTime": {
     "end_time": "2025-06-19T13:13:54.821743Z",
     "start_time": "2025-06-19T13:13:54.658356Z"
    }
   },
   "cell_type": "code",
   "source": [
    "try:\n",
    "    graph.run(\"RETURN 1\").evaluate()\n",
    "    print(\"Successfully connected to Neo4j\")\n",
    "except Exception as e:\n",
    "    print(f\"Connection failed: {e}\")"
   ],
   "id": "40ca97b01ef1aef9",
   "outputs": [
    {
     "name": "stdout",
     "output_type": "stream",
     "text": [
      "Successfully connected to Neo4j\n"
     ]
    }
   ],
   "execution_count": 12
  },
  {
   "metadata": {
    "ExecuteTime": {
     "end_time": "2025-06-19T13:14:41.046053Z",
     "start_time": "2025-06-19T13:14:40.615166Z"
    }
   },
   "cell_type": "code",
   "source": [
    "databases = graph.run(\"SHOW DATABASES\").data()\n",
    "print(\"Databases:\", [db[\"name\"] for db in databases])"
   ],
   "id": "eb1cd14440624b86",
   "outputs": [
    {
     "name": "stdout",
     "output_type": "stream",
     "text": [
      "Databases: ['neo4j', 'system']\n"
     ]
    }
   ],
   "execution_count": 13
  },
  {
   "metadata": {
    "ExecuteTime": {
     "end_time": "2025-06-19T13:27:13.778971Z",
     "start_time": "2025-06-19T13:27:13.684604Z"
    }
   },
   "cell_type": "code",
   "source": [
    "from pprint import pprint\n",
    "\n",
    "result = graph.run(\"SHOW DATABASES\").data()\n",
    "for db in result:\n",
    "    print(f\"\\n{db['name']}\")\n",
    "    pprint(db, indent=2, width=100, depth=3, sort_dicts=False)"
   ],
   "id": "50faa504925d96c7",
   "outputs": [
    {
     "name": "stdout",
     "output_type": "stream",
     "text": [
      "\n",
      "neo4j\n",
      "{ 'name': 'neo4j',\n",
      "  'type': 'standard',\n",
      "  'aliases': [],\n",
      "  'access': 'read-write',\n",
      "  'address': 'localhost:7687',\n",
      "  'role': 'primary',\n",
      "  'writer': True,\n",
      "  'requestedStatus': 'online',\n",
      "  'currentStatus': 'online',\n",
      "  'statusMessage': '',\n",
      "  'default': True,\n",
      "  'home': True,\n",
      "  'constituents': []}\n",
      "\n",
      "system\n",
      "{ 'name': 'system',\n",
      "  'type': 'system',\n",
      "  'aliases': [],\n",
      "  'access': 'read-write',\n",
      "  'address': 'localhost:7687',\n",
      "  'role': 'primary',\n",
      "  'writer': True,\n",
      "  'requestedStatus': 'online',\n",
      "  'currentStatus': 'online',\n",
      "  'statusMessage': '',\n",
      "  'default': False,\n",
      "  'home': False,\n",
      "  'constituents': []}\n"
     ]
    }
   ],
   "execution_count": 27
  },
  {
   "metadata": {
    "ExecuteTime": {
     "end_time": "2025-06-19T13:48:47.489927Z",
     "start_time": "2025-06-19T13:48:35.024781Z"
    }
   },
   "cell_type": "code",
   "source": [
    "import pandas as pd\n",
    "\n",
    "# Read CSV files\n",
    "base_path = \"/Users/efaliveni//Downloads/ml-25m\"\n",
    "\n",
    "ratings = pd.read_csv(f\"{base_path}/ratings.csv\")\n",
    "movies = pd.read_csv(f\"{base_path}/movies.csv\")\n",
    "tags = pd.read_csv(f\"{base_path}/tags.csv\")\n",
    "genome_tags = pd.read_csv(f\"{base_path}/genome-tags.csv\")\n",
    "genome_scores = pd.read_csv(f\"{base_path}/genome-scores.csv\")"
   ],
   "id": "e02b733bb560ed8a",
   "outputs": [],
   "execution_count": 28
  },
  {
   "metadata": {
    "ExecuteTime": {
     "end_time": "2025-06-19T16:44:02.909749Z",
     "start_time": "2025-06-19T16:44:01.202994Z"
    }
   },
   "cell_type": "code",
   "source": [
    "# Filter Data\n",
    "SAMPLE_SIZE = 500\n",
    "\n",
    "selected_users = ratings['userId'].unique()[:SAMPLE_SIZE]\n",
    "filtered_ratings = ratings[ratings['userId'].isin(selected_users)]\n",
    "filtered_movie_ids = filtered_ratings['movieId'].unique()\n",
    "filtered_movies = movies[movies['movieId'].isin(filtered_movie_ids)]\n",
    "filtered_tags = tags[tags['movieId'].isin(filtered_movie_ids)]\n",
    "filtered_scores = genome_scores[genome_scores['movieId'].isin(filtered_movie_ids)]"
   ],
   "id": "7f4f6193660f3e3",
   "outputs": [],
   "execution_count": 30
  },
  {
   "metadata": {
    "ExecuteTime": {
     "end_time": "2025-06-19T16:44:18.594513Z",
     "start_time": "2025-06-19T16:44:18.546729Z"
    }
   },
   "cell_type": "code",
   "source": "filtered_movies",
   "id": "12a23d923d8e9ee6",
   "outputs": [
    {
     "data": {
      "text/plain": [
       "       movieId                               title  \\\n",
       "0            1                    Toy Story (1995)   \n",
       "1            2                      Jumanji (1995)   \n",
       "2            3             Grumpier Old Men (1995)   \n",
       "3            4            Waiting to Exhale (1995)   \n",
       "4            5  Father of the Bride Part II (1995)   \n",
       "...        ...                                 ...   \n",
       "60581   203649                        Beats (2019)   \n",
       "60937   204542              It: Chapter Two (2019)   \n",
       "61002   204692                   In the Tall Grass   \n",
       "61005   204698                        Joker (2019)   \n",
       "61151   205106       Can You Keep a Secret? (2019)   \n",
       "\n",
       "                                            genres  \n",
       "0      Adventure|Animation|Children|Comedy|Fantasy  \n",
       "1                       Adventure|Children|Fantasy  \n",
       "2                                   Comedy|Romance  \n",
       "3                             Comedy|Drama|Romance  \n",
       "4                                           Comedy  \n",
       "...                                            ...  \n",
       "60581                               Children|Drama  \n",
       "60937                                       Horror  \n",
       "61002                        Drama|Horror|Thriller  \n",
       "61005                         Crime|Drama|Thriller  \n",
       "61151                               Comedy|Romance  \n",
       "\n",
       "[7141 rows x 3 columns]"
      ],
      "text/html": [
       "<div>\n",
       "<style scoped>\n",
       "    .dataframe tbody tr th:only-of-type {\n",
       "        vertical-align: middle;\n",
       "    }\n",
       "\n",
       "    .dataframe tbody tr th {\n",
       "        vertical-align: top;\n",
       "    }\n",
       "\n",
       "    .dataframe thead th {\n",
       "        text-align: right;\n",
       "    }\n",
       "</style>\n",
       "<table border=\"1\" class=\"dataframe\">\n",
       "  <thead>\n",
       "    <tr style=\"text-align: right;\">\n",
       "      <th></th>\n",
       "      <th>movieId</th>\n",
       "      <th>title</th>\n",
       "      <th>genres</th>\n",
       "    </tr>\n",
       "  </thead>\n",
       "  <tbody>\n",
       "    <tr>\n",
       "      <th>0</th>\n",
       "      <td>1</td>\n",
       "      <td>Toy Story (1995)</td>\n",
       "      <td>Adventure|Animation|Children|Comedy|Fantasy</td>\n",
       "    </tr>\n",
       "    <tr>\n",
       "      <th>1</th>\n",
       "      <td>2</td>\n",
       "      <td>Jumanji (1995)</td>\n",
       "      <td>Adventure|Children|Fantasy</td>\n",
       "    </tr>\n",
       "    <tr>\n",
       "      <th>2</th>\n",
       "      <td>3</td>\n",
       "      <td>Grumpier Old Men (1995)</td>\n",
       "      <td>Comedy|Romance</td>\n",
       "    </tr>\n",
       "    <tr>\n",
       "      <th>3</th>\n",
       "      <td>4</td>\n",
       "      <td>Waiting to Exhale (1995)</td>\n",
       "      <td>Comedy|Drama|Romance</td>\n",
       "    </tr>\n",
       "    <tr>\n",
       "      <th>4</th>\n",
       "      <td>5</td>\n",
       "      <td>Father of the Bride Part II (1995)</td>\n",
       "      <td>Comedy</td>\n",
       "    </tr>\n",
       "    <tr>\n",
       "      <th>...</th>\n",
       "      <td>...</td>\n",
       "      <td>...</td>\n",
       "      <td>...</td>\n",
       "    </tr>\n",
       "    <tr>\n",
       "      <th>60581</th>\n",
       "      <td>203649</td>\n",
       "      <td>Beats (2019)</td>\n",
       "      <td>Children|Drama</td>\n",
       "    </tr>\n",
       "    <tr>\n",
       "      <th>60937</th>\n",
       "      <td>204542</td>\n",
       "      <td>It: Chapter Two (2019)</td>\n",
       "      <td>Horror</td>\n",
       "    </tr>\n",
       "    <tr>\n",
       "      <th>61002</th>\n",
       "      <td>204692</td>\n",
       "      <td>In the Tall Grass</td>\n",
       "      <td>Drama|Horror|Thriller</td>\n",
       "    </tr>\n",
       "    <tr>\n",
       "      <th>61005</th>\n",
       "      <td>204698</td>\n",
       "      <td>Joker (2019)</td>\n",
       "      <td>Crime|Drama|Thriller</td>\n",
       "    </tr>\n",
       "    <tr>\n",
       "      <th>61151</th>\n",
       "      <td>205106</td>\n",
       "      <td>Can You Keep a Secret? (2019)</td>\n",
       "      <td>Comedy|Romance</td>\n",
       "    </tr>\n",
       "  </tbody>\n",
       "</table>\n",
       "<p>7141 rows × 3 columns</p>\n",
       "</div>"
      ]
     },
     "execution_count": 31,
     "metadata": {},
     "output_type": "execute_result"
    }
   ],
   "execution_count": 31
  },
  {
   "metadata": {},
   "cell_type": "code",
   "outputs": [],
   "execution_count": null,
   "source": [
    "import re\n",
    "\n",
    "def extract_year(title):\n",
    "    match = re.search(r\"\\((\\d{4})\\)$\", title)\n",
    "    return int(match.group(1)) if match else None\n",
    "\n",
    "# Process Data \n",
    "filtered_movies.loc[:, \"genres\"] = filtered_movies[\"genres\"].fillna(\"\").apply(\n",
    "    lambda x: x.split(\"|\") if x else []\n",
    ")\n",
    "filtered_movies.loc[:, \"year\"] = filtered_movies[\"title\"].apply(\n",
    "    extract_year\n",
    ").astype(\"Int64\")"
   ],
   "id": "b6043f3eff9e491e"
  },
  {
   "metadata": {},
   "cell_type": "markdown",
   "source": "### Batch Load: UNWIND & MERGE",
   "id": "8961d81b1532dcba"
  },
  {
   "metadata": {
    "ExecuteTime": {
     "end_time": "2025-06-19T17:09:53.099827Z",
     "start_time": "2025-06-19T17:09:53.081928Z"
    }
   },
   "cell_type": "code",
   "source": [
    "def load_ratings(ratings_df: pd.DataFrame, batch_size: int = 1000) -> None:\n",
    "    \"\"\"Creates User and Movie nodes with RATED relationships.\"\"\"\n",
    "    rating_data = ratings_df.to_dict(\"records\")\n",
    "    \n",
    "    query = \"\"\"\n",
    "    UNWIND $batch AS row\n",
    "    MERGE (u:User {userId: row.userId})\n",
    "    MERGE (m:Movie {movieId: row.movieId})\n",
    "    MERGE (u)-[r:RATED]->(m)\n",
    "    SET r.rating = row.rating, \n",
    "        r.timestamp = datetime({epochSeconds: row.timestamp})\n",
    "    \"\"\"\n",
    "    \n",
    "    # Process in batches to avoid memory issues\n",
    "    for i in range(0, len(rating_data), batch_size):\n",
    "        batch = rating_data[i:i + batch_size]\n",
    "        graph.run(query, batch=batch)\n",
    "\n",
    "\n",
    "def load_movies(movies_df: pd.DataFrame, batch_size: int = 1000) -> None:\n",
    "    \"\"\"Creates Movie nodes.\"\"\"\n",
    "    movie_data = movies_df.to_dict(\"records\")\n",
    "      \n",
    "    query = \"\"\"\n",
    "    UNWIND $batch AS row\n",
    "    MERGE (m:Movie {movieId: row.movieId})\n",
    "    SET m.title = row.title,\n",
    "        m.releaseYear = row.year,\n",
    "        m.genres = CASE \n",
    "            WHEN row.genres IS NULL THEN []\n",
    "            WHEN row.genres = '' THEN []\n",
    "            ELSE [genre IN split(row.genres, '|') WHERE genre <> '']\n",
    "        END\n",
    "    \"\"\"\n",
    "    \n",
    "    for i in range(0, len(movie_data), batch_size):\n",
    "        batch = movie_data[i:i + batch_size]\n",
    "        graph.run(query, batch=batch)\n",
    "\n",
    "\n",
    "def load_tags(tags_df: pd.DataFrame, batch_size: int = 1000) -> None:\n",
    "    \"\"\"Creates TAGGED relationships between existing Users and Movies\"\"\"\n",
    "    # Clean data - remove null tags\n",
    "    tag_data = tags_df.dropna(subset=[\"tag\"]).to_dict(\"records\")\n",
    "    \n",
    "    query = \"\"\"\n",
    "    UNWIND $batch AS row\n",
    "    MATCH (u:User {userId: row.userId})\n",
    "    MATCH (m:Movie {movieId: row.movieId})\n",
    "    MERGE (u)-[t:TAGGED]->(m)\n",
    "    SET t.tag = row.tag\n",
    "    \"\"\"\n",
    "    \n",
    "    for i in range(0, len(tag_data), batch_size):\n",
    "        batch = tag_data[i:i + batch_size]\n",
    "        graph.run(query, batch=batch)\n",
    "\n",
    "\n",
    "def load_genome_tags(genome_tags_df: pd.DataFrame, batch_size: int = 1000) -> None:\n",
    "    \"\"\"Load genome tags as GenomeTag nodes\"\"\"\n",
    "    genome_tag_data = genome_tags_df.to_dict(\"records\")\n",
    "    \n",
    "    query = \"\"\"\n",
    "    UNWIND $batch AS row\n",
    "    MERGE (gt:GenomeTag {tagId: row.tagId})\n",
    "    SET gt.tag = row.tag\n",
    "    \"\"\"\n",
    "    \n",
    "    for i in range(0, len(genome_tag_data), batch_size):\n",
    "        batch = genome_tag_data[i:i + batch_size]\n",
    "        graph.run(query, batch=batch)\n",
    "\n",
    "\n",
    "def load_relevance_scores(\n",
    "        scores_df: pd.DataFrame, \n",
    "        threshold: float = 0.8, \n",
    "        batch_size: int = 1000\n",
    ") -> None:\n",
    "    \"\"\"Load relevance scores between movies and genome tags\"\"\"\n",
    "    # Filter by relevance threshold\n",
    "    filtered_scores = scores_df[scores_df['relevance'] >= threshold]\n",
    "    score_data = filtered_scores.to_dict(\"records\")\n",
    "    \n",
    "    query = \"\"\"\n",
    "    UNWIND $batch AS row\n",
    "    MATCH (m:Movie {movieId: row.movieId})\n",
    "    MATCH (gt:GenomeTag {tagId: row.tagId})\n",
    "    MERGE (m)-[r:HAS_RELEVANCE]->(gt)\n",
    "    SET r.score = row.relevance\n",
    "    \"\"\"\n",
    "    \n",
    "    for i in range(0, len(score_data), batch_size):\n",
    "        batch = score_data[i:i + batch_size]\n",
    "        graph.run(query, batch=batch)"
   ],
   "id": "45de4af9f5885680",
   "outputs": [],
   "execution_count": 33
  },
  {
   "metadata": {
    "ExecuteTime": {
     "end_time": "2025-06-19T17:33:45.181963Z",
     "start_time": "2025-06-19T17:33:43.513526Z"
    }
   },
   "cell_type": "code",
   "source": "# graph.run(\"MATCH (n) DETACH DELETE n\")",
   "id": "109afff1caacefb8",
   "outputs": [
    {
     "data": {
      "text/plain": [
       "(No data)"
      ],
      "text/html": [
       "(No data)"
      ]
     },
     "execution_count": 37,
     "metadata": {},
     "output_type": "execute_result"
    }
   ],
   "execution_count": 37
  },
  {
   "metadata": {
    "ExecuteTime": {
     "end_time": "2025-06-19T17:37:25.966687Z",
     "start_time": "2025-06-19T17:33:45.185159Z"
    }
   },
   "cell_type": "code",
   "source": [
    "import time\n",
    "\n",
    "start_time = time.time()\n",
    "\n",
    "stats = {\n",
    "    'movies_loaded': 0,\n",
    "    'users_loaded': 0,\n",
    "    'tags_created': 0,\n",
    "    'execution_time': 0,\n",
    "    'genome_tags_created': 0,\n",
    "    'relevance_relations_created': 0\n",
    "}\n",
    "\n",
    "try:\n",
    "    print(\"Starting data loading process...\")\n",
    "    \n",
    "    # Load movies (foundational nodes)\n",
    "    print(\"\\nLoading movies...\")\n",
    "    movie_start = time.time()\n",
    "    load_movies(filtered_movies)\n",
    "    stats['movies_loaded'] = len(filtered_movies)\n",
    "    print(f\"Movies loaded in {time.time() - movie_start:.2f}s\")\n",
    "    \n",
    "    # Load users through ratings\n",
    "    print(\"\\nLoading ratings (creates users)...\")\n",
    "    ratings_start = time.time()\n",
    "    load_ratings(filtered_ratings)\n",
    "    stats['users_loaded'] = len(filtered_ratings)\n",
    "    print(f\"Ratings loaded in {time.time() - ratings_start:.2f}s\")\n",
    "    \n",
    "    # Load tags\n",
    "    print(\"\\nLoading tags...\")\n",
    "    tags_start = time.time()\n",
    "    load_tags(filtered_tags)\n",
    "    stats['tags_created'] = len(filtered_tags)\n",
    "    print(f\"Tags loaded in {time.time() - tags_start:.2f}s\")\n",
    "    \n",
    "   # Load genome tags\n",
    "    print(\"\\nLoading genome tags...\")\n",
    "    genome_tags_start = time.time()\n",
    "    load_genome_tags(genome_tags)\n",
    "    stats['genome_tags_created'] = len(genome_tags)\n",
    "    print(f\"Genome tags loaded in {time.time() - genome_tags_start:.2f}s\")\n",
    "    \n",
    "    # Load relevance scores\n",
    "    print(\"\\nLoading relevance scores...\")\n",
    "    relevance_start = time.time()\n",
    "    load_relevance_scores(filtered_scores)\n",
    "    stats['relevance_relations_created'] = len(filtered_scores)\n",
    "    print(f\"Relevance scores loaded in {time.time() - relevance_start:.2f}s\")\n",
    "\n",
    "\n",
    "except Exception as e:\n",
    "    print(f\"\\nError during data loading: {str(e)}\")\n",
    "    raise\n",
    "finally:\n",
    "    stats['execution_time'] = time.time() - start_time\n",
    "    print(f\"\\nTotal processing time: {stats['execution_time']:.2f} seconds\")\n",
    "    print(f\"Summary: {stats}\")"
   ],
   "id": "7c2e46f56839e251",
   "outputs": [
    {
     "name": "stdout",
     "output_type": "stream",
     "text": [
      "Starting data loading process...\n",
      "\n",
      "Loading movies...\n",
      "Movies loaded in 4.52s\n",
      "\n",
      "Loading ratings (creates users)...\n",
      "Ratings loaded in 75.67s\n",
      "\n",
      "Loading tags...\n",
      "Tags loaded in 57.65s\n",
      "\n",
      "Loading genome tags...\n",
      "Genome tags loaded in 0.16s\n",
      "\n",
      "Loading relevance scores...\n",
      "Relevance scores loaded in 82.77s\n",
      "\n",
      "Total processing time: 220.76 seconds\n",
      "Summary: {'movies_loaded': 7141, 'users_loaded': 62834, 'tags_created': 811156, 'execution_time': 220.7614848613739, 'genome_tags_created': 1128, 'relevance_relations_created': 7641072}\n"
     ]
    }
   ],
   "execution_count": 38
  },
  {
   "metadata": {},
   "cell_type": "code",
   "outputs": [],
   "execution_count": null,
   "source": "",
   "id": "1c0a96b7cbaa60b9"
  },
  {
   "metadata": {
    "ExecuteTime": {
     "end_time": "2025-06-19T20:51:46.916225Z",
     "start_time": "2025-06-19T20:51:46.873798Z"
    }
   },
   "cell_type": "code",
   "source": [
    "# Total de nodos por tipo\n",
    "def contar_nodos():\n",
    "    query = \"\"\"\n",
    "    MATCH (n)\n",
    "    RETURN labels(n)[0] AS tipo, count(*) AS cantidad\n",
    "    \"\"\"\n",
    "    return graph.run(query).to_table()\n",
    "\n",
    "# Total de relaciones por tipo\n",
    "def contar_relaciones():\n",
    "    query = \"\"\"\n",
    "    MATCH ()-[r]->()\n",
    "    RETURN type(r) AS relacion, count(*) AS cantidad\n",
    "    \"\"\"\n",
    "    return graph.run(query).to_table()\n",
    "\n",
    "# Usuarios sin ratings\n",
    "def usuarios_sin_rating():\n",
    "    query = \"\"\"\n",
    "    MATCH (u:User)\n",
    "    WHERE NOT (u)-[:RATED]->()\n",
    "    RETURN count(u) AS usuarios_sin_rating\n",
    "    \"\"\"\n",
    "    return graph.run(query).to_table()\n",
    "\n",
    "# Películas sin género ni rating ni genome tags\n",
    "def peliculas_huerfanas():\n",
    "    query = \"\"\"\n",
    "    MATCH (m:Movie)\n",
    "    WHERE NOT (m)-[:HAS_GENRE]->()\n",
    "      AND NOT (m)<-[:RATED]-()\n",
    "      AND NOT (m)-[:HAS_RELEVANCE]->()\n",
    "    RETURN count(m) AS peliculas_sin_relaciones\n",
    "    \"\"\"\n",
    "    return graph.run(query).to_table()\n"
   ],
   "id": "58f56c17227e519d",
   "outputs": [],
   "execution_count": 41
  },
  {
   "metadata": {
    "ExecuteTime": {
     "end_time": "2025-06-19T20:51:47.627475Z",
     "start_time": "2025-06-19T20:51:47.538156Z"
    }
   },
   "cell_type": "code",
   "source": [
    "print(\"Nodos por tipo:\")\n",
    "print(contar_nodos())\n",
    "\n",
    "print(\"\\nRelaciones por tipo:\")\n",
    "print(contar_relaciones())\n",
    "\n",
    "print(\"\\nUsuarios sin ratings:\")\n",
    "print(usuarios_sin_rating())\n",
    "\n",
    "print(\"\\nPelículas sin ningún vínculo:\")\n",
    "print(peliculas_huerfanas())\n"
   ],
   "id": "19abb3fd4ea8786f",
   "outputs": [
    {
     "name": "stdout",
     "output_type": "stream",
     "text": [
      "Nodos por tipo:\n",
      " tipo      | cantidad \r\n",
      "-----------|----------\r\n",
      " Movie     |     7141 \r\n",
      " User      |      500 \r\n",
      " GenomeTag |     1128 \r\n",
      "\n",
      "\n",
      "Relaciones por tipo:\n",
      " relacion      | cantidad \r\n",
      "---------------|----------\r\n",
      " HAS_RELEVANCE |    83312 \r\n",
      " RATED         |    62834 \r\n",
      " TAGGED        |      313 \r\n",
      "\n",
      "\n",
      "Usuarios sin ratings:\n",
      " usuarios_sin_rating \r\n",
      "---------------------\r\n",
      "                   0 \r\n",
      "\n",
      "\n",
      "Películas sin ningún vínculo:\n",
      " peliculas_sin_relaciones \r\n",
      "--------------------------\r\n",
      "                        0 \r\n",
      "\n"
     ]
    }
   ],
   "execution_count": 42
  },
  {
   "metadata": {},
   "cell_type": "code",
   "outputs": [],
   "execution_count": null,
   "source": "",
   "id": "8a825877e5950a1e"
  }
 ],
 "metadata": {
  "kernelspec": {
   "display_name": "Python 3",
   "language": "python",
   "name": "python3"
  },
  "language_info": {
   "codemirror_mode": {
    "name": "ipython",
    "version": 2
   },
   "file_extension": ".py",
   "mimetype": "text/x-python",
   "name": "python",
   "nbconvert_exporter": "python",
   "pygments_lexer": "ipython2",
   "version": "2.7.6"
  }
 },
 "nbformat": 4,
 "nbformat_minor": 5
}
