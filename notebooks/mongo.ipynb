{
 "cells": [
  {
   "metadata": {
    "ExecuteTime": {
     "end_time": "2025-06-16T21:48:26.423899Z",
     "start_time": "2025-06-16T21:48:26.342503Z"
    }
   },
   "cell_type": "code",
   "source": [
    "%load_ext autoreload\n",
    "%autoreload 2"
   ],
   "id": "e3d28bd2d5de1d38",
   "outputs": [],
   "execution_count": 2
  },
  {
   "metadata": {
    "ExecuteTime": {
     "end_time": "2025-06-16T21:48:28.739207Z",
     "start_time": "2025-06-16T21:48:26.495480Z"
    }
   },
   "cell_type": "code",
   "source": [
    "import json\n",
    "import pymongo\n",
    "from src.benchmark.utils import get_system_info\n",
    "\n",
    "print(\"PyMongo Version:\", pymongo.__version__)\n",
    "print(\"System Info:\\n\", json.dumps(get_system_info(), indent=3))"
   ],
   "id": "initial_id",
   "outputs": [
    {
     "name": "stdout",
     "output_type": "stream",
     "text": [
      "PyMongo Version: 4.13.1\n",
      "System Info:\n",
      " {\n",
      "   \"python_version\": \"3.12.1\",\n",
      "   \"system\": {\n",
      "      \"os\": \"Darwin\",\n",
      "      \"release\": \"24.5.0\",\n",
      "      \"machine\": \"x86_64\",\n",
      "      \"processor\": \"i386\"\n",
      "   },\n",
      "   \"cpu\": {\n",
      "      \"physical_cores\": 8,\n",
      "      \"total_cores\": 8,\n",
      "      \"frequency_mhz\": 2400\n",
      "   },\n",
      "   \"memory\": {\n",
      "      \"total_ram_gb\": 16.0,\n",
      "      \"available_ram_gb\": 0.88\n",
      "   }\n",
      "}\n"
     ]
    }
   ],
   "execution_count": 3
  },
  {
   "metadata": {},
   "cell_type": "markdown",
   "source": "# Data Load",
   "id": "520c5897c4b45524"
  },
  {
   "metadata": {
    "ExecuteTime": {
     "end_time": "2025-06-16T21:48:28.750427Z",
     "start_time": "2025-06-16T21:48:28.740604Z"
    }
   },
   "cell_type": "code",
   "source": [
    "from pymongo import MongoClient\n",
    "\n",
    "client = MongoClient(\"mongodb://localhost:27017/\")"
   ],
   "id": "4d1c99f32bb41d5c",
   "outputs": [],
   "execution_count": 4
  },
  {
   "metadata": {
    "ExecuteTime": {
     "end_time": "2025-06-16T21:48:28.765895Z",
     "start_time": "2025-06-16T21:48:28.751150Z"
    }
   },
   "cell_type": "code",
   "source": [
    "try:\n",
    "    client.admin.command('ping')\n",
    "    print(\"Successfully connected to MongoDB\")\n",
    "except Exception as e:\n",
    "    print(f\"Connection failed: {e}\")"
   ],
   "id": "312d9edcf1a7c9f6",
   "outputs": [
    {
     "name": "stdout",
     "output_type": "stream",
     "text": [
      "Successfully connected to MongoDB\n"
     ]
    }
   ],
   "execution_count": 5
  },
  {
   "metadata": {
    "ExecuteTime": {
     "end_time": "2025-06-16T21:48:28.777663Z",
     "start_time": "2025-06-16T21:48:28.767190Z"
    }
   },
   "cell_type": "code",
   "source": "print(\"Databases:\", client.list_database_names())",
   "id": "ac95b74a3fc124c",
   "outputs": [
    {
     "name": "stdout",
     "output_type": "stream",
     "text": [
      "Databases: ['admin', 'bdnr_MovieLens_ml_25m', 'benchmark_db', 'config', 'local']\n"
     ]
    }
   ],
   "execution_count": 6
  },
  {
   "metadata": {
    "ExecuteTime": {
     "end_time": "2025-06-16T21:48:28.794403Z",
     "start_time": "2025-06-16T21:48:28.778295Z"
    }
   },
   "cell_type": "code",
   "source": [
    "from pprint import pprint\n",
    "\n",
    "def print_collection_info(db_name, collection_name):\n",
    "    print(f\"\\n{db_name}.{collection_name}\")\n",
    "    collection = client[db_name][collection_name]\n",
    "    for doc in collection.find().limit(1):  # First documents\n",
    "        pprint(doc)\n",
    "\n",
    "# Admin DB collections\n",
    "print_collection_info('admin', 'system.version')\n",
    "# Local DB collections\n",
    "print_collection_info('local', 'startup_log')"
   ],
   "id": "ad44b9305d42fcb3",
   "outputs": [
    {
     "name": "stdout",
     "output_type": "stream",
     "text": [
      "\n",
      "admin.system.version\n",
      "{'_id': 'featureCompatibilityVersion', 'version': '7.0'}\n",
      "\n",
      "local.startup_log\n",
      "{'_id': 'UY000MC64N6TY7K-1747265527787',\n",
      " 'buildinfo': {'allocator': 'system',\n",
      "               'bits': 64,\n",
      "               'buildEnvironment': {'cc': '/Applications/Xcode13.2.1.app/Contents/Developer/Toolchains/XcodeDefault.xctoolchain/usr/bin/clang: '\n",
      "                                          'Apple clang version 13.0.0 '\n",
      "                                          '(clang-1300.0.29.30)',\n",
      "                                    'ccflags': '-Wno-error=unknown-warning-option '\n",
      "                                               '-isysroot '\n",
      "                                               '/Applications/Xcode13.2.1.app/Contents/Developer/Platforms/MacOSX.platform/Developer/SDKs/MacOSX12.1.sdk '\n",
      "                                               '-mmacosx-version-min=11.0 '\n",
      "                                               '--target=darwin20.0.0 -arch '\n",
      "                                               'arm64 -Werror -include '\n",
      "                                               'mongo/platform/basic.h '\n",
      "                                               '-ffp-contract=off '\n",
      "                                               '-fasynchronous-unwind-tables '\n",
      "                                               '-g2 -Wall -Wsign-compare '\n",
      "                                               '-Wno-unknown-pragmas '\n",
      "                                               '-Winvalid-pch '\n",
      "                                               '-fno-omit-frame-pointer '\n",
      "                                               '-fno-strict-aliasing -O2 '\n",
      "                                               '-Wno-unused-local-typedefs '\n",
      "                                               '-Wno-unused-function '\n",
      "                                               '-Wno-unused-private-field '\n",
      "                                               '-Wno-deprecated-declarations '\n",
      "                                               '-Wno-tautological-constant-out-of-range-compare '\n",
      "                                               '-Wno-tautological-constant-compare '\n",
      "                                               '-Wno-tautological-unsigned-zero-compare '\n",
      "                                               '-Wno-tautological-unsigned-enum-zero-compare '\n",
      "                                               '-Wno-unused-const-variable '\n",
      "                                               '-Wno-missing-braces '\n",
      "                                               '-Wno-inconsistent-missing-override '\n",
      "                                               '-Wno-potentially-evaluated-expression '\n",
      "                                               '-Wno-unused-lambda-capture '\n",
      "                                               '-Wunguarded-availability '\n",
      "                                               '-fstack-protector-strong '\n",
      "                                               '-fno-limit-debug-info '\n",
      "                                               '-Wimplicit-fallthrough',\n",
      "                                    'cppdefines': 'SAFEINT_USE_INTRINSICS 0 '\n",
      "                                                  'PCRE2_STATIC NDEBUG '\n",
      "                                                  'ASIO_HAS_STD_INVOKE_RESULT '\n",
      "                                                  'ABSL_FORCE_ALIGNED_ACCESS '\n",
      "                                                  'BOOST_ENABLE_ASSERT_DEBUG_HANDLER '\n",
      "                                                  'BOOST_FILESYSTEM_NO_CXX20_ATOMIC_REF '\n",
      "                                                  'BOOST_LOG_NO_SHORTHAND_NAMES '\n",
      "                                                  'BOOST_LOG_USE_NATIVE_SYSLOG '\n",
      "                                                  'BOOST_LOG_WITHOUT_THREAD_ATTR '\n",
      "                                                  'BOOST_MATH_NO_LONG_DOUBLE_MATH_FUNCTIONS '\n",
      "                                                  'BOOST_SYSTEM_NO_DEPRECATED '\n",
      "                                                  'BOOST_THREAD_USES_DATETIME '\n",
      "                                                  'BOOST_THREAD_VERSION 5',\n",
      "                                    'cxx': '/Applications/Xcode13.2.1.app/Contents/Developer/Toolchains/XcodeDefault.xctoolchain/usr/bin/clang++: '\n",
      "                                           'Apple clang version 13.0.0 '\n",
      "                                           '(clang-1300.0.29.30)',\n",
      "                                    'cxxflags': '-Werror=unused-result '\n",
      "                                                '-Woverloaded-virtual '\n",
      "                                                '-Wpessimizing-move '\n",
      "                                                '-Wno-undefined-var-template '\n",
      "                                                '-Wno-instantiation-after-specialization '\n",
      "                                                '-fsized-deallocation '\n",
      "                                                '-Wno-defaulted-function-deleted '\n",
      "                                                '-Wunused-exception-parameter '\n",
      "                                                '-Wno-deprecated '\n",
      "                                                '-stdlib=libc++ -std=c++20',\n",
      "                                    'distarch': 'aarch64',\n",
      "                                    'distmod': '',\n",
      "                                    'linkflags': '-Wl,-syslibroot,/Applications/Xcode13.2.1.app/Contents/Developer/Platforms/MacOSX.platform/Developer/SDKs/MacOSX12.1.sdk '\n",
      "                                                 '-mmacosx-version-min=11.0 '\n",
      "                                                 '--target=darwin20.0.0 -arch '\n",
      "                                                 'arm64 -Wl,-fatal_warnings '\n",
      "                                                 '-Wl,-bind_at_load '\n",
      "                                                 '-fstack-protector-strong '\n",
      "                                                 '-stdlib=libc++',\n",
      "                                    'target_arch': 'aarch64',\n",
      "                                    'target_os': 'macOS'},\n",
      "               'debug': False,\n",
      "               'gitVersion': 'cf29fc744f8ee2ac9245f2845f29c6a706dc375a',\n",
      "               'javascriptEngine': 'mozjs',\n",
      "               'macOS': {'osProductVersion': '15.4.1',\n",
      "                         'osRelease': '24.4.0',\n",
      "                         'version': 'Darwin Kernel Version 24.4.0: Fri Apr 11 '\n",
      "                                    '18:33:46 PDT 2025; '\n",
      "                                    'root:xnu-11417.101.15~117/RELEASE_ARM64_T8112'},\n",
      "               'maxBsonObjectSize': 16777216,\n",
      "               'modules': [],\n",
      "               'openssl': {'running': 'Apple Secure Transport'},\n",
      "               'storageEngines': ['devnull', 'wiredTiger'],\n",
      "               'sysInfo': 'deprecated',\n",
      "               'version': '7.0.20',\n",
      "               'versionArray': [7, 0, 20, 0]},\n",
      " 'cmdLine': {'config': '/opt/homebrew/etc/mongod.conf',\n",
      "             'net': {'bindIp': '127.0.0.1, ::1', 'ipv6': True},\n",
      "             'storage': {'dbPath': '/opt/homebrew/var/mongodb'},\n",
      "             'systemLog': {'destination': 'file',\n",
      "                           'logAppend': True,\n",
      "                           'path': '/opt/homebrew/var/log/mongodb/mongo.log'}},\n",
      " 'hostname': 'UY000MC64N6TY7K',\n",
      " 'pid': 4227,\n",
      " 'startTime': datetime.datetime(2025, 5, 14, 23, 32, 7),\n",
      " 'startTimeLocal': 'Wed May 14 20:32:07.787'}\n"
     ]
    }
   ],
   "execution_count": 7
  },
  {
   "metadata": {},
   "cell_type": "markdown",
   "source": "### Create new collections",
   "id": "fc962d324a6c0afb"
  },
  {
   "metadata": {
    "ExecuteTime": {
     "end_time": "2025-06-16T21:48:28.802690Z",
     "start_time": "2025-06-16T21:48:28.795264Z"
    }
   },
   "cell_type": "code",
   "source": [
    "# Create database and collections\n",
    "db = client[\"bdnr_MovieLens_ml_25m\"]\n",
    "\n",
    "movies_col = db[\"movies\"]\n",
    "users_col = db[\"users\"]"
   ],
   "id": "c1dc18f3da30a9a7",
   "outputs": [],
   "execution_count": 8
  },
  {
   "metadata": {
    "ExecuteTime": {
     "end_time": "2025-06-16T21:48:28.810824Z",
     "start_time": "2025-06-16T21:48:28.803535Z"
    }
   },
   "cell_type": "code",
   "source": "# client.drop_database(\"bdnr_MovieLens_ml_25m_test\")",
   "id": "bcd9f7a058ea72e8",
   "outputs": [],
   "execution_count": 9
  },
  {
   "metadata": {},
   "cell_type": "markdown",
   "source": "### Load collections",
   "id": "ded924a215487940"
  },
  {
   "metadata": {
    "ExecuteTime": {
     "end_time": "2025-06-16T21:48:52.522669Z",
     "start_time": "2025-06-16T21:48:28.811643Z"
    }
   },
   "cell_type": "code",
   "source": [
    "import pandas as pd\n",
    "\n",
    "# Read CSV files\n",
    "base_path = \"/Users/efaliveni//Downloads/ml-25m\"\n",
    "\n",
    "ratings = pd.read_csv(f\"{base_path}/ratings.csv\")\n",
    "movies = pd.read_csv(f\"{base_path}/movies.csv\")\n",
    "tags = pd.read_csv(f\"{base_path}/tags.csv\")\n",
    "genome_tags = pd.read_csv(f\"{base_path}/genome-tags.csv\")\n",
    "genome_scores = pd.read_csv(f\"{base_path}/genome-scores.csv\")"
   ],
   "id": "1498dc75bed1a293",
   "outputs": [],
   "execution_count": 10
  },
  {
   "metadata": {
    "ExecuteTime": {
     "end_time": "2025-06-16T21:48:53.328827Z",
     "start_time": "2025-06-16T21:48:52.526752Z"
    }
   },
   "cell_type": "code",
   "source": [
    "# Filter Data\n",
    "SAMPLE_SIZE = 500\n",
    "\n",
    "selected_users = ratings['userId'].unique()[:SAMPLE_SIZE]\n",
    "filtered_ratings = ratings[ratings['userId'].isin(selected_users)]\n",
    "filtered_movie_ids = filtered_ratings['movieId'].unique()\n",
    "filtered_movies = movies[movies['movieId'].isin(filtered_movie_ids)]\n",
    "filtered_tags = tags[tags['movieId'].isin(filtered_movie_ids)]\n",
    "filtered_scores = genome_scores[genome_scores['movieId'].isin(filtered_movie_ids)]"
   ],
   "id": "7f515fdc34ef3b4",
   "outputs": [],
   "execution_count": 11
  },
  {
   "metadata": {
    "ExecuteTime": {
     "end_time": "2025-06-16T21:48:53.371118Z",
     "start_time": "2025-06-16T21:48:53.331689Z"
    }
   },
   "cell_type": "code",
   "source": [
    "from collections import defaultdict\n",
    "# Create a dictionary of genome tags for quick lookup\n",
    "genome_tags_dict = {row['tagId']: row['tag'] for _, row in genome_tags.iterrows()}\n",
    "\n",
    "# Build dictionaries to accumulate data\n",
    "ratings_by_movie = defaultdict(list)\n",
    "scores_by_movie = defaultdict(list)\n",
    "\n",
    "ratings_by_user = defaultdict(list)\n",
    "tags_by_user = defaultdict(list)"
   ],
   "id": "741a458054936e4a",
   "outputs": [],
   "execution_count": 12
  },
  {
   "metadata": {
    "jupyter": {
     "is_executing": true
    },
    "ExecuteTime": {
     "start_time": "2025-06-16T21:48:53.371860Z"
    }
   },
   "cell_type": "code",
   "source": [
    "# Process ratings and tags to build both movie and user views\n",
    "RELEVANCE_THRESHOLD = 0.8\n",
    "\n",
    "# Ratings\n",
    "for _, r in filtered_ratings.iterrows():\n",
    "    movie_id = int(r.movieId)\n",
    "    user_id = int(r.userId)\n",
    "    \n",
    "    # Add to movie's ratings\n",
    "    ratings_by_movie[movie_id].append({\n",
    "        \"userId\": user_id,\n",
    "        \"rating\": float(r.rating),\n",
    "        \"timestamp\": int(r.timestamp)\n",
    "    })\n",
    "    \n",
    "    # Add to user's ratings\n",
    "    ratings_by_user[user_id].append({\n",
    "        \"movieId\": movie_id,\n",
    "        \"rating\": float(r.rating),\n",
    "        \"timestamp\": int(r.timestamp)\n",
    "    })\n",
    "    \n",
    "# Tags (only for users), genome tag is the cleaned infered tag\n",
    "for _, t in filtered_tags.dropna(subset=[\"tag\"]).iterrows():\n",
    "    movie_id = int(t.movieId)\n",
    "    user_id = int(t.userId)\n",
    "    \n",
    "    tags_by_user[user_id].append({\n",
    "        \"movieId\": movie_id,\n",
    "        \"tag\": t.tag,\n",
    "        \"timestamp\": int(t.timestamp)\n",
    "    })\n",
    "    \n",
    "# Genome scores (only for movies), with 0.8 threshold\n",
    "for _, s in filtered_scores[filtered_scores.relevance > RELEVANCE_THRESHOLD].iterrows():\n",
    "    movie_id = int(s.movieId)\n",
    "    tag_id = int(s.tagId)\n",
    "    \n",
    "    scores_by_movie[movie_id].append({\n",
    "        \"tagId\": tag_id,\n",
    "        \"tag\": genome_tags_dict.get(tag_id, \"\"),\n",
    "        \"relevance\": float(s.relevance)\n",
    "    })"
   ],
   "id": "eec91bb432fa61e9",
   "outputs": [],
   "execution_count": null
  },
  {
   "metadata": {
    "jupyter": {
     "is_executing": true
    }
   },
   "cell_type": "code",
   "source": [
    "import re\n",
    "\n",
    "# Build movie documents\n",
    "movie_docs = []\n",
    "for _, m in filtered_movies.iterrows():\n",
    "    movie_id = int(m.movieId)\n",
    "   \n",
    "    # Extract year from title\n",
    "    title = m.title\n",
    "    year_match = re.search(r\"\\((\\d{4})\\)$\", title)\n",
    "    year = int(year_match.group(1)) if year_match else None\n",
    "    \n",
    "    # Calculate statistics\n",
    "    movie_ratings = ratings_by_movie.get(movie_id, [])\n",
    "    rating_count = len(movie_ratings)\n",
    "    if rating_count > 0:\n",
    "        avg_rating = sum(r['rating'] for r in movie_ratings) / rating_count\n",
    "        # Calculate rating distribution (count of each star rating)\n",
    "        rating_dist = {\"0.5\":0, \"1.0\":0, \"1.5\":0, \"2.0\":0, \"2.5\":0, \n",
    "                      \"3.0\":0, \"3.5\":0, \"4.0\":0, \"4.5\":0, \"5.0\":0}\n",
    "        for r in movie_ratings:\n",
    "            rating_key = f\"{r['rating']}\"\n",
    "            rating_dist[rating_key] += 1 \n",
    "    else:\n",
    "        avg_rating = 0.0\n",
    "        rating_dist = {}\n",
    "        \n",
    "    movie_docs.append({\n",
    "        \"movieId\": movie_id,\n",
    "        \"title\": title,\n",
    "        \"year\": year,\n",
    "        \"genres\": m.genres.split(\"|\") if pd.notna(m.genres) else [],\n",
    "        \"ratings\": ratings_by_movie.get(movie_id, []),\n",
    "        \"tagGenome\": scores_by_movie.get(movie_id, []),\n",
    "        \"stats\": {\n",
    "            \"ratingCount\": rating_count,\n",
    "            \"avgRating\": round(avg_rating, 2),\n",
    "            \"ratingDistribution\": rating_dist\n",
    "        },\n",
    "\n",
    "    })"
   ],
   "id": "ba360923e89051db",
   "outputs": [],
   "execution_count": null
  },
  {
   "metadata": {
    "jupyter": {
     "is_executing": true
    }
   },
   "cell_type": "code",
   "source": [
    "# Build user documents with rating interaction history\n",
    "user_docs = []\n",
    "for user_id in selected_users:\n",
    "    user_id = int(user_id)\n",
    "    \n",
    "    # Get all user activity\n",
    "    user_ratings = ratings_by_user.get(user_id, [])\n",
    "    user_tags = tags_by_user.get(user_id, [])\n",
    "    \n",
    "    # Calculate basic stats\n",
    "    rating_count = len(user_ratings)\n",
    "    avg_rating = sum(r['rating'] for r in user_ratings) / rating_count if rating_count > 0 else 0\n",
    "    tag_count = len(user_tags)\n",
    "    \n",
    "    # Create rating interaction history\n",
    "    rating_interactions = [\n",
    "        {\n",
    "            \"movieId\": rating['movieId'],\n",
    "            \"rating\": rating['rating'],\n",
    "            \"timestamp\": rating['timestamp']\n",
    "        }\n",
    "        for rating in user_ratings\n",
    "    ]\n",
    "    \n",
    "    # Add tags to history with type designation\n",
    "    # tag_interactions = [\n",
    "    #     {\n",
    "    #         \"movieId\": tag['movieId'],\n",
    "    #         \"tag\": tag['tag'],\n",
    "    #         \"timestamp\": tag['timestamp']\n",
    "    #     }\n",
    "    #     for tag in user_tags\n",
    "    # ]\n",
    "    \n",
    "    # Sort interactions by timestamp (oldest first)\n",
    "    rating_interactions.sort(key=lambda x: x['timestamp'])\n",
    "    # tag_interactions.sort(key=lambda x: x['timestamp'])\n",
    "    \n",
    "    user_docs.append({\n",
    "        \"userId\": user_id,\n",
    "        \"stats\": {\n",
    "            \"ratingCount\": rating_count,\n",
    "            \"avgRating\": round(avg_rating, 2),\n",
    "        },\n",
    "        \"ratingHistory\": rating_interactions,\n",
    "        # \"tagHistory\": tag_interactions\n",
    "    })"
   ],
   "id": "df62d516e30fc5cf",
   "outputs": [],
   "execution_count": null
  },
  {
   "metadata": {
    "jupyter": {
     "is_executing": true
    }
   },
   "cell_type": "code",
   "source": [
    "# movies_col.delete_many({})\n",
    "# users_col.delete_many({})"
   ],
   "id": "9dd4bcae87b15761",
   "outputs": [],
   "execution_count": null
  },
  {
   "metadata": {
    "jupyter": {
     "is_executing": true
    }
   },
   "cell_type": "code",
   "source": [
    "import time\n",
    "\n",
    "# Insert data\n",
    "start = time.time()\n",
    "movies_col.insert_many(movie_docs)\n",
    "users_col.insert_many(user_docs)\n",
    "end = time.time()\n",
    "\n",
    "print(f\"Total processing and loading time: {end - start:.2f} seconds\")\n",
    "print(f\"Movies loaded: {len(movie_docs)}\")\n",
    "print(f\"Users loaded: {len(user_docs)}\")"
   ],
   "id": "4c94fba673c34598",
   "outputs": [],
   "execution_count": null
  },
  {
   "metadata": {},
   "cell_type": "markdown",
   "source": "### Sample Movie",
   "id": "acbf522e78f99bb"
  },
  {
   "metadata": {
    "jupyter": {
     "is_executing": true
    }
   },
   "cell_type": "code",
   "source": [
    "sample_movie = movies_col.find_one({}, {'_id': 0})  # Exclude MongoDB _id\n",
    "print(json.dumps(sample_movie, indent=2, default=str))"
   ],
   "id": "c6e3be7ef58284a",
   "outputs": [],
   "execution_count": null
  },
  {
   "metadata": {},
   "cell_type": "markdown",
   "source": "### Sample User",
   "id": "7d343e0fe3dbddea"
  },
  {
   "metadata": {
    "jupyter": {
     "is_executing": true
    }
   },
   "cell_type": "code",
   "source": [
    "sample_user = users_col.find_one({}, {'_id': 0}) \n",
    "print(json.dumps(sample_user, indent=2, default=str))"
   ],
   "id": "3e4a8717e875990c",
   "outputs": [],
   "execution_count": null
  },
  {
   "metadata": {},
   "cell_type": "markdown",
   "source": [
    "# Single-Threaded Benchmark\n",
    "Simulate User Load, real time latency stress"
   ],
   "id": "e13398964ade87c6"
  },
  {
   "metadata": {
    "jupyter": {
     "is_executing": true
    }
   },
   "cell_type": "code",
   "source": [
    "### Define Test Queries - Read Operations\n",
    "\n",
    "# queries = [\n",
    "#     (\"Find by ID\", lambda: movies_col.find_one({\"movieId\": 1})),\n",
    "#     (\"Top Rated\", lambda: list(movies_col.find({\"stats.avgRating\": {\"$gt\": 4.5}}).limit(10))),\n",
    "#     (\"Genre Search\", lambda: list(movies_col.find({\"genres\": \"Comedy\"}).limit(20))),\n",
    "#     (\"User History\", lambda: list(users_col.find({\"stats.ratingCount\": {\"$gt\": 100}}))),\n",
    "#     (\"Aggregate Ratings\", lambda: list(movies_col.aggregate([\n",
    "#         {\"$match\": {\"year\": {\"$gte\": 2000}}},\n",
    "#         {\"$group\": {\"_id\": None, \"avgRating\": {\"$avg\": \"$stats.avgRating\"}}}\n",
    "#     ]))),\n",
    "#     (\"Title Search (Regex)\", lambda: list(movies_col.find(\n",
    "#         {\"title\": {\"$regex\": \"story\", \"$options\": \"i\"}}  # Case-insensitive regex search\n",
    "#     ).limit(5))),\n",
    "#     (\"User Ratings with Movie Details\", lambda: list(users_col.aggregate([\n",
    "#          {\"$match\": {\"userId\": {\"$in\": [int(x) for x in selected_users[:5]]}}},\n",
    "#          {\"$lookup\": {\n",
    "#              \"from\": \"movies\",\n",
    "#              \"localField\": \"ratings.movieId\",\n",
    "#              \"foreignField\": \"movieId\",\n",
    "#              \"as\": \"ratedMovies\"\n",
    "#          }},\n",
    "#          {\"$project\": {\n",
    "#              \"userId\": 1,\n",
    "#              \"ratedMovies\": {\n",
    "#                  \"$map\": {\n",
    "#                      \"input\": \"$ratedMovies\",\n",
    "#                      \"as\": \"movie\",\n",
    "#                      \"in\": {\n",
    "#                          \"title\":     \"$$movie.title\",\n",
    "#                          \"year\":      \"$$movie.year\",\n",
    "#                          \"genres\":    \"$$movie.genres\",\n",
    "#                          \"avgRating\": \"$$movie.stats.avgRating\"\n",
    "#                      }\n",
    "#                  }\n",
    "#              },\n",
    "#              \"ratingCount\": {\"$size\": {\"$ifNull\":[\"$ratings\",[]]}}\n",
    "#          }},\n",
    "#          {\"$limit\": 5}\n",
    "#      ])))\n",
    "# ]"
   ],
   "id": "2a95bc7e182a0f76",
   "outputs": [],
   "execution_count": null
  },
  {
   "metadata": {
    "jupyter": {
     "is_executing": true
    }
   },
   "cell_type": "code",
   "source": [
    "# query_name, benchmark_query = queries[1][0], queries[1][1]\n",
    "# explain()\n",
    "movies_col.find({\"movieId\": 1}).limit(1).explain()"
   ],
   "id": "613611b65b24adf7",
   "outputs": [],
   "execution_count": null
  },
  {
   "metadata": {},
   "cell_type": "markdown",
   "source": [
    "### Benchmark:\n",
    "\n",
    "- Prevent memory caching.\n",
    "- Use indexed queries that simulate realistic application behavior.\n",
    "- Measure read & writes.\n",
    "- Randomized access patterns, multi-threading, or batch loads. (Out of scope)\n"
   ],
   "id": "cb866922492a8541"
  },
  {
   "metadata": {
    "jupyter": {
     "is_executing": true
    }
   },
   "cell_type": "code",
   "source": [
    "# Create Index to measure indexed vs. non-indexed performance:\n",
    "# movies_col.create_index(\"movieId\")\n",
    "movies_col.create_index(\"genres\")\n",
    "users_col.create_index(\"userId\")"
   ],
   "id": "5f4e43b21aac2e19",
   "outputs": [],
   "execution_count": null
  },
  {
   "metadata": {
    "jupyter": {
     "is_executing": true
    }
   },
   "cell_type": "code",
   "source": [
    "from src.benchmark.utils import timed_op\n",
    "\n",
    "@timed_op\n",
    "def perform_read(col, movie_id):\n",
    "    return list(col.find({\"movieId\": movie_id}).limit(1))\n",
    "\n",
    "@timed_op\n",
    "def perform_write(col, doc):\n",
    "    return col.insert_one(doc)"
   ],
   "id": "cd3deba7a6742b9c",
   "outputs": [],
   "execution_count": null
  },
  {
   "metadata": {
    "jupyter": {
     "is_executing": true
    }
   },
   "cell_type": "code",
   "source": [
    "import random\n",
    "import time\n",
    "import itertools\n",
    "from pymongo import MongoClient\n",
    "from src.benchmark.mongo_listener import BenchListener\n",
    "from src.benchmark.mongo_benchmark import run_benchmark\n",
    "\n",
    "\n",
    "GENRES = [\n",
    "    \"Adventure\", \"Animation\", \"Children\", \"Comedy\", \"Fantasy\", \"Action\",\n",
    "    \"Drama\", \"Horror\", \"Sci-Fi\", \"Romance\", \"Thriller\"\n",
    "]\n",
    "\n",
    "TAG_VOCAB = [\n",
    "    \"animated\", \"cgi\", \"classic\", \"pixar\", \"disney\", \"heartwarming\", \"kids\",\n",
    "    \"fun\", \"friendship\", \"great movie\", \"story\", \"nostalgic\", \"imdb top 250\"\n",
    "]\n",
    "\n",
    "RATING_VALUES = [0.5, 1.0, 1.5, 2.0, 2.5, 3.0, 3.5, 4.0, 4.5, 5.0]\n",
    "\n",
    "\n",
    "def generate_random_movie_doc(movie_id: int) -> dict:\n",
    "    num_ratings = random.randint(30, 120)\n",
    "    ratings = [\n",
    "        {\n",
    "            \"userId\": random.randint(1, 1_000),\n",
    "            \"rating\": round(random.choice(RATING_VALUES), 1),\n",
    "            \"timestamp\": int(time.time()) - random.randint(0, 10**7)\n",
    "        }\n",
    "        for _ in range(num_ratings)\n",
    "    ]\n",
    "\n",
    "    # Rating distribution\n",
    "    rating_distribution = {f\"{r:.1f}\": 0 for r in RATING_VALUES}\n",
    "    for r in ratings:\n",
    "        rating_distribution[f\"{r['rating']:.1f}\"] += 1\n",
    "\n",
    "    avg_rating = round(sum(r[\"rating\"] for r in ratings) / len(ratings), 2)\n",
    "\n",
    "    return {\n",
    "        \"movieId\": movie_id,\n",
    "        \"title\": f\"Random Movie {movie_id}\",\n",
    "        \"year\": random.randint(1950, 2025),\n",
    "        \"genres\": random.sample(GENRES, k=random.randint(2, 5)),\n",
    "        \"ratings\": ratings,\n",
    "        \"tagGenome\": [\n",
    "            {\n",
    "                \"tagId\": tid,\n",
    "                \"tag\": TAG_VOCAB[tid % len(TAG_VOCAB)],\n",
    "                \"relevance\": round(random.uniform(0.75, 1.0), 5)\n",
    "            }\n",
    "            for tid in [random.randint(1, 1000) for _ in range(random.randint(10, 20))]\n",
    "        ],\n",
    "        \"stats\": {\n",
    "            \"ratingCount\": num_ratings,\n",
    "            \"avgRating\": avg_rating,\n",
    "            \"ratingDistribution\": rating_distribution\n",
    "        }\n",
    "    }\n",
    "\n",
    "\n",
    "listener = BenchListener(watched_commands={\"find\", \"insert\"})\n",
    "client = MongoClient(\"mongodb://localhost:27017\", event_listeners=[listener])\n",
    "db = client[\"bdnr_MovieLens_ml_25m\"]\n",
    "movies_col = db[\"movies\"]\n",
    "\n",
    "# ---- READ benchmark ----\n",
    "read_query_id = \"find_movie_id\"\n",
    "read_query = lambda: perform_read(movies_col, random.randint(1, 1_000))\n",
    "\n",
    "read_result = run_benchmark(read_query_id, read_query, listener, duration=20)\n",
    "print(\"READ result summary:\", read_result.summary)\n",
    "\n",
    "# ---- WRITE benchmark ----\n",
    "movie_id_counter = itertools.count(start=1_000_001)\n",
    "\n",
    "write_query_id = \"insert_one\"\n",
    "write_query = lambda: perform_write(\n",
    "    movies_col,\n",
    "    generate_random_movie_doc(next(movie_id_counter))\n",
    ")\n",
    "\n",
    "write_result = run_benchmark(\"write_query_id\", write_query, listener, duration=20)\n",
    "print(\"WRITE result summary:\", write_result.summary)"
   ],
   "id": "5ea2430dc95cb6",
   "outputs": [],
   "execution_count": null
  },
  {
   "metadata": {
    "jupyter": {
     "is_executing": true
    }
   },
   "cell_type": "code",
   "source": [
    "from src.benchmark.utils import plot_benchmark_results\n",
    "\n",
    "plot_benchmark_results(\n",
    "    read_query_id,\n",
    "    read_result.series[\"sys_cpu_pct\"],\n",
    "    read_result.series[\"sys_mem_pct\"],\n",
    "    read_result.series[\"wall_ms\"],    \n",
    "    read_result.series[\"driver_ms\"],\n",
    "    read_result.series[\"mongo_rss_mb\"]\n",
    ")"
   ],
   "id": "ca81b4002a2f00a1",
   "outputs": [],
   "execution_count": null
  },
  {
   "metadata": {
    "jupyter": {
     "is_executing": true
    }
   },
   "cell_type": "code",
   "source": [
    "from src.benchmark.utils import plot_benchmark_results\n",
    "\n",
    "plot_benchmark_results(\n",
    "    write_query_id,\n",
    "    write_result.series[\"sys_cpu_pct\"],\n",
    "    write_result.series[\"sys_mem_pct\"],\n",
    "    write_result.series[\"wall_ms\"],    \n",
    "    write_result.series[\"driver_ms\"],\n",
    "    write_result.series[\"mongo_rss_mb\"]\n",
    ")"
   ],
   "id": "dbaca952a10eb50a",
   "outputs": [],
   "execution_count": null
  },
  {
   "metadata": {
    "jupyter": {
     "is_executing": true
    }
   },
   "cell_type": "code",
   "source": [
    "# TODOS:\n",
    "# In each iteration i have to random select the id, otherwise it  will be cahced\n",
    "# FIX QUERIES to bechmark\n",
    "# ADD BENCHMARK OF INSERT OPERATIONS\n",
    "\n",
    "# INDEX Benchmarking?\n",
    "# Tradeoff entre memory usage y latency\n",
    "# How is the indexing done? algorithm?"
   ],
   "id": "e49691d20977b6a2",
   "outputs": [],
   "execution_count": null
  },
  {
   "metadata": {},
   "cell_type": "markdown",
   "source": [
    "# MongoDB's internal Profiler\n",
    "\n",
    "Diagnosing MongoDB query behavior, useful for optimizing queries and indexes  "
   ],
   "id": "fa3465bba0ade3fd"
  },
  {
   "metadata": {
    "jupyter": {
     "is_executing": true
    }
   },
   "cell_type": "code",
   "source": [
    "# Deep dive in server-side execution\n",
    "def profiled_benchmark():\n",
    "    db.command('profile', 0)  # Disable first\n",
    "    db.system.profile.drop()  # Clear old data\n",
    "    db.command('profile', 2, slowms=0)  # Profile all operations\n",
    "    \n",
    "    # Run benchmark\n",
    "    for _ in range(1):\n",
    "        movies_col = db[\"movies\"]\n",
    "        _ = movies_col.find_one({}, {'_id': 0}) \n",
    "    \n",
    "    # Collect profile data\n",
    "    time.sleep(1)  # Ensure all ops are captured\n",
    "    profile_data = list(db.system.profile.find({\n",
    "        \"ns\": {\"$ne\": f\"{movies_col}.system.profile\"},\n",
    "        \"op\": {\"$in\": [\"query\", \"update\", \"insert\", \"delete\", \"command\"]},\n",
    "    }).sort(\"ts\", -1))\n",
    "    \n",
    "    analyzed_data = {\n",
    "        \"query_count\": len(profile_data),\n",
    "        \"avg_duration\": (sum(op.get(\"millis\", 0) for op in profile_data) / \n",
    "                       len(profile_data) if profile_data else 0),\n",
    "        \"operations\": []\n",
    "    }\n",
    "#   print(profile_data)\n",
    "  \n",
    "    for op in profile_data[:100]:  # Limit to first 100 ops\n",
    "        analyzed_data[\"operations\"].append({\n",
    "            \"operation\": op.get(\"op\"),\n",
    "            \"namespace\": op.get(\"ns\"),\n",
    "            \"duration_ms\": op.get(\"millis\", 0),\n",
    "            \"docs_examined\": op.get(\"docsExamined\", 0),\n",
    "            \"keys_examined\": op.get(\"keysExamined\", 0),\n",
    "            \"nreturned\": op.get(\"nreturned\", 0),\n",
    "            \"plan\": op.get(\"planSummary\", \"N/A\")\n",
    "        })\n",
    "        \n",
    "    return analyzed_data"
   ],
   "id": "2739824b3ecc9530",
   "outputs": [],
   "execution_count": null
  },
  {
   "metadata": {
    "jupyter": {
     "is_executing": true
    }
   },
   "cell_type": "code",
   "source": "profiled_benchmark()",
   "id": "638c072133f44a2f",
   "outputs": [],
   "execution_count": null
  },
  {
   "metadata": {},
   "cell_type": "markdown",
   "source": [
    "# Global server-wide metrics\n",
    "\n",
    "Server Status Global Info, useful for health dashboards"
   ],
   "id": "12c843616ccfc980"
  },
  {
   "metadata": {
    "jupyter": {
     "is_executing": true
    }
   },
   "cell_type": "code",
   "source": [
    "# serverStatus\n",
    "\n",
    "def extract_mongodb_benchmark_metrics(server_status):\n",
    "    uptime_sec = server_status.get('uptime', 1)\n",
    "    # MongoDB uses the WiredTiger storage engine (default since v3.2)\n",
    "    wiredtiger = server_status.get('wiredTiger', {})\n",
    "    opcounters = server_status.get('opcounters', {})\n",
    "\n",
    "    \n",
    "    # Query Efficiency\n",
    "    query_executor = server_status.get('queryExecutor', {})\n",
    "    scanned_objects = query_executor.get('scannedObjects', 1)\n",
    "    index_usage_ratio = (\n",
    "        (scanned_objects - query_executor.get('scanned', 0)) / \n",
    "        max(1, scanned_objects)\n",
    "    ) * 100  # Percentage of queries using indexes\n",
    "\n",
    "    # Throughput & Latency\n",
    "    metrics = {\n",
    "        'throughput': {\n",
    "            'reads_sec': opcounters.get('query', 0) / uptime_sec,\n",
    "            'writes_sec': (\n",
    "                opcounters.get('insert', 0) + \n",
    "                opcounters.get('update', 0) + \n",
    "                opcounters.get('delete', 0)\n",
    "            ) / uptime_sec,\n",
    "        },\n",
    "        'latency_ms': {\n",
    "            'read_avg': server_status.get('opLatencies', {}).get('reads', {}).get('latency', 0) / 1000,\n",
    "            'write_avg': server_status.get('opLatencies', {}).get('writes', {}).get('latency', 0) / 1000,\n",
    "            'disk_read_avg': wiredtiger.get('perf', {}).get('file_system_read_latency', 0),\n",
    "        },\n",
    "        'index_efficiency': {\n",
    "            'index_usage_percent': index_usage_ratio,\n",
    "            'cache_hit_ratio': (\n",
    "                wiredtiger.get('cache', {}).get('pages_requested', 1) - \n",
    "                wiredtiger.get('cache', {}).get('pages_read', 0)\n",
    "            ) / max(1, wiredtiger.get('cache', {}).get('pages_requested', 1)) * 100,\n",
    "        },\n",
    "        'concurrency': {\n",
    "            'active_connections': server_status.get('connections', {}).get('active', 0),\n",
    "            'locked_transactions': server_status.get('globalLock', {}).get('currentQueue', {}).get('writers', 0),\n",
    "        }\n",
    "    }\n",
    "    return metrics\n",
    "\n",
    "server_status = client.admin.command('serverStatus')\n",
    "pprint(extract_mongodb_benchmark_metrics(server_status))"
   ],
   "id": "a1e2fdfabf550129",
   "outputs": [],
   "execution_count": null
  },
  {
   "metadata": {
    "jupyter": {
     "is_executing": true
    }
   },
   "cell_type": "code",
   "source": "",
   "id": "341413ab7cfe3399",
   "outputs": [],
   "execution_count": null
  }
 ],
 "metadata": {
  "kernelspec": {
   "display_name": "Python 3",
   "language": "python",
   "name": "python3"
  },
  "language_info": {
   "codemirror_mode": {
    "name": "ipython",
    "version": 2
   },
   "file_extension": ".py",
   "mimetype": "text/x-python",
   "name": "python",
   "nbconvert_exporter": "python",
   "pygments_lexer": "ipython2",
   "version": "2.7.6"
  }
 },
 "nbformat": 4,
 "nbformat_minor": 5
}
